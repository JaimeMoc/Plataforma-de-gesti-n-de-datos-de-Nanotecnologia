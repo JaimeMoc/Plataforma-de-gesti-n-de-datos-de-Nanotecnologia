{
 "cells": [
  {
   "cell_type": "code",
   "execution_count": 0,
   "metadata": {
    "application/vnd.databricks.v1+cell": {
     "cellMetadata": {
      "byteLimit": 2048000,
      "rowLimit": 10000
     },
     "inputWidgets": {},
     "nuid": "7da2fe73-d695-4b53-9895-f925a2ac3bed",
     "showTitle": false,
     "tableResultSettingsMap": {},
     "title": ""
    }
   },
   "outputs": [
    {
     "output_type": "stream",
     "name": "stdout",
     "output_type": "stream",
     "text": [
      "Out[1]: True"
     ]
    }
   ],
   "source": [
    "dbutils.fs.mkdirs(\"/mnt/bronce\")\n",
    "dbutils.fs.mkdirs(\"/mnt/silver\")\n",
    "dbutils.fs.mkdirs(\"/mnt/gold\")"
   ]
  },
  {
   "cell_type": "code",
   "execution_count": 0,
   "metadata": {
    "application/vnd.databricks.v1+cell": {
     "cellMetadata": {
      "byteLimit": 2048000,
      "rowLimit": 10000
     },
     "inputWidgets": {},
     "nuid": "59730cbc-e860-4e03-92aa-0150fc9899fa",
     "showTitle": false,
     "tableResultSettingsMap": {},
     "title": ""
    }
   },
   "outputs": [
    {
     "output_type": "stream",
     "name": "stdout",
     "output_type": "stream",
     "text": [
      "+-----------+--------------------+--------+-------------------+-------------------+--------------+-----------+-------+--------+\n|id_material|              nombre| usuario|composicion_quimica|         aplicacion|fecha_creacion|temperatura|presion|duracion|\n+-----------+--------------------+--------+-------------------+-------------------+--------------+-----------+-------+--------+\n|        152|Micro esferas de ...|UsuarioB|                (C)|        Conductores|    2024-02-24|         42|    2.5|      30|\n|        975|Super tubos de plata|UsuarioA|             (SiO2)|Protectores solares|    2025-01-04|         20|    1.0|      50|\n|        898|Ultra esferas de ...|UsuarioB|                (C)|     Antimicrobiano|    2024-11-06|         32|    1.5|      20|\n|        480|Micro partículas ...|UsuarioB|            (Sm2O3)|Protectores solares|    2024-12-23|         15|    3.0|      30|\n|        247|Ultra láminas de ...|UsuarioA|              (ZnO)|Protectores solares|    2024-09-07|         20|    2.0|      20|\n|        846|Ultra esferas de oro|UsuarioA|            (Sm2O3)|           Sensores|    2024-12-22|         20|    1.5|      40|\n|        738|Nano láminas de p...|UsuarioA|               (Ag)|Protectores solares|    2025-01-08|         42|    3.0|      10|\n|        503|Ultra partículas ...|UsuarioB|               (Ti)|Protectores solares|    2024-03-08|          9|    2.0|      10|\n|        676|Micro láminas de ...|UsuarioA|               (Ag)|     Antimicrobiano|    2024-09-03|         42|    3.0|      50|\n|        754|Super partículas ...|UsuarioB|               (Au)|        Conductores|    2024-11-03|         15|    3.0|      20|\n|        337|Super láminas de ...|UsuarioA|             (SiO2)|      Fotocatálisis|    2024-03-25|         15|    2.5|      30|\n|        155|Super láminas de ...|UsuarioA|            (Sm2O3)|      Fotocatálisis|    2024-05-19|         20|    3.0|      10|\n|        190|Nano partículas d...|UsuarioA|            (Sm2O3)|           Sensores|    2024-07-15|         20|    1.0|      10|\n|        685|Micro esferas de ...|UsuarioB|                (C)|      Fotocatálisis|    2024-07-07|          9|    2.5|      10|\n|        284|Ultra esferas de ...|UsuarioA|              (ZnO)|     Antimicrobiano|    2024-05-29|         15|    2.5|      30|\n|        977|Micro esferas de ...|UsuarioA|               (Ti)|Protectores solares|    2025-01-04|         15|    3.0|      50|\n|        947| Nano tubos de cobre|UsuarioB|               (Ti)|           Sensores|    2024-02-15|          9|    3.0|      10|\n|        402|Ultra láminas de ...|UsuarioA|               (Au)|     Antimicrobiano|    2024-09-27|          9|    2.5|      50|\n|        672|Ultra esferas de ...|UsuarioB|               (Fe)|           Sensores|    2024-08-17|         42|    1.5|      30|\n|        559|Ultra partículas ...|UsuarioA|             (SiO2)|           Sensores|    2024-04-26|         32|    3.0|      50|\n+-----------+--------------------+--------+-------------------+-------------------+--------------+-----------+-------+--------+\nonly showing top 20 rows\n\n"
     ]
    }
   ],
   "source": [
    "# Cargar el archivo CSV en un DataFrame\n",
    "df = spark.read.csv(\"/FileStore/datos_streaming.csv\", header=True, inferSchema=True)\n",
    "\n",
    "# Mostrar las primeras filas del DataFrame\n",
    "df.show()"
   ]
  },
  {
   "cell_type": "code",
   "execution_count": 0,
   "metadata": {
    "application/vnd.databricks.v1+cell": {
     "cellMetadata": {
      "byteLimit": 2048000,
      "rowLimit": 10000
     },
     "inputWidgets": {},
     "nuid": "81f9a816-2ab8-4a4a-abc3-fc4eb8ff0554",
     "showTitle": false,
     "tableResultSettingsMap": {},
     "title": ""
    }
   },
   "outputs": [
    {
     "output_type": "stream",
     "name": "stdout",
     "output_type": "stream",
     "text": [
      "El DataFrame se ha guardado correctamente en la carpeta bronce.\n"
     ]
    }
   ],
   "source": [
    "# Guardar el DataFrame en la carpeta bronce\n",
    "df.write.mode(\"overwrite\").parquet(\"/mnt/bronce/datos_streaming.parquet\")\n",
    "\n",
    "print(\"El DataFrame se ha guardado correctamente en la carpeta bronce.\")"
   ]
  },
  {
   "cell_type": "code",
   "execution_count": 0,
   "metadata": {
    "application/vnd.databricks.v1+cell": {
     "cellMetadata": {
      "byteLimit": 2048000,
      "rowLimit": 10000
     },
     "inputWidgets": {},
     "nuid": "b0247156-45ba-4a0e-a837-04a837ae733d",
     "showTitle": false,
     "tableResultSettingsMap": {},
     "title": ""
    }
   },
   "outputs": [
    {
     "output_type": "stream",
     "name": "stdout",
     "output_type": "stream",
     "text": [
      "+-----------+--------------------+--------+-------------------+-------------------+--------------+-----------+-------+--------+\n|id_material|              nombre| usuario|composicion_quimica|         aplicacion|fecha_creacion|temperatura|presion|duracion|\n+-----------+--------------------+--------+-------------------+-------------------+--------------+-----------+-------+--------+\n|        152|Micro esferas de ...|UsuarioB|                (C)|        Conductores|    2024-02-24|         42|    2.5|      30|\n|        975|Super tubos de plata|UsuarioA|             (SiO2)|Protectores solares|    2025-01-04|         20|    1.0|      50|\n|        898|Ultra esferas de ...|UsuarioB|                (C)|     Antimicrobiano|    2024-11-06|         32|    1.5|      20|\n|        480|Micro partículas ...|UsuarioB|            (Sm2O3)|Protectores solares|    2024-12-23|         15|    3.0|      30|\n|        247|Ultra láminas de ...|UsuarioA|              (ZnO)|Protectores solares|    2024-09-07|         20|    2.0|      20|\n|        846|Ultra esferas de oro|UsuarioA|            (Sm2O3)|           Sensores|    2024-12-22|         20|    1.5|      40|\n|        738|Nano láminas de p...|UsuarioA|               (Ag)|Protectores solares|    2025-01-08|         42|    3.0|      10|\n|        503|Ultra partículas ...|UsuarioB|               (Ti)|Protectores solares|    2024-03-08|          9|    2.0|      10|\n|        676|Micro láminas de ...|UsuarioA|               (Ag)|     Antimicrobiano|    2024-09-03|         42|    3.0|      50|\n|        754|Super partículas ...|UsuarioB|               (Au)|        Conductores|    2024-11-03|         15|    3.0|      20|\n|        337|Super láminas de ...|UsuarioA|             (SiO2)|      Fotocatálisis|    2024-03-25|         15|    2.5|      30|\n|        155|Super láminas de ...|UsuarioA|            (Sm2O3)|      Fotocatálisis|    2024-05-19|         20|    3.0|      10|\n|        190|Nano partículas d...|UsuarioA|            (Sm2O3)|           Sensores|    2024-07-15|         20|    1.0|      10|\n|        685|Micro esferas de ...|UsuarioB|                (C)|      Fotocatálisis|    2024-07-07|          9|    2.5|      10|\n|        284|Ultra esferas de ...|UsuarioA|              (ZnO)|     Antimicrobiano|    2024-05-29|         15|    2.5|      30|\n|        977|Micro esferas de ...|UsuarioA|               (Ti)|Protectores solares|    2025-01-04|         15|    3.0|      50|\n|        947| Nano tubos de cobre|UsuarioB|               (Ti)|           Sensores|    2024-02-15|          9|    3.0|      10|\n|        402|Ultra láminas de ...|UsuarioA|               (Au)|     Antimicrobiano|    2024-09-27|          9|    2.5|      50|\n|        672|Ultra esferas de ...|UsuarioB|               (Fe)|           Sensores|    2024-08-17|         42|    1.5|      30|\n|        559|Ultra partículas ...|UsuarioA|             (SiO2)|           Sensores|    2024-04-26|         32|    3.0|      50|\n+-----------+--------------------+--------+-------------------+-------------------+--------------+-----------+-------+--------+\nonly showing top 20 rows\n\n"
     ]
    }
   ],
   "source": [
    "# Crear una vista temporal llamada 'vista_temporal'\n",
    "df.createOrReplaceTempView(\"vista_temporal\")\n",
    "\n",
    "# Ahora puedes usar SQL para consultar la vista temporal\n",
    "result = spark.sql(\"SELECT * FROM vista_temporal\")\n",
    "result.show()"
   ]
  },
  {
   "cell_type": "code",
   "execution_count": 0,
   "metadata": {
    "application/vnd.databricks.v1+cell": {
     "cellMetadata": {
      "byteLimit": 2048000,
      "implicitDf": true,
      "rowLimit": 10000
     },
     "inputWidgets": {},
     "nuid": "36de60cc-da96-49ea-af15-63637c404647",
     "showTitle": false,
     "tableResultSettingsMap": {},
     "title": ""
    }
   },
   "outputs": [
    {
     "output_type": "display_data",
     "data": {
      "text/html": [
       "<style scoped>\n",
       "  .table-result-container {\n",
       "    max-height: 300px;\n",
       "    overflow: auto;\n",
       "  }\n",
       "  table, th, td {\n",
       "    border: 1px solid black;\n",
       "    border-collapse: collapse;\n",
       "  }\n",
       "  th, td {\n",
       "    padding: 5px;\n",
       "  }\n",
       "  th {\n",
       "    text-align: left;\n",
       "  }\n",
       "</style><div class='table-result-container'><table class='table-result'><thead style='background-color: white'><tr><th>id_material</th><th>nombre</th><th>usuario</th><th>composicion_quimica</th><th>aplicacion</th><th>fecha_creacion</th><th>temperatura</th><th>presion</th><th>duracion</th></tr></thead><tbody><tr><td>152</td><td>Micro esferas de titanio</td><td>UsuarioB</td><td>(C)</td><td>Conductores</td><td>2024-02-24</td><td>42</td><td>2.5</td><td>30</td></tr><tr><td>975</td><td>Super tubos de plata</td><td>UsuarioA</td><td>(SiO2)</td><td>Protectores solares</td><td>2025-01-04</td><td>20</td><td>1.0</td><td>50</td></tr><tr><td>898</td><td>Ultra esferas de cobre</td><td>UsuarioB</td><td>(C)</td><td>Antimicrobiano</td><td>2024-11-06</td><td>32</td><td>1.5</td><td>20</td></tr><tr><td>480</td><td>Micro partículas de cobre</td><td>UsuarioB</td><td>(Sm2O3)</td><td>Protectores solares</td><td>2024-12-23</td><td>15</td><td>3.0</td><td>30</td></tr><tr><td>247</td><td>Ultra láminas de zinc</td><td>UsuarioA</td><td>(ZnO)</td><td>Protectores solares</td><td>2024-09-07</td><td>20</td><td>2.0</td><td>20</td></tr><tr><td>846</td><td>Ultra esferas de oro</td><td>UsuarioA</td><td>(Sm2O3)</td><td>Sensores</td><td>2024-12-22</td><td>20</td><td>1.5</td><td>40</td></tr><tr><td>738</td><td>Nano láminas de plata</td><td>UsuarioA</td><td>(Ag)</td><td>Protectores solares</td><td>2025-01-08</td><td>42</td><td>3.0</td><td>10</td></tr><tr><td>503</td><td>Ultra partículas de óxido de samario</td><td>UsuarioB</td><td>(Ti)</td><td>Protectores solares</td><td>2024-03-08</td><td>9</td><td>2.0</td><td>10</td></tr><tr><td>676</td><td>Micro láminas de zinc</td><td>UsuarioA</td><td>(Ag)</td><td>Antimicrobiano</td><td>2024-09-03</td><td>42</td><td>3.0</td><td>50</td></tr><tr><td>754</td><td>Super partículas de plata</td><td>UsuarioB</td><td>(Au)</td><td>Conductores</td><td>2024-11-03</td><td>15</td><td>3.0</td><td>20</td></tr><tr><td>337</td><td>Super láminas de zinc</td><td>UsuarioA</td><td>(SiO2)</td><td>Fotocatálisis</td><td>2024-03-25</td><td>15</td><td>2.5</td><td>30</td></tr><tr><td>155</td><td>Super láminas de carbono</td><td>UsuarioA</td><td>(Sm2O3)</td><td>Fotocatálisis</td><td>2024-05-19</td><td>20</td><td>3.0</td><td>10</td></tr><tr><td>190</td><td>Nano partículas de hierro</td><td>UsuarioA</td><td>(Sm2O3)</td><td>Sensores</td><td>2024-07-15</td><td>20</td><td>1.0</td><td>10</td></tr><tr><td>685</td><td>Micro esferas de zinc</td><td>UsuarioB</td><td>(C)</td><td>Fotocatálisis</td><td>2024-07-07</td><td>9</td><td>2.5</td><td>10</td></tr><tr><td>284</td><td>Ultra esferas de plata</td><td>UsuarioA</td><td>(ZnO)</td><td>Antimicrobiano</td><td>2024-05-29</td><td>15</td><td>2.5</td><td>30</td></tr><tr><td>977</td><td>Micro esferas de carbono</td><td>UsuarioA</td><td>(Ti)</td><td>Protectores solares</td><td>2025-01-04</td><td>15</td><td>3.0</td><td>50</td></tr><tr><td>947</td><td>Nano tubos de cobre</td><td>UsuarioB</td><td>(Ti)</td><td>Sensores</td><td>2024-02-15</td><td>9</td><td>3.0</td><td>10</td></tr><tr><td>402</td><td>Ultra láminas de sílice</td><td>UsuarioA</td><td>(Au)</td><td>Antimicrobiano</td><td>2024-09-27</td><td>9</td><td>2.5</td><td>50</td></tr><tr><td>672</td><td>Ultra esferas de óxido de samario</td><td>UsuarioB</td><td>(Fe)</td><td>Sensores</td><td>2024-08-17</td><td>42</td><td>1.5</td><td>30</td></tr><tr><td>559</td><td>Ultra partículas de óxido de samario</td><td>UsuarioA</td><td>(SiO2)</td><td>Sensores</td><td>2024-04-26</td><td>32</td><td>3.0</td><td>50</td></tr><tr><td>448</td><td>Ultra partículas de óxido de samario</td><td>UsuarioA</td><td>(C)</td><td>Fotocatálisis</td><td>2024-04-17</td><td>42</td><td>2.5</td><td>20</td></tr><tr><td>189</td><td>Super partículas de sílice</td><td>UsuarioA</td><td>(Sm2O3)</td><td>Conductores</td><td>2024-04-18</td><td>42</td><td>2.0</td><td>50</td></tr><tr><td>583</td><td>Ultra esferas de oro</td><td>UsuarioB</td><td>(ZnO)</td><td>Fotocatálisis</td><td>2024-12-07</td><td>15</td><td>2.5</td><td>30</td></tr><tr><td>883</td><td>Ultra esferas de carbono</td><td>UsuarioA</td><td>(Fe)</td><td>Conductores</td><td>2025-01-05</td><td>9</td><td>1.5</td><td>10</td></tr><tr><td>285</td><td>Ultra partículas de titanio</td><td>UsuarioB</td><td>(C)</td><td>Fotocatálisis</td><td>2024-05-15</td><td>20</td><td>2.5</td><td>50</td></tr><tr><td>482</td><td>Nano partículas de titanio</td><td>UsuarioA</td><td>(Sm2O3)</td><td>Antimicrobiano</td><td>2024-12-21</td><td>15</td><td>1.5</td><td>10</td></tr><tr><td>134</td><td>Ultra tubos de oro</td><td>UsuarioA</td><td>(Fe)</td><td>Sensores</td><td>2024-10-02</td><td>15</td><td>2.5</td><td>30</td></tr><tr><td>329</td><td>Nano partículas de cobre</td><td>UsuarioA</td><td>(SiO2)</td><td>Conductores</td><td>2024-07-05</td><td>20</td><td>3.0</td><td>50</td></tr><tr><td>21</td><td>Nano láminas de zinc</td><td>UsuarioA</td><td>(Au)</td><td>Sensores</td><td>2024-03-28</td><td>32</td><td>1.5</td><td>30</td></tr><tr><td>472</td><td>Micro láminas de cobre</td><td>UsuarioA</td><td>(Cu)</td><td>Antimicrobiano</td><td>2024-08-15</td><td>9</td><td>2.5</td><td>20</td></tr><tr><td>450</td><td>Nano esferas de zinc</td><td>UsuarioA</td><td>(Fe)</td><td>Fotocatálisis</td><td>2024-11-30</td><td>32</td><td>3.0</td><td>20</td></tr><tr><td>152</td><td>Nano esferas de titanio</td><td>UsuarioB</td><td>(Ag)</td><td>Sensores</td><td>2024-03-19</td><td>9</td><td>3.0</td><td>20</td></tr><tr><td>946</td><td>Nano tubos de carbono</td><td>UsuarioA</td><td>(C)</td><td>Sensores</td><td>2024-08-25</td><td>9</td><td>1.5</td><td>30</td></tr><tr><td>18</td><td>Super tubos de zinc</td><td>UsuarioA</td><td>(Au)</td><td>Fotocatálisis</td><td>2024-09-22</td><td>20</td><td>1.5</td><td>30</td></tr><tr><td>58</td><td>Super tubos de hierro</td><td>UsuarioA</td><td>(Au)</td><td>Antimicrobiano</td><td>2024-04-04</td><td>42</td><td>2.5</td><td>10</td></tr><tr><td>681</td><td>Nano esferas de óxido de samario</td><td>UsuarioB</td><td>(Ti)</td><td>Protectores solares</td><td>2024-02-14</td><td>32</td><td>3.0</td><td>10</td></tr><tr><td>367</td><td>Super tubos de hierro</td><td>UsuarioB</td><td>(Cu)</td><td>Antimicrobiano</td><td>2024-02-08</td><td>20</td><td>2.5</td><td>10</td></tr><tr><td>755</td><td>Super tubos de cobre</td><td>UsuarioB</td><td>(ZnO)</td><td>Conductores</td><td>2024-08-02</td><td>20</td><td>2.0</td><td>30</td></tr><tr><td>54</td><td>Micro partículas de hierro</td><td>UsuarioA</td><td>(Au)</td><td>Conductores</td><td>2024-04-20</td><td>20</td><td>2.0</td><td>10</td></tr><tr><td>734</td><td>Micro esferas de cobre</td><td>UsuarioB</td><td>(ZnO)</td><td>Sensores</td><td>2024-02-12</td><td>32</td><td>2.5</td><td>20</td></tr><tr><td>904</td><td>Nano partículas de sílice</td><td>UsuarioA</td><td>(Ag)</td><td>Conductores</td><td>2024-02-01</td><td>32</td><td>1.0</td><td>10</td></tr><tr><td>741</td><td>Ultra partículas de sílice</td><td>UsuarioA</td><td>(ZnO)</td><td>Fotocatálisis</td><td>2024-05-18</td><td>32</td><td>2.0</td><td>30</td></tr><tr><td>790</td><td>Micro partículas de cobre</td><td>UsuarioA</td><td>(Au)</td><td>Sensores</td><td>2024-07-06</td><td>15</td><td>2.5</td><td>50</td></tr><tr><td>826</td><td>Nano esferas de plata</td><td>UsuarioB</td><td>(Fe)</td><td>Protectores solares</td><td>2024-03-26</td><td>42</td><td>2.0</td><td>50</td></tr><tr><td>404</td><td>Micro láminas de hierro</td><td>UsuarioA</td><td>(Ag)</td><td>Protectores solares</td><td>2024-11-26</td><td>15</td><td>2.0</td><td>40</td></tr><tr><td>445</td><td>Super partículas de carbono</td><td>UsuarioA</td><td>(Sm2O3)</td><td>Protectores solares</td><td>2024-07-04</td><td>32</td><td>1.0</td><td>20</td></tr><tr><td>895</td><td>Nano láminas de titanio</td><td>UsuarioB</td><td>(Au)</td><td>Sensores</td><td>2024-02-14</td><td>20</td><td>3.0</td><td>40</td></tr><tr><td>410</td><td>Super esferas de zinc</td><td>UsuarioB</td><td>(Ti)</td><td>Conductores</td><td>2024-05-04</td><td>32</td><td>1.0</td><td>40</td></tr><tr><td>931</td><td>Nano láminas de óxido de samario</td><td>UsuarioA</td><td>(Cu)</td><td>Antimicrobiano</td><td>2024-08-24</td><td>42</td><td>1.5</td><td>10</td></tr><tr><td>709</td><td>Super esferas de zinc</td><td>UsuarioB</td><td>(C)</td><td>Antimicrobiano</td><td>2024-03-15</td><td>15</td><td>3.0</td><td>20</td></tr><tr><td>607</td><td>Super partículas de hierro</td><td>UsuarioA</td><td>(Sm2O3)</td><td>Protectores solares</td><td>2024-06-03</td><td>20</td><td>1.5</td><td>40</td></tr><tr><td>159</td><td>Ultra partículas de titanio</td><td>UsuarioB</td><td>(Fe)</td><td>Antimicrobiano</td><td>2024-01-15</td><td>9</td><td>2.5</td><td>30</td></tr><tr><td>634</td><td>Ultra tubos de cobre</td><td>UsuarioA</td><td>(Cu)</td><td>Fotocatálisis</td><td>2024-06-11</td><td>15</td><td>2.5</td><td>30</td></tr><tr><td>645</td><td>Ultra láminas de carbono</td><td>UsuarioB</td><td>(Ti)</td><td>Protectores solares</td><td>2024-05-29</td><td>42</td><td>2.0</td><td>50</td></tr><tr><td>337</td><td>Super esferas de titanio</td><td>UsuarioB</td><td>(SiO2)</td><td>Protectores solares</td><td>2024-06-29</td><td>32</td><td>2.0</td><td>40</td></tr><tr><td>862</td><td>Nano partículas de óxido de samario</td><td>UsuarioB</td><td>(Au)</td><td>Sensores</td><td>2024-09-01</td><td>32</td><td>2.0</td><td>10</td></tr><tr><td>291</td><td>Ultra esferas de hierro</td><td>UsuarioB</td><td>(Cu)</td><td>Sensores</td><td>2024-06-08</td><td>15</td><td>2.5</td><td>40</td></tr><tr><td>159</td><td>Ultra esferas de óxido de samario</td><td>UsuarioA</td><td>(Fe)</td><td>Antimicrobiano</td><td>2024-12-16</td><td>9</td><td>3.0</td><td>10</td></tr><tr><td>963</td><td>Ultra esferas de oro</td><td>UsuarioA</td><td>(SiO2)</td><td>Conductores</td><td>2024-09-21</td><td>20</td><td>2.0</td><td>40</td></tr><tr><td>774</td><td>Ultra esferas de hierro</td><td>UsuarioB</td><td>(Sm2O3)</td><td>Protectores solares</td><td>2024-04-17</td><td>15</td><td>2.0</td><td>40</td></tr><tr><td>377</td><td>Ultra tubos de óxido de samario</td><td>UsuarioB</td><td>(C)</td><td>Protectores solares</td><td>2024-12-27</td><td>9</td><td>2.5</td><td>20</td></tr><tr><td>423</td><td>Super tubos de óxido de samario</td><td>UsuarioA</td><td>(Sm2O3)</td><td>Protectores solares</td><td>2024-06-24</td><td>15</td><td>2.0</td><td>10</td></tr><tr><td>292</td><td>Super tubos de hierro</td><td>UsuarioA</td><td>(Ti)</td><td>Sensores</td><td>2024-07-04</td><td>20</td><td>3.0</td><td>30</td></tr><tr><td>101</td><td>Micro esferas de sílice</td><td>UsuarioA</td><td>(C)</td><td>Sensores</td><td>2024-04-29</td><td>9</td><td>1.5</td><td>20</td></tr><tr><td>689</td><td>Ultra esferas de cobre</td><td>UsuarioA</td><td>(SiO2)</td><td>Fotocatálisis</td><td>2024-07-15</td><td>15</td><td>1.0</td><td>20</td></tr><tr><td>580</td><td>Super láminas de oro</td><td>UsuarioB</td><td>(Sm2O3)</td><td>Conductores</td><td>2024-05-24</td><td>15</td><td>2.5</td><td>40</td></tr><tr><td>818</td><td>Nano esferas de oro</td><td>UsuarioB</td><td>(Ti)</td><td>Fotocatálisis</td><td>2025-01-04</td><td>15</td><td>3.0</td><td>40</td></tr><tr><td>456</td><td>Super láminas de hierro</td><td>UsuarioB</td><td>(Ag)</td><td>Fotocatálisis</td><td>2024-09-25</td><td>32</td><td>1.0</td><td>30</td></tr><tr><td>61</td><td>Super partículas de oro</td><td>UsuarioA</td><td>(C)</td><td>Sensores</td><td>2024-11-21</td><td>32</td><td>2.5</td><td>20</td></tr><tr><td>302</td><td>Super esferas de óxido de samario</td><td>UsuarioA</td><td>(SiO2)</td><td>Sensores</td><td>2024-09-22</td><td>15</td><td>2.5</td><td>10</td></tr><tr><td>433</td><td>Nano tubos de oro</td><td>UsuarioA</td><td>(Sm2O3)</td><td>Conductores</td><td>2024-05-06</td><td>9</td><td>3.0</td><td>50</td></tr><tr><td>516</td><td>Micro láminas de plata</td><td>UsuarioA</td><td>(Fe)</td><td>Antimicrobiano</td><td>2024-01-31</td><td>9</td><td>2.5</td><td>10</td></tr><tr><td>427</td><td>Ultra tubos de oro</td><td>UsuarioA</td><td>(Cu)</td><td>Antimicrobiano</td><td>2024-05-08</td><td>32</td><td>1.0</td><td>30</td></tr><tr><td>685</td><td>Ultra esferas de plata</td><td>UsuarioB</td><td>(C)</td><td>Protectores solares</td><td>2024-06-04</td><td>42</td><td>2.0</td><td>20</td></tr><tr><td>655</td><td>Nano esferas de plata</td><td>UsuarioA</td><td>(SiO2)</td><td>Sensores</td><td>2024-10-29</td><td>32</td><td>1.0</td><td>40</td></tr><tr><td>645</td><td>Super esferas de carbono</td><td>UsuarioB</td><td>(Cu)</td><td>Sensores</td><td>2024-06-21</td><td>20</td><td>1.0</td><td>40</td></tr><tr><td>450</td><td>Super tubos de hierro</td><td>UsuarioB</td><td>(SiO2)</td><td>Fotocatálisis</td><td>2024-06-25</td><td>32</td><td>1.5</td><td>50</td></tr><tr><td>266</td><td>Micro láminas de zinc</td><td>UsuarioA</td><td>(Cu)</td><td>Fotocatálisis</td><td>2024-05-21</td><td>9</td><td>2.0</td><td>50</td></tr><tr><td>91</td><td>Nano esferas de titanio</td><td>UsuarioB</td><td>(Fe)</td><td>Protectores solares</td><td>2024-11-11</td><td>42</td><td>1.0</td><td>50</td></tr><tr><td>514</td><td>Nano partículas de carbono</td><td>UsuarioB</td><td>(ZnO)</td><td>Fotocatálisis</td><td>2024-03-09</td><td>20</td><td>2.0</td><td>50</td></tr><tr><td>356</td><td>Micro tubos de zinc</td><td>UsuarioA</td><td>(C)</td><td>Sensores</td><td>2024-07-06</td><td>20</td><td>1.0</td><td>30</td></tr><tr><td>372</td><td>Ultra tubos de carbono</td><td>UsuarioA</td><td>(Au)</td><td>Protectores solares</td><td>2024-09-03</td><td>42</td><td>3.0</td><td>50</td></tr><tr><td>885</td><td>Ultra partículas de carbono</td><td>UsuarioB</td><td>(Ag)</td><td>Protectores solares</td><td>2024-01-18</td><td>15</td><td>1.0</td><td>50</td></tr><tr><td>410</td><td>Super tubos de óxido de samario</td><td>UsuarioA</td><td>(Cu)</td><td>Protectores solares</td><td>2024-09-05</td><td>42</td><td>3.0</td><td>30</td></tr><tr><td>783</td><td>Super esferas de plata</td><td>UsuarioB</td><td>(Sm2O3)</td><td>Antimicrobiano</td><td>2024-03-31</td><td>15</td><td>1.0</td><td>20</td></tr><tr><td>810</td><td>Nano esferas de zinc</td><td>UsuarioB</td><td>(C)</td><td>Sensores</td><td>2024-04-20</td><td>9</td><td>1.0</td><td>30</td></tr><tr><td>575</td><td>Micro láminas de zinc</td><td>UsuarioB</td><td>(C)</td><td>Conductores</td><td>2024-04-29</td><td>42</td><td>2.5</td><td>10</td></tr><tr><td>456</td><td>Micro tubos de plata</td><td>UsuarioA</td><td>(C)</td><td>Fotocatálisis</td><td>2024-03-02</td><td>42</td><td>1.0</td><td>40</td></tr><tr><td>390</td><td>Nano láminas de plata</td><td>UsuarioB</td><td>(Au)</td><td>Antimicrobiano</td><td>2024-06-15</td><td>32</td><td>1.5</td><td>10</td></tr><tr><td>728</td><td>Ultra partículas de plata</td><td>UsuarioB</td><td>(Cu)</td><td>Conductores</td><td>2025-01-05</td><td>42</td><td>1.0</td><td>40</td></tr><tr><td>842</td><td>Super tubos de óxido de samario</td><td>UsuarioA</td><td>(C)</td><td>Conductores</td><td>2024-03-29</td><td>32</td><td>2.5</td><td>40</td></tr><tr><td>614</td><td>Nano tubos de titanio</td><td>UsuarioA</td><td>(ZnO)</td><td>Fotocatálisis</td><td>2024-02-09</td><td>32</td><td>1.0</td><td>30</td></tr><tr><td>981</td><td>Super tubos de plata</td><td>UsuarioA</td><td>(SiO2)</td><td>Fotocatálisis</td><td>2024-05-14</td><td>32</td><td>1.0</td><td>20</td></tr><tr><td>569</td><td>Micro esferas de hierro</td><td>UsuarioA</td><td>(Ti)</td><td>Sensores</td><td>2024-03-20</td><td>20</td><td>1.0</td><td>50</td></tr><tr><td>821</td><td>Super tubos de titanio</td><td>UsuarioA</td><td>(Fe)</td><td>Conductores</td><td>2024-09-08</td><td>9</td><td>1.5</td><td>30</td></tr><tr><td>192</td><td>Nano tubos de hierro</td><td>UsuarioB</td><td>(Ag)</td><td>Protectores solares</td><td>2024-07-28</td><td>32</td><td>3.0</td><td>10</td></tr><tr><td>73</td><td>Super láminas de cobre</td><td>UsuarioB</td><td>(C)</td><td>Sensores</td><td>2024-07-13</td><td>20</td><td>1.0</td><td>50</td></tr><tr><td>104</td><td>Super esferas de sílice</td><td>UsuarioB</td><td>(Fe)</td><td>Antimicrobiano</td><td>2024-07-25</td><td>20</td><td>1.0</td><td>30</td></tr><tr><td>128</td><td>Nano tubos de oro</td><td>UsuarioB</td><td>(ZnO)</td><td>Sensores</td><td>2024-02-08</td><td>15</td><td>2.0</td><td>20</td></tr><tr><td>119</td><td>Micro tubos de cobre</td><td>UsuarioA</td><td>(Ag)</td><td>Fotocatálisis</td><td>2024-12-17</td><td>42</td><td>2.5</td><td>30</td></tr></tbody></table></div>"
      ]
     },
     "metadata": {
      "application/vnd.databricks.v1+output": {
       "addedWidgets": {},
       "aggData": [],
       "aggError": "",
       "aggOverflow": false,
       "aggSchema": [],
       "aggSeriesLimitReached": false,
       "aggType": "",
       "arguments": {},
       "columnCustomDisplayInfos": {},
       "data": [
        [
         152,
         "Micro esferas de titanio",
         "UsuarioB",
         "(C)",
         "Conductores",
         "2024-02-24",
         42,
         2.5,
         30
        ],
        [
         975,
         "Super tubos de plata",
         "UsuarioA",
         "(SiO2)",
         "Protectores solares",
         "2025-01-04",
         20,
         1.0,
         50
        ],
        [
         898,
         "Ultra esferas de cobre",
         "UsuarioB",
         "(C)",
         "Antimicrobiano",
         "2024-11-06",
         32,
         1.5,
         20
        ],
        [
         480,
         "Micro partículas de cobre",
         "UsuarioB",
         "(Sm2O3)",
         "Protectores solares",
         "2024-12-23",
         15,
         3.0,
         30
        ],
        [
         247,
         "Ultra láminas de zinc",
         "UsuarioA",
         "(ZnO)",
         "Protectores solares",
         "2024-09-07",
         20,
         2.0,
         20
        ],
        [
         846,
         "Ultra esferas de oro",
         "UsuarioA",
         "(Sm2O3)",
         "Sensores",
         "2024-12-22",
         20,
         1.5,
         40
        ],
        [
         738,
         "Nano láminas de plata",
         "UsuarioA",
         "(Ag)",
         "Protectores solares",
         "2025-01-08",
         42,
         3.0,
         10
        ],
        [
         503,
         "Ultra partículas de óxido de samario",
         "UsuarioB",
         "(Ti)",
         "Protectores solares",
         "2024-03-08",
         9,
         2.0,
         10
        ],
        [
         676,
         "Micro láminas de zinc",
         "UsuarioA",
         "(Ag)",
         "Antimicrobiano",
         "2024-09-03",
         42,
         3.0,
         50
        ],
        [
         754,
         "Super partículas de plata",
         "UsuarioB",
         "(Au)",
         "Conductores",
         "2024-11-03",
         15,
         3.0,
         20
        ],
        [
         337,
         "Super láminas de zinc",
         "UsuarioA",
         "(SiO2)",
         "Fotocatálisis",
         "2024-03-25",
         15,
         2.5,
         30
        ],
        [
         155,
         "Super láminas de carbono",
         "UsuarioA",
         "(Sm2O3)",
         "Fotocatálisis",
         "2024-05-19",
         20,
         3.0,
         10
        ],
        [
         190,
         "Nano partículas de hierro",
         "UsuarioA",
         "(Sm2O3)",
         "Sensores",
         "2024-07-15",
         20,
         1.0,
         10
        ],
        [
         685,
         "Micro esferas de zinc",
         "UsuarioB",
         "(C)",
         "Fotocatálisis",
         "2024-07-07",
         9,
         2.5,
         10
        ],
        [
         284,
         "Ultra esferas de plata",
         "UsuarioA",
         "(ZnO)",
         "Antimicrobiano",
         "2024-05-29",
         15,
         2.5,
         30
        ],
        [
         977,
         "Micro esferas de carbono",
         "UsuarioA",
         "(Ti)",
         "Protectores solares",
         "2025-01-04",
         15,
         3.0,
         50
        ],
        [
         947,
         "Nano tubos de cobre",
         "UsuarioB",
         "(Ti)",
         "Sensores",
         "2024-02-15",
         9,
         3.0,
         10
        ],
        [
         402,
         "Ultra láminas de sílice",
         "UsuarioA",
         "(Au)",
         "Antimicrobiano",
         "2024-09-27",
         9,
         2.5,
         50
        ],
        [
         672,
         "Ultra esferas de óxido de samario",
         "UsuarioB",
         "(Fe)",
         "Sensores",
         "2024-08-17",
         42,
         1.5,
         30
        ],
        [
         559,
         "Ultra partículas de óxido de samario",
         "UsuarioA",
         "(SiO2)",
         "Sensores",
         "2024-04-26",
         32,
         3.0,
         50
        ],
        [
         448,
         "Ultra partículas de óxido de samario",
         "UsuarioA",
         "(C)",
         "Fotocatálisis",
         "2024-04-17",
         42,
         2.5,
         20
        ],
        [
         189,
         "Super partículas de sílice",
         "UsuarioA",
         "(Sm2O3)",
         "Conductores",
         "2024-04-18",
         42,
         2.0,
         50
        ],
        [
         583,
         "Ultra esferas de oro",
         "UsuarioB",
         "(ZnO)",
         "Fotocatálisis",
         "2024-12-07",
         15,
         2.5,
         30
        ],
        [
         883,
         "Ultra esferas de carbono",
         "UsuarioA",
         "(Fe)",
         "Conductores",
         "2025-01-05",
         9,
         1.5,
         10
        ],
        [
         285,
         "Ultra partículas de titanio",
         "UsuarioB",
         "(C)",
         "Fotocatálisis",
         "2024-05-15",
         20,
         2.5,
         50
        ],
        [
         482,
         "Nano partículas de titanio",
         "UsuarioA",
         "(Sm2O3)",
         "Antimicrobiano",
         "2024-12-21",
         15,
         1.5,
         10
        ],
        [
         134,
         "Ultra tubos de oro",
         "UsuarioA",
         "(Fe)",
         "Sensores",
         "2024-10-02",
         15,
         2.5,
         30
        ],
        [
         329,
         "Nano partículas de cobre",
         "UsuarioA",
         "(SiO2)",
         "Conductores",
         "2024-07-05",
         20,
         3.0,
         50
        ],
        [
         21,
         "Nano láminas de zinc",
         "UsuarioA",
         "(Au)",
         "Sensores",
         "2024-03-28",
         32,
         1.5,
         30
        ],
        [
         472,
         "Micro láminas de cobre",
         "UsuarioA",
         "(Cu)",
         "Antimicrobiano",
         "2024-08-15",
         9,
         2.5,
         20
        ],
        [
         450,
         "Nano esferas de zinc",
         "UsuarioA",
         "(Fe)",
         "Fotocatálisis",
         "2024-11-30",
         32,
         3.0,
         20
        ],
        [
         152,
         "Nano esferas de titanio",
         "UsuarioB",
         "(Ag)",
         "Sensores",
         "2024-03-19",
         9,
         3.0,
         20
        ],
        [
         946,
         "Nano tubos de carbono",
         "UsuarioA",
         "(C)",
         "Sensores",
         "2024-08-25",
         9,
         1.5,
         30
        ],
        [
         18,
         "Super tubos de zinc",
         "UsuarioA",
         "(Au)",
         "Fotocatálisis",
         "2024-09-22",
         20,
         1.5,
         30
        ],
        [
         58,
         "Super tubos de hierro",
         "UsuarioA",
         "(Au)",
         "Antimicrobiano",
         "2024-04-04",
         42,
         2.5,
         10
        ],
        [
         681,
         "Nano esferas de óxido de samario",
         "UsuarioB",
         "(Ti)",
         "Protectores solares",
         "2024-02-14",
         32,
         3.0,
         10
        ],
        [
         367,
         "Super tubos de hierro",
         "UsuarioB",
         "(Cu)",
         "Antimicrobiano",
         "2024-02-08",
         20,
         2.5,
         10
        ],
        [
         755,
         "Super tubos de cobre",
         "UsuarioB",
         "(ZnO)",
         "Conductores",
         "2024-08-02",
         20,
         2.0,
         30
        ],
        [
         54,
         "Micro partículas de hierro",
         "UsuarioA",
         "(Au)",
         "Conductores",
         "2024-04-20",
         20,
         2.0,
         10
        ],
        [
         734,
         "Micro esferas de cobre",
         "UsuarioB",
         "(ZnO)",
         "Sensores",
         "2024-02-12",
         32,
         2.5,
         20
        ],
        [
         904,
         "Nano partículas de sílice",
         "UsuarioA",
         "(Ag)",
         "Conductores",
         "2024-02-01",
         32,
         1.0,
         10
        ],
        [
         741,
         "Ultra partículas de sílice",
         "UsuarioA",
         "(ZnO)",
         "Fotocatálisis",
         "2024-05-18",
         32,
         2.0,
         30
        ],
        [
         790,
         "Micro partículas de cobre",
         "UsuarioA",
         "(Au)",
         "Sensores",
         "2024-07-06",
         15,
         2.5,
         50
        ],
        [
         826,
         "Nano esferas de plata",
         "UsuarioB",
         "(Fe)",
         "Protectores solares",
         "2024-03-26",
         42,
         2.0,
         50
        ],
        [
         404,
         "Micro láminas de hierro",
         "UsuarioA",
         "(Ag)",
         "Protectores solares",
         "2024-11-26",
         15,
         2.0,
         40
        ],
        [
         445,
         "Super partículas de carbono",
         "UsuarioA",
         "(Sm2O3)",
         "Protectores solares",
         "2024-07-04",
         32,
         1.0,
         20
        ],
        [
         895,
         "Nano láminas de titanio",
         "UsuarioB",
         "(Au)",
         "Sensores",
         "2024-02-14",
         20,
         3.0,
         40
        ],
        [
         410,
         "Super esferas de zinc",
         "UsuarioB",
         "(Ti)",
         "Conductores",
         "2024-05-04",
         32,
         1.0,
         40
        ],
        [
         931,
         "Nano láminas de óxido de samario",
         "UsuarioA",
         "(Cu)",
         "Antimicrobiano",
         "2024-08-24",
         42,
         1.5,
         10
        ],
        [
         709,
         "Super esferas de zinc",
         "UsuarioB",
         "(C)",
         "Antimicrobiano",
         "2024-03-15",
         15,
         3.0,
         20
        ],
        [
         607,
         "Super partículas de hierro",
         "UsuarioA",
         "(Sm2O3)",
         "Protectores solares",
         "2024-06-03",
         20,
         1.5,
         40
        ],
        [
         159,
         "Ultra partículas de titanio",
         "UsuarioB",
         "(Fe)",
         "Antimicrobiano",
         "2024-01-15",
         9,
         2.5,
         30
        ],
        [
         634,
         "Ultra tubos de cobre",
         "UsuarioA",
         "(Cu)",
         "Fotocatálisis",
         "2024-06-11",
         15,
         2.5,
         30
        ],
        [
         645,
         "Ultra láminas de carbono",
         "UsuarioB",
         "(Ti)",
         "Protectores solares",
         "2024-05-29",
         42,
         2.0,
         50
        ],
        [
         337,
         "Super esferas de titanio",
         "UsuarioB",
         "(SiO2)",
         "Protectores solares",
         "2024-06-29",
         32,
         2.0,
         40
        ],
        [
         862,
         "Nano partículas de óxido de samario",
         "UsuarioB",
         "(Au)",
         "Sensores",
         "2024-09-01",
         32,
         2.0,
         10
        ],
        [
         291,
         "Ultra esferas de hierro",
         "UsuarioB",
         "(Cu)",
         "Sensores",
         "2024-06-08",
         15,
         2.5,
         40
        ],
        [
         159,
         "Ultra esferas de óxido de samario",
         "UsuarioA",
         "(Fe)",
         "Antimicrobiano",
         "2024-12-16",
         9,
         3.0,
         10
        ],
        [
         963,
         "Ultra esferas de oro",
         "UsuarioA",
         "(SiO2)",
         "Conductores",
         "2024-09-21",
         20,
         2.0,
         40
        ],
        [
         774,
         "Ultra esferas de hierro",
         "UsuarioB",
         "(Sm2O3)",
         "Protectores solares",
         "2024-04-17",
         15,
         2.0,
         40
        ],
        [
         377,
         "Ultra tubos de óxido de samario",
         "UsuarioB",
         "(C)",
         "Protectores solares",
         "2024-12-27",
         9,
         2.5,
         20
        ],
        [
         423,
         "Super tubos de óxido de samario",
         "UsuarioA",
         "(Sm2O3)",
         "Protectores solares",
         "2024-06-24",
         15,
         2.0,
         10
        ],
        [
         292,
         "Super tubos de hierro",
         "UsuarioA",
         "(Ti)",
         "Sensores",
         "2024-07-04",
         20,
         3.0,
         30
        ],
        [
         101,
         "Micro esferas de sílice",
         "UsuarioA",
         "(C)",
         "Sensores",
         "2024-04-29",
         9,
         1.5,
         20
        ],
        [
         689,
         "Ultra esferas de cobre",
         "UsuarioA",
         "(SiO2)",
         "Fotocatálisis",
         "2024-07-15",
         15,
         1.0,
         20
        ],
        [
         580,
         "Super láminas de oro",
         "UsuarioB",
         "(Sm2O3)",
         "Conductores",
         "2024-05-24",
         15,
         2.5,
         40
        ],
        [
         818,
         "Nano esferas de oro",
         "UsuarioB",
         "(Ti)",
         "Fotocatálisis",
         "2025-01-04",
         15,
         3.0,
         40
        ],
        [
         456,
         "Super láminas de hierro",
         "UsuarioB",
         "(Ag)",
         "Fotocatálisis",
         "2024-09-25",
         32,
         1.0,
         30
        ],
        [
         61,
         "Super partículas de oro",
         "UsuarioA",
         "(C)",
         "Sensores",
         "2024-11-21",
         32,
         2.5,
         20
        ],
        [
         302,
         "Super esferas de óxido de samario",
         "UsuarioA",
         "(SiO2)",
         "Sensores",
         "2024-09-22",
         15,
         2.5,
         10
        ],
        [
         433,
         "Nano tubos de oro",
         "UsuarioA",
         "(Sm2O3)",
         "Conductores",
         "2024-05-06",
         9,
         3.0,
         50
        ],
        [
         516,
         "Micro láminas de plata",
         "UsuarioA",
         "(Fe)",
         "Antimicrobiano",
         "2024-01-31",
         9,
         2.5,
         10
        ],
        [
         427,
         "Ultra tubos de oro",
         "UsuarioA",
         "(Cu)",
         "Antimicrobiano",
         "2024-05-08",
         32,
         1.0,
         30
        ],
        [
         685,
         "Ultra esferas de plata",
         "UsuarioB",
         "(C)",
         "Protectores solares",
         "2024-06-04",
         42,
         2.0,
         20
        ],
        [
         655,
         "Nano esferas de plata",
         "UsuarioA",
         "(SiO2)",
         "Sensores",
         "2024-10-29",
         32,
         1.0,
         40
        ],
        [
         645,
         "Super esferas de carbono",
         "UsuarioB",
         "(Cu)",
         "Sensores",
         "2024-06-21",
         20,
         1.0,
         40
        ],
        [
         450,
         "Super tubos de hierro",
         "UsuarioB",
         "(SiO2)",
         "Fotocatálisis",
         "2024-06-25",
         32,
         1.5,
         50
        ],
        [
         266,
         "Micro láminas de zinc",
         "UsuarioA",
         "(Cu)",
         "Fotocatálisis",
         "2024-05-21",
         9,
         2.0,
         50
        ],
        [
         91,
         "Nano esferas de titanio",
         "UsuarioB",
         "(Fe)",
         "Protectores solares",
         "2024-11-11",
         42,
         1.0,
         50
        ],
        [
         514,
         "Nano partículas de carbono",
         "UsuarioB",
         "(ZnO)",
         "Fotocatálisis",
         "2024-03-09",
         20,
         2.0,
         50
        ],
        [
         356,
         "Micro tubos de zinc",
         "UsuarioA",
         "(C)",
         "Sensores",
         "2024-07-06",
         20,
         1.0,
         30
        ],
        [
         372,
         "Ultra tubos de carbono",
         "UsuarioA",
         "(Au)",
         "Protectores solares",
         "2024-09-03",
         42,
         3.0,
         50
        ],
        [
         885,
         "Ultra partículas de carbono",
         "UsuarioB",
         "(Ag)",
         "Protectores solares",
         "2024-01-18",
         15,
         1.0,
         50
        ],
        [
         410,
         "Super tubos de óxido de samario",
         "UsuarioA",
         "(Cu)",
         "Protectores solares",
         "2024-09-05",
         42,
         3.0,
         30
        ],
        [
         783,
         "Super esferas de plata",
         "UsuarioB",
         "(Sm2O3)",
         "Antimicrobiano",
         "2024-03-31",
         15,
         1.0,
         20
        ],
        [
         810,
         "Nano esferas de zinc",
         "UsuarioB",
         "(C)",
         "Sensores",
         "2024-04-20",
         9,
         1.0,
         30
        ],
        [
         575,
         "Micro láminas de zinc",
         "UsuarioB",
         "(C)",
         "Conductores",
         "2024-04-29",
         42,
         2.5,
         10
        ],
        [
         456,
         "Micro tubos de plata",
         "UsuarioA",
         "(C)",
         "Fotocatálisis",
         "2024-03-02",
         42,
         1.0,
         40
        ],
        [
         390,
         "Nano láminas de plata",
         "UsuarioB",
         "(Au)",
         "Antimicrobiano",
         "2024-06-15",
         32,
         1.5,
         10
        ],
        [
         728,
         "Ultra partículas de plata",
         "UsuarioB",
         "(Cu)",
         "Conductores",
         "2025-01-05",
         42,
         1.0,
         40
        ],
        [
         842,
         "Super tubos de óxido de samario",
         "UsuarioA",
         "(C)",
         "Conductores",
         "2024-03-29",
         32,
         2.5,
         40
        ],
        [
         614,
         "Nano tubos de titanio",
         "UsuarioA",
         "(ZnO)",
         "Fotocatálisis",
         "2024-02-09",
         32,
         1.0,
         30
        ],
        [
         981,
         "Super tubos de plata",
         "UsuarioA",
         "(SiO2)",
         "Fotocatálisis",
         "2024-05-14",
         32,
         1.0,
         20
        ],
        [
         569,
         "Micro esferas de hierro",
         "UsuarioA",
         "(Ti)",
         "Sensores",
         "2024-03-20",
         20,
         1.0,
         50
        ],
        [
         821,
         "Super tubos de titanio",
         "UsuarioA",
         "(Fe)",
         "Conductores",
         "2024-09-08",
         9,
         1.5,
         30
        ],
        [
         192,
         "Nano tubos de hierro",
         "UsuarioB",
         "(Ag)",
         "Protectores solares",
         "2024-07-28",
         32,
         3.0,
         10
        ],
        [
         73,
         "Super láminas de cobre",
         "UsuarioB",
         "(C)",
         "Sensores",
         "2024-07-13",
         20,
         1.0,
         50
        ],
        [
         104,
         "Super esferas de sílice",
         "UsuarioB",
         "(Fe)",
         "Antimicrobiano",
         "2024-07-25",
         20,
         1.0,
         30
        ],
        [
         128,
         "Nano tubos de oro",
         "UsuarioB",
         "(ZnO)",
         "Sensores",
         "2024-02-08",
         15,
         2.0,
         20
        ],
        [
         119,
         "Micro tubos de cobre",
         "UsuarioA",
         "(Ag)",
         "Fotocatálisis",
         "2024-12-17",
         42,
         2.5,
         30
        ]
       ],
       "datasetInfos": [],
       "dbfsResultPath": null,
       "isJsonSchema": true,
       "metadata": {},
       "overflow": false,
       "plotOptions": {
        "customPlotOptions": {},
        "displayType": "table",
        "pivotAggregation": null,
        "pivotColumns": null,
        "xColumns": null,
        "yColumns": null
       },
       "removedWidgets": [],
       "schema": [
        {
         "metadata": "{}",
         "name": "id_material",
         "type": "\"integer\""
        },
        {
         "metadata": "{}",
         "name": "nombre",
         "type": "\"string\""
        },
        {
         "metadata": "{}",
         "name": "usuario",
         "type": "\"string\""
        },
        {
         "metadata": "{}",
         "name": "composicion_quimica",
         "type": "\"string\""
        },
        {
         "metadata": "{}",
         "name": "aplicacion",
         "type": "\"string\""
        },
        {
         "metadata": "{\"__detected_date_formats\":\"yyyy-M-d\"}",
         "name": "fecha_creacion",
         "type": "\"date\""
        },
        {
         "metadata": "{}",
         "name": "temperatura",
         "type": "\"integer\""
        },
        {
         "metadata": "{}",
         "name": "presion",
         "type": "\"double\""
        },
        {
         "metadata": "{}",
         "name": "duracion",
         "type": "\"integer\""
        }
       ],
       "type": "table"
      }
     },
     "output_type": "display_data"
    }
   ],
   "source": [
    "%sql\n",
    "select * from vista_temporal;"
   ]
  },
  {
   "cell_type": "code",
   "execution_count": 0,
   "metadata": {
    "application/vnd.databricks.v1+cell": {
     "cellMetadata": {
      "byteLimit": 2048000,
      "rowLimit": 10000
     },
     "inputWidgets": {},
     "nuid": "4a9f7d47-3bd5-4e69-9400-834007efd1dc",
     "showTitle": false,
     "tableResultSettingsMap": {},
     "title": ""
    }
   },
   "outputs": [
    {
     "output_type": "stream",
     "name": "stdout",
     "output_type": "stream",
     "text": [
      "+-----------+--------------------+--------+-------------------+-------------------+--------------+-----------+-------+--------+\n|id_material|              nombre| usuario|composicion_quimica|         aplicacion|fecha_creacion|temperatura|presion|duracion|\n+-----------+--------------------+--------+-------------------+-------------------+--------------+-----------+-------+--------+\n|        448|Ultra partículas ...|UsuarioA|                (C)|      Fotocatálisis|    2024-04-17|         42|    2.5|      20|\n|        685|Micro esferas de ...|UsuarioB|                (C)|      Fotocatálisis|    2024-07-07|          9|    2.5|      10|\n|        977|Micro esferas de ...|UsuarioA|               (Ti)|Protectores solares|    2025-01-04|         15|    3.0|      50|\n|        846|Ultra esferas de oro|UsuarioA|            (Sm2O3)|           Sensores|    2024-12-22|         20|    1.5|      40|\n|        480|Micro partículas ...|UsuarioB|            (Sm2O3)|Protectores solares|    2024-12-23|         15|    3.0|      30|\n|        672|Ultra esferas de ...|UsuarioB|               (Fe)|           Sensores|    2024-08-17|         42|    1.5|      30|\n|        947| Nano tubos de cobre|UsuarioB|               (Ti)|           Sensores|    2024-02-15|          9|    3.0|      10|\n|        754|Super partículas ...|UsuarioB|               (Au)|        Conductores|    2024-11-03|         15|    3.0|      20|\n|        284|Ultra esferas de ...|UsuarioA|              (ZnO)|     Antimicrobiano|    2024-05-29|         15|    2.5|      30|\n|        559|Ultra partículas ...|UsuarioA|             (SiO2)|           Sensores|    2024-04-26|         32|    3.0|      50|\n|        337|Super láminas de ...|UsuarioA|             (SiO2)|      Fotocatálisis|    2024-03-25|         15|    2.5|      30|\n|        247|Ultra láminas de ...|UsuarioA|              (ZnO)|Protectores solares|    2024-09-07|         20|    2.0|      20|\n|        152|Micro esferas de ...|UsuarioB|                (C)|        Conductores|    2024-02-24|         42|    2.5|      30|\n|        975|Super tubos de plata|UsuarioA|             (SiO2)|Protectores solares|    2025-01-04|         20|    1.0|      50|\n|        738|Nano láminas de p...|UsuarioA|               (Ag)|Protectores solares|    2025-01-08|         42|    3.0|      10|\n|        676|Micro láminas de ...|UsuarioA|               (Ag)|     Antimicrobiano|    2024-09-03|         42|    3.0|      50|\n|        402|Ultra láminas de ...|UsuarioA|               (Au)|     Antimicrobiano|    2024-09-27|          9|    2.5|      50|\n|        190|Nano partículas d...|UsuarioA|            (Sm2O3)|           Sensores|    2024-07-15|         20|    1.0|      10|\n|        898|Ultra esferas de ...|UsuarioB|                (C)|     Antimicrobiano|    2024-11-06|         32|    1.5|      20|\n|        503|Ultra partículas ...|UsuarioB|               (Ti)|Protectores solares|    2024-03-08|          9|    2.0|      10|\n+-----------+--------------------+--------+-------------------+-------------------+--------------+-----------+-------+--------+\nonly showing top 20 rows\n\n"
     ]
    }
   ],
   "source": [
    "df_sin_duplicados = df.dropDuplicates()\n",
    "df_sin_duplicados.show()"
   ]
  },
  {
   "cell_type": "code",
   "execution_count": 0,
   "metadata": {
    "application/vnd.databricks.v1+cell": {
     "cellMetadata": {
      "byteLimit": 2048000,
      "rowLimit": 10000
     },
     "inputWidgets": {},
     "nuid": "83741c33-3bfc-4213-a6ee-24a0ddedb282",
     "showTitle": false,
     "tableResultSettingsMap": {},
     "title": ""
    }
   },
   "outputs": [
    {
     "output_type": "stream",
     "name": "stdout",
     "output_type": "stream",
     "text": [
      "+-------+-----------------+--------------------+--------+-------------------+--------------+------------------+------------------+------------------+\n|summary|      id_material|              nombre| usuario|composicion_quimica|    aplicacion|       temperatura|           presion|          duracion|\n+-------+-----------------+--------------------+--------+-------------------+--------------+------------------+------------------+------------------+\n|  count|              100|                 100|     100|                100|           100|               100|               100|               100|\n|   mean|           509.93|                null|    null|               null|          null|             23.63|             2.045|              29.4|\n| stddev|276.5284888605786|                null|    null|               null|          null|11.533574178602803|0.7285484392151482|14.271536976680808|\n|    min|               18|Micro esferas de ...|UsuarioA|               (Ag)|Antimicrobiano|                 9|               1.0|                10|\n|    max|              981|Ultra tubos de óx...|UsuarioB|              (ZnO)|      Sensores|                42|               3.0|                50|\n+-------+-----------------+--------------------+--------+-------------------+--------------+------------------+------------------+------------------+\n\n"
     ]
    }
   ],
   "source": [
    "df.describe().show()"
   ]
  },
  {
   "cell_type": "code",
   "execution_count": 0,
   "metadata": {
    "application/vnd.databricks.v1+cell": {
     "cellMetadata": {
      "byteLimit": 2048000,
      "rowLimit": 10000
     },
     "inputWidgets": {},
     "nuid": "aae7f672-4073-491a-bcec-7f023ab5f264",
     "showTitle": false,
     "tableResultSettingsMap": {},
     "title": ""
    }
   },
   "outputs": [],
   "source": [
    "from pyspark.sql.functions import udf\n",
    "from pyspark.sql.types import StringType\n",
    "\n",
    "def clasificar_temperatura(temp):\n",
    "    if temp > 30:\n",
    "        return \"Alta\"\n",
    "    elif temp > 15:\n",
    "        return \"Media\"\n",
    "    else:\n",
    "        return \"Baja\"\n",
    "\n",
    "clasificar_udf = udf(clasificar_temperatura, StringType())\n",
    "df_clasificado = df.withColumn(\"clasificacion_temperatura\", clasificar_udf(col(\"temperatura\")))"
   ]
  },
  {
   "cell_type": "code",
   "execution_count": 0,
   "metadata": {
    "application/vnd.databricks.v1+cell": {
     "cellMetadata": {
      "byteLimit": 2048000,
      "rowLimit": 10000
     },
     "inputWidgets": {},
     "nuid": "1e1dbfc1-eaa8-42a0-bd56-19f10cbd9e82",
     "showTitle": false,
     "tableResultSettingsMap": {},
     "title": ""
    }
   },
   "outputs": [],
   "source": [
    "# Crear una vista temporal llamada 'materiales_clasificados'\n",
    "df_clasificado.createOrReplaceTempView(\"materiales_clasificados\")"
   ]
  },
  {
   "cell_type": "code",
   "execution_count": 0,
   "metadata": {
    "application/vnd.databricks.v1+cell": {
     "cellMetadata": {
      "byteLimit": 2048000,
      "implicitDf": true,
      "rowLimit": 10000
     },
     "inputWidgets": {},
     "nuid": "a4757c22-69a1-4c76-b144-9e8430bc42fa",
     "showTitle": false,
     "tableResultSettingsMap": {},
     "title": ""
    }
   },
   "outputs": [
    {
     "output_type": "display_data",
     "data": {
      "text/html": [
       "<style scoped>\n",
       "  .table-result-container {\n",
       "    max-height: 300px;\n",
       "    overflow: auto;\n",
       "  }\n",
       "  table, th, td {\n",
       "    border: 1px solid black;\n",
       "    border-collapse: collapse;\n",
       "  }\n",
       "  th, td {\n",
       "    padding: 5px;\n",
       "  }\n",
       "  th {\n",
       "    text-align: left;\n",
       "  }\n",
       "</style><div class='table-result-container'><table class='table-result'><thead style='background-color: white'><tr><th>id_material</th><th>nombre</th><th>usuario</th><th>composicion_quimica</th><th>aplicacion</th><th>fecha_creacion</th><th>temperatura</th><th>presion</th><th>duracion</th><th>clasificacion_temperatura</th></tr></thead><tbody><tr><td>152</td><td>Micro esferas de titanio</td><td>UsuarioB</td><td>(C)</td><td>Conductores</td><td>2024-02-24</td><td>42</td><td>2.5</td><td>30</td><td>Alta</td></tr><tr><td>975</td><td>Super tubos de plata</td><td>UsuarioA</td><td>(SiO2)</td><td>Protectores solares</td><td>2025-01-04</td><td>20</td><td>1.0</td><td>50</td><td>Media</td></tr><tr><td>898</td><td>Ultra esferas de cobre</td><td>UsuarioB</td><td>(C)</td><td>Antimicrobiano</td><td>2024-11-06</td><td>32</td><td>1.5</td><td>20</td><td>Alta</td></tr><tr><td>480</td><td>Micro partículas de cobre</td><td>UsuarioB</td><td>(Sm2O3)</td><td>Protectores solares</td><td>2024-12-23</td><td>15</td><td>3.0</td><td>30</td><td>Baja</td></tr><tr><td>247</td><td>Ultra láminas de zinc</td><td>UsuarioA</td><td>(ZnO)</td><td>Protectores solares</td><td>2024-09-07</td><td>20</td><td>2.0</td><td>20</td><td>Media</td></tr><tr><td>846</td><td>Ultra esferas de oro</td><td>UsuarioA</td><td>(Sm2O3)</td><td>Sensores</td><td>2024-12-22</td><td>20</td><td>1.5</td><td>40</td><td>Media</td></tr><tr><td>738</td><td>Nano láminas de plata</td><td>UsuarioA</td><td>(Ag)</td><td>Protectores solares</td><td>2025-01-08</td><td>42</td><td>3.0</td><td>10</td><td>Alta</td></tr><tr><td>503</td><td>Ultra partículas de óxido de samario</td><td>UsuarioB</td><td>(Ti)</td><td>Protectores solares</td><td>2024-03-08</td><td>9</td><td>2.0</td><td>10</td><td>Baja</td></tr><tr><td>676</td><td>Micro láminas de zinc</td><td>UsuarioA</td><td>(Ag)</td><td>Antimicrobiano</td><td>2024-09-03</td><td>42</td><td>3.0</td><td>50</td><td>Alta</td></tr><tr><td>754</td><td>Super partículas de plata</td><td>UsuarioB</td><td>(Au)</td><td>Conductores</td><td>2024-11-03</td><td>15</td><td>3.0</td><td>20</td><td>Baja</td></tr><tr><td>337</td><td>Super láminas de zinc</td><td>UsuarioA</td><td>(SiO2)</td><td>Fotocatálisis</td><td>2024-03-25</td><td>15</td><td>2.5</td><td>30</td><td>Baja</td></tr><tr><td>155</td><td>Super láminas de carbono</td><td>UsuarioA</td><td>(Sm2O3)</td><td>Fotocatálisis</td><td>2024-05-19</td><td>20</td><td>3.0</td><td>10</td><td>Media</td></tr><tr><td>190</td><td>Nano partículas de hierro</td><td>UsuarioA</td><td>(Sm2O3)</td><td>Sensores</td><td>2024-07-15</td><td>20</td><td>1.0</td><td>10</td><td>Media</td></tr><tr><td>685</td><td>Micro esferas de zinc</td><td>UsuarioB</td><td>(C)</td><td>Fotocatálisis</td><td>2024-07-07</td><td>9</td><td>2.5</td><td>10</td><td>Baja</td></tr><tr><td>284</td><td>Ultra esferas de plata</td><td>UsuarioA</td><td>(ZnO)</td><td>Antimicrobiano</td><td>2024-05-29</td><td>15</td><td>2.5</td><td>30</td><td>Baja</td></tr><tr><td>977</td><td>Micro esferas de carbono</td><td>UsuarioA</td><td>(Ti)</td><td>Protectores solares</td><td>2025-01-04</td><td>15</td><td>3.0</td><td>50</td><td>Baja</td></tr><tr><td>947</td><td>Nano tubos de cobre</td><td>UsuarioB</td><td>(Ti)</td><td>Sensores</td><td>2024-02-15</td><td>9</td><td>3.0</td><td>10</td><td>Baja</td></tr><tr><td>402</td><td>Ultra láminas de sílice</td><td>UsuarioA</td><td>(Au)</td><td>Antimicrobiano</td><td>2024-09-27</td><td>9</td><td>2.5</td><td>50</td><td>Baja</td></tr><tr><td>672</td><td>Ultra esferas de óxido de samario</td><td>UsuarioB</td><td>(Fe)</td><td>Sensores</td><td>2024-08-17</td><td>42</td><td>1.5</td><td>30</td><td>Alta</td></tr><tr><td>559</td><td>Ultra partículas de óxido de samario</td><td>UsuarioA</td><td>(SiO2)</td><td>Sensores</td><td>2024-04-26</td><td>32</td><td>3.0</td><td>50</td><td>Alta</td></tr><tr><td>448</td><td>Ultra partículas de óxido de samario</td><td>UsuarioA</td><td>(C)</td><td>Fotocatálisis</td><td>2024-04-17</td><td>42</td><td>2.5</td><td>20</td><td>Alta</td></tr><tr><td>189</td><td>Super partículas de sílice</td><td>UsuarioA</td><td>(Sm2O3)</td><td>Conductores</td><td>2024-04-18</td><td>42</td><td>2.0</td><td>50</td><td>Alta</td></tr><tr><td>583</td><td>Ultra esferas de oro</td><td>UsuarioB</td><td>(ZnO)</td><td>Fotocatálisis</td><td>2024-12-07</td><td>15</td><td>2.5</td><td>30</td><td>Baja</td></tr><tr><td>883</td><td>Ultra esferas de carbono</td><td>UsuarioA</td><td>(Fe)</td><td>Conductores</td><td>2025-01-05</td><td>9</td><td>1.5</td><td>10</td><td>Baja</td></tr><tr><td>285</td><td>Ultra partículas de titanio</td><td>UsuarioB</td><td>(C)</td><td>Fotocatálisis</td><td>2024-05-15</td><td>20</td><td>2.5</td><td>50</td><td>Media</td></tr><tr><td>482</td><td>Nano partículas de titanio</td><td>UsuarioA</td><td>(Sm2O3)</td><td>Antimicrobiano</td><td>2024-12-21</td><td>15</td><td>1.5</td><td>10</td><td>Baja</td></tr><tr><td>134</td><td>Ultra tubos de oro</td><td>UsuarioA</td><td>(Fe)</td><td>Sensores</td><td>2024-10-02</td><td>15</td><td>2.5</td><td>30</td><td>Baja</td></tr><tr><td>329</td><td>Nano partículas de cobre</td><td>UsuarioA</td><td>(SiO2)</td><td>Conductores</td><td>2024-07-05</td><td>20</td><td>3.0</td><td>50</td><td>Media</td></tr><tr><td>21</td><td>Nano láminas de zinc</td><td>UsuarioA</td><td>(Au)</td><td>Sensores</td><td>2024-03-28</td><td>32</td><td>1.5</td><td>30</td><td>Alta</td></tr><tr><td>472</td><td>Micro láminas de cobre</td><td>UsuarioA</td><td>(Cu)</td><td>Antimicrobiano</td><td>2024-08-15</td><td>9</td><td>2.5</td><td>20</td><td>Baja</td></tr><tr><td>450</td><td>Nano esferas de zinc</td><td>UsuarioA</td><td>(Fe)</td><td>Fotocatálisis</td><td>2024-11-30</td><td>32</td><td>3.0</td><td>20</td><td>Alta</td></tr><tr><td>152</td><td>Nano esferas de titanio</td><td>UsuarioB</td><td>(Ag)</td><td>Sensores</td><td>2024-03-19</td><td>9</td><td>3.0</td><td>20</td><td>Baja</td></tr><tr><td>946</td><td>Nano tubos de carbono</td><td>UsuarioA</td><td>(C)</td><td>Sensores</td><td>2024-08-25</td><td>9</td><td>1.5</td><td>30</td><td>Baja</td></tr><tr><td>18</td><td>Super tubos de zinc</td><td>UsuarioA</td><td>(Au)</td><td>Fotocatálisis</td><td>2024-09-22</td><td>20</td><td>1.5</td><td>30</td><td>Media</td></tr><tr><td>58</td><td>Super tubos de hierro</td><td>UsuarioA</td><td>(Au)</td><td>Antimicrobiano</td><td>2024-04-04</td><td>42</td><td>2.5</td><td>10</td><td>Alta</td></tr><tr><td>681</td><td>Nano esferas de óxido de samario</td><td>UsuarioB</td><td>(Ti)</td><td>Protectores solares</td><td>2024-02-14</td><td>32</td><td>3.0</td><td>10</td><td>Alta</td></tr><tr><td>367</td><td>Super tubos de hierro</td><td>UsuarioB</td><td>(Cu)</td><td>Antimicrobiano</td><td>2024-02-08</td><td>20</td><td>2.5</td><td>10</td><td>Media</td></tr><tr><td>755</td><td>Super tubos de cobre</td><td>UsuarioB</td><td>(ZnO)</td><td>Conductores</td><td>2024-08-02</td><td>20</td><td>2.0</td><td>30</td><td>Media</td></tr><tr><td>54</td><td>Micro partículas de hierro</td><td>UsuarioA</td><td>(Au)</td><td>Conductores</td><td>2024-04-20</td><td>20</td><td>2.0</td><td>10</td><td>Media</td></tr><tr><td>734</td><td>Micro esferas de cobre</td><td>UsuarioB</td><td>(ZnO)</td><td>Sensores</td><td>2024-02-12</td><td>32</td><td>2.5</td><td>20</td><td>Alta</td></tr><tr><td>904</td><td>Nano partículas de sílice</td><td>UsuarioA</td><td>(Ag)</td><td>Conductores</td><td>2024-02-01</td><td>32</td><td>1.0</td><td>10</td><td>Alta</td></tr><tr><td>741</td><td>Ultra partículas de sílice</td><td>UsuarioA</td><td>(ZnO)</td><td>Fotocatálisis</td><td>2024-05-18</td><td>32</td><td>2.0</td><td>30</td><td>Alta</td></tr><tr><td>790</td><td>Micro partículas de cobre</td><td>UsuarioA</td><td>(Au)</td><td>Sensores</td><td>2024-07-06</td><td>15</td><td>2.5</td><td>50</td><td>Baja</td></tr><tr><td>826</td><td>Nano esferas de plata</td><td>UsuarioB</td><td>(Fe)</td><td>Protectores solares</td><td>2024-03-26</td><td>42</td><td>2.0</td><td>50</td><td>Alta</td></tr><tr><td>404</td><td>Micro láminas de hierro</td><td>UsuarioA</td><td>(Ag)</td><td>Protectores solares</td><td>2024-11-26</td><td>15</td><td>2.0</td><td>40</td><td>Baja</td></tr><tr><td>445</td><td>Super partículas de carbono</td><td>UsuarioA</td><td>(Sm2O3)</td><td>Protectores solares</td><td>2024-07-04</td><td>32</td><td>1.0</td><td>20</td><td>Alta</td></tr><tr><td>895</td><td>Nano láminas de titanio</td><td>UsuarioB</td><td>(Au)</td><td>Sensores</td><td>2024-02-14</td><td>20</td><td>3.0</td><td>40</td><td>Media</td></tr><tr><td>410</td><td>Super esferas de zinc</td><td>UsuarioB</td><td>(Ti)</td><td>Conductores</td><td>2024-05-04</td><td>32</td><td>1.0</td><td>40</td><td>Alta</td></tr><tr><td>931</td><td>Nano láminas de óxido de samario</td><td>UsuarioA</td><td>(Cu)</td><td>Antimicrobiano</td><td>2024-08-24</td><td>42</td><td>1.5</td><td>10</td><td>Alta</td></tr><tr><td>709</td><td>Super esferas de zinc</td><td>UsuarioB</td><td>(C)</td><td>Antimicrobiano</td><td>2024-03-15</td><td>15</td><td>3.0</td><td>20</td><td>Baja</td></tr><tr><td>607</td><td>Super partículas de hierro</td><td>UsuarioA</td><td>(Sm2O3)</td><td>Protectores solares</td><td>2024-06-03</td><td>20</td><td>1.5</td><td>40</td><td>Media</td></tr><tr><td>159</td><td>Ultra partículas de titanio</td><td>UsuarioB</td><td>(Fe)</td><td>Antimicrobiano</td><td>2024-01-15</td><td>9</td><td>2.5</td><td>30</td><td>Baja</td></tr><tr><td>634</td><td>Ultra tubos de cobre</td><td>UsuarioA</td><td>(Cu)</td><td>Fotocatálisis</td><td>2024-06-11</td><td>15</td><td>2.5</td><td>30</td><td>Baja</td></tr><tr><td>645</td><td>Ultra láminas de carbono</td><td>UsuarioB</td><td>(Ti)</td><td>Protectores solares</td><td>2024-05-29</td><td>42</td><td>2.0</td><td>50</td><td>Alta</td></tr><tr><td>337</td><td>Super esferas de titanio</td><td>UsuarioB</td><td>(SiO2)</td><td>Protectores solares</td><td>2024-06-29</td><td>32</td><td>2.0</td><td>40</td><td>Alta</td></tr><tr><td>862</td><td>Nano partículas de óxido de samario</td><td>UsuarioB</td><td>(Au)</td><td>Sensores</td><td>2024-09-01</td><td>32</td><td>2.0</td><td>10</td><td>Alta</td></tr><tr><td>291</td><td>Ultra esferas de hierro</td><td>UsuarioB</td><td>(Cu)</td><td>Sensores</td><td>2024-06-08</td><td>15</td><td>2.5</td><td>40</td><td>Baja</td></tr><tr><td>159</td><td>Ultra esferas de óxido de samario</td><td>UsuarioA</td><td>(Fe)</td><td>Antimicrobiano</td><td>2024-12-16</td><td>9</td><td>3.0</td><td>10</td><td>Baja</td></tr><tr><td>963</td><td>Ultra esferas de oro</td><td>UsuarioA</td><td>(SiO2)</td><td>Conductores</td><td>2024-09-21</td><td>20</td><td>2.0</td><td>40</td><td>Media</td></tr><tr><td>774</td><td>Ultra esferas de hierro</td><td>UsuarioB</td><td>(Sm2O3)</td><td>Protectores solares</td><td>2024-04-17</td><td>15</td><td>2.0</td><td>40</td><td>Baja</td></tr><tr><td>377</td><td>Ultra tubos de óxido de samario</td><td>UsuarioB</td><td>(C)</td><td>Protectores solares</td><td>2024-12-27</td><td>9</td><td>2.5</td><td>20</td><td>Baja</td></tr><tr><td>423</td><td>Super tubos de óxido de samario</td><td>UsuarioA</td><td>(Sm2O3)</td><td>Protectores solares</td><td>2024-06-24</td><td>15</td><td>2.0</td><td>10</td><td>Baja</td></tr><tr><td>292</td><td>Super tubos de hierro</td><td>UsuarioA</td><td>(Ti)</td><td>Sensores</td><td>2024-07-04</td><td>20</td><td>3.0</td><td>30</td><td>Media</td></tr><tr><td>101</td><td>Micro esferas de sílice</td><td>UsuarioA</td><td>(C)</td><td>Sensores</td><td>2024-04-29</td><td>9</td><td>1.5</td><td>20</td><td>Baja</td></tr><tr><td>689</td><td>Ultra esferas de cobre</td><td>UsuarioA</td><td>(SiO2)</td><td>Fotocatálisis</td><td>2024-07-15</td><td>15</td><td>1.0</td><td>20</td><td>Baja</td></tr><tr><td>580</td><td>Super láminas de oro</td><td>UsuarioB</td><td>(Sm2O3)</td><td>Conductores</td><td>2024-05-24</td><td>15</td><td>2.5</td><td>40</td><td>Baja</td></tr><tr><td>818</td><td>Nano esferas de oro</td><td>UsuarioB</td><td>(Ti)</td><td>Fotocatálisis</td><td>2025-01-04</td><td>15</td><td>3.0</td><td>40</td><td>Baja</td></tr><tr><td>456</td><td>Super láminas de hierro</td><td>UsuarioB</td><td>(Ag)</td><td>Fotocatálisis</td><td>2024-09-25</td><td>32</td><td>1.0</td><td>30</td><td>Alta</td></tr><tr><td>61</td><td>Super partículas de oro</td><td>UsuarioA</td><td>(C)</td><td>Sensores</td><td>2024-11-21</td><td>32</td><td>2.5</td><td>20</td><td>Alta</td></tr><tr><td>302</td><td>Super esferas de óxido de samario</td><td>UsuarioA</td><td>(SiO2)</td><td>Sensores</td><td>2024-09-22</td><td>15</td><td>2.5</td><td>10</td><td>Baja</td></tr><tr><td>433</td><td>Nano tubos de oro</td><td>UsuarioA</td><td>(Sm2O3)</td><td>Conductores</td><td>2024-05-06</td><td>9</td><td>3.0</td><td>50</td><td>Baja</td></tr><tr><td>516</td><td>Micro láminas de plata</td><td>UsuarioA</td><td>(Fe)</td><td>Antimicrobiano</td><td>2024-01-31</td><td>9</td><td>2.5</td><td>10</td><td>Baja</td></tr><tr><td>427</td><td>Ultra tubos de oro</td><td>UsuarioA</td><td>(Cu)</td><td>Antimicrobiano</td><td>2024-05-08</td><td>32</td><td>1.0</td><td>30</td><td>Alta</td></tr><tr><td>685</td><td>Ultra esferas de plata</td><td>UsuarioB</td><td>(C)</td><td>Protectores solares</td><td>2024-06-04</td><td>42</td><td>2.0</td><td>20</td><td>Alta</td></tr><tr><td>655</td><td>Nano esferas de plata</td><td>UsuarioA</td><td>(SiO2)</td><td>Sensores</td><td>2024-10-29</td><td>32</td><td>1.0</td><td>40</td><td>Alta</td></tr><tr><td>645</td><td>Super esferas de carbono</td><td>UsuarioB</td><td>(Cu)</td><td>Sensores</td><td>2024-06-21</td><td>20</td><td>1.0</td><td>40</td><td>Media</td></tr><tr><td>450</td><td>Super tubos de hierro</td><td>UsuarioB</td><td>(SiO2)</td><td>Fotocatálisis</td><td>2024-06-25</td><td>32</td><td>1.5</td><td>50</td><td>Alta</td></tr><tr><td>266</td><td>Micro láminas de zinc</td><td>UsuarioA</td><td>(Cu)</td><td>Fotocatálisis</td><td>2024-05-21</td><td>9</td><td>2.0</td><td>50</td><td>Baja</td></tr><tr><td>91</td><td>Nano esferas de titanio</td><td>UsuarioB</td><td>(Fe)</td><td>Protectores solares</td><td>2024-11-11</td><td>42</td><td>1.0</td><td>50</td><td>Alta</td></tr><tr><td>514</td><td>Nano partículas de carbono</td><td>UsuarioB</td><td>(ZnO)</td><td>Fotocatálisis</td><td>2024-03-09</td><td>20</td><td>2.0</td><td>50</td><td>Media</td></tr><tr><td>356</td><td>Micro tubos de zinc</td><td>UsuarioA</td><td>(C)</td><td>Sensores</td><td>2024-07-06</td><td>20</td><td>1.0</td><td>30</td><td>Media</td></tr><tr><td>372</td><td>Ultra tubos de carbono</td><td>UsuarioA</td><td>(Au)</td><td>Protectores solares</td><td>2024-09-03</td><td>42</td><td>3.0</td><td>50</td><td>Alta</td></tr><tr><td>885</td><td>Ultra partículas de carbono</td><td>UsuarioB</td><td>(Ag)</td><td>Protectores solares</td><td>2024-01-18</td><td>15</td><td>1.0</td><td>50</td><td>Baja</td></tr><tr><td>410</td><td>Super tubos de óxido de samario</td><td>UsuarioA</td><td>(Cu)</td><td>Protectores solares</td><td>2024-09-05</td><td>42</td><td>3.0</td><td>30</td><td>Alta</td></tr><tr><td>783</td><td>Super esferas de plata</td><td>UsuarioB</td><td>(Sm2O3)</td><td>Antimicrobiano</td><td>2024-03-31</td><td>15</td><td>1.0</td><td>20</td><td>Baja</td></tr><tr><td>810</td><td>Nano esferas de zinc</td><td>UsuarioB</td><td>(C)</td><td>Sensores</td><td>2024-04-20</td><td>9</td><td>1.0</td><td>30</td><td>Baja</td></tr><tr><td>575</td><td>Micro láminas de zinc</td><td>UsuarioB</td><td>(C)</td><td>Conductores</td><td>2024-04-29</td><td>42</td><td>2.5</td><td>10</td><td>Alta</td></tr><tr><td>456</td><td>Micro tubos de plata</td><td>UsuarioA</td><td>(C)</td><td>Fotocatálisis</td><td>2024-03-02</td><td>42</td><td>1.0</td><td>40</td><td>Alta</td></tr><tr><td>390</td><td>Nano láminas de plata</td><td>UsuarioB</td><td>(Au)</td><td>Antimicrobiano</td><td>2024-06-15</td><td>32</td><td>1.5</td><td>10</td><td>Alta</td></tr><tr><td>728</td><td>Ultra partículas de plata</td><td>UsuarioB</td><td>(Cu)</td><td>Conductores</td><td>2025-01-05</td><td>42</td><td>1.0</td><td>40</td><td>Alta</td></tr><tr><td>842</td><td>Super tubos de óxido de samario</td><td>UsuarioA</td><td>(C)</td><td>Conductores</td><td>2024-03-29</td><td>32</td><td>2.5</td><td>40</td><td>Alta</td></tr><tr><td>614</td><td>Nano tubos de titanio</td><td>UsuarioA</td><td>(ZnO)</td><td>Fotocatálisis</td><td>2024-02-09</td><td>32</td><td>1.0</td><td>30</td><td>Alta</td></tr><tr><td>981</td><td>Super tubos de plata</td><td>UsuarioA</td><td>(SiO2)</td><td>Fotocatálisis</td><td>2024-05-14</td><td>32</td><td>1.0</td><td>20</td><td>Alta</td></tr><tr><td>569</td><td>Micro esferas de hierro</td><td>UsuarioA</td><td>(Ti)</td><td>Sensores</td><td>2024-03-20</td><td>20</td><td>1.0</td><td>50</td><td>Media</td></tr><tr><td>821</td><td>Super tubos de titanio</td><td>UsuarioA</td><td>(Fe)</td><td>Conductores</td><td>2024-09-08</td><td>9</td><td>1.5</td><td>30</td><td>Baja</td></tr><tr><td>192</td><td>Nano tubos de hierro</td><td>UsuarioB</td><td>(Ag)</td><td>Protectores solares</td><td>2024-07-28</td><td>32</td><td>3.0</td><td>10</td><td>Alta</td></tr><tr><td>73</td><td>Super láminas de cobre</td><td>UsuarioB</td><td>(C)</td><td>Sensores</td><td>2024-07-13</td><td>20</td><td>1.0</td><td>50</td><td>Media</td></tr><tr><td>104</td><td>Super esferas de sílice</td><td>UsuarioB</td><td>(Fe)</td><td>Antimicrobiano</td><td>2024-07-25</td><td>20</td><td>1.0</td><td>30</td><td>Media</td></tr><tr><td>128</td><td>Nano tubos de oro</td><td>UsuarioB</td><td>(ZnO)</td><td>Sensores</td><td>2024-02-08</td><td>15</td><td>2.0</td><td>20</td><td>Baja</td></tr><tr><td>119</td><td>Micro tubos de cobre</td><td>UsuarioA</td><td>(Ag)</td><td>Fotocatálisis</td><td>2024-12-17</td><td>42</td><td>2.5</td><td>30</td><td>Alta</td></tr></tbody></table></div>"
      ]
     },
     "metadata": {
      "application/vnd.databricks.v1+output": {
       "addedWidgets": {},
       "aggData": [],
       "aggError": "",
       "aggOverflow": false,
       "aggSchema": [],
       "aggSeriesLimitReached": false,
       "aggType": "",
       "arguments": {},
       "columnCustomDisplayInfos": {},
       "data": [
        [
         152,
         "Micro esferas de titanio",
         "UsuarioB",
         "(C)",
         "Conductores",
         "2024-02-24",
         42,
         2.5,
         30,
         "Alta"
        ],
        [
         975,
         "Super tubos de plata",
         "UsuarioA",
         "(SiO2)",
         "Protectores solares",
         "2025-01-04",
         20,
         1.0,
         50,
         "Media"
        ],
        [
         898,
         "Ultra esferas de cobre",
         "UsuarioB",
         "(C)",
         "Antimicrobiano",
         "2024-11-06",
         32,
         1.5,
         20,
         "Alta"
        ],
        [
         480,
         "Micro partículas de cobre",
         "UsuarioB",
         "(Sm2O3)",
         "Protectores solares",
         "2024-12-23",
         15,
         3.0,
         30,
         "Baja"
        ],
        [
         247,
         "Ultra láminas de zinc",
         "UsuarioA",
         "(ZnO)",
         "Protectores solares",
         "2024-09-07",
         20,
         2.0,
         20,
         "Media"
        ],
        [
         846,
         "Ultra esferas de oro",
         "UsuarioA",
         "(Sm2O3)",
         "Sensores",
         "2024-12-22",
         20,
         1.5,
         40,
         "Media"
        ],
        [
         738,
         "Nano láminas de plata",
         "UsuarioA",
         "(Ag)",
         "Protectores solares",
         "2025-01-08",
         42,
         3.0,
         10,
         "Alta"
        ],
        [
         503,
         "Ultra partículas de óxido de samario",
         "UsuarioB",
         "(Ti)",
         "Protectores solares",
         "2024-03-08",
         9,
         2.0,
         10,
         "Baja"
        ],
        [
         676,
         "Micro láminas de zinc",
         "UsuarioA",
         "(Ag)",
         "Antimicrobiano",
         "2024-09-03",
         42,
         3.0,
         50,
         "Alta"
        ],
        [
         754,
         "Super partículas de plata",
         "UsuarioB",
         "(Au)",
         "Conductores",
         "2024-11-03",
         15,
         3.0,
         20,
         "Baja"
        ],
        [
         337,
         "Super láminas de zinc",
         "UsuarioA",
         "(SiO2)",
         "Fotocatálisis",
         "2024-03-25",
         15,
         2.5,
         30,
         "Baja"
        ],
        [
         155,
         "Super láminas de carbono",
         "UsuarioA",
         "(Sm2O3)",
         "Fotocatálisis",
         "2024-05-19",
         20,
         3.0,
         10,
         "Media"
        ],
        [
         190,
         "Nano partículas de hierro",
         "UsuarioA",
         "(Sm2O3)",
         "Sensores",
         "2024-07-15",
         20,
         1.0,
         10,
         "Media"
        ],
        [
         685,
         "Micro esferas de zinc",
         "UsuarioB",
         "(C)",
         "Fotocatálisis",
         "2024-07-07",
         9,
         2.5,
         10,
         "Baja"
        ],
        [
         284,
         "Ultra esferas de plata",
         "UsuarioA",
         "(ZnO)",
         "Antimicrobiano",
         "2024-05-29",
         15,
         2.5,
         30,
         "Baja"
        ],
        [
         977,
         "Micro esferas de carbono",
         "UsuarioA",
         "(Ti)",
         "Protectores solares",
         "2025-01-04",
         15,
         3.0,
         50,
         "Baja"
        ],
        [
         947,
         "Nano tubos de cobre",
         "UsuarioB",
         "(Ti)",
         "Sensores",
         "2024-02-15",
         9,
         3.0,
         10,
         "Baja"
        ],
        [
         402,
         "Ultra láminas de sílice",
         "UsuarioA",
         "(Au)",
         "Antimicrobiano",
         "2024-09-27",
         9,
         2.5,
         50,
         "Baja"
        ],
        [
         672,
         "Ultra esferas de óxido de samario",
         "UsuarioB",
         "(Fe)",
         "Sensores",
         "2024-08-17",
         42,
         1.5,
         30,
         "Alta"
        ],
        [
         559,
         "Ultra partículas de óxido de samario",
         "UsuarioA",
         "(SiO2)",
         "Sensores",
         "2024-04-26",
         32,
         3.0,
         50,
         "Alta"
        ],
        [
         448,
         "Ultra partículas de óxido de samario",
         "UsuarioA",
         "(C)",
         "Fotocatálisis",
         "2024-04-17",
         42,
         2.5,
         20,
         "Alta"
        ],
        [
         189,
         "Super partículas de sílice",
         "UsuarioA",
         "(Sm2O3)",
         "Conductores",
         "2024-04-18",
         42,
         2.0,
         50,
         "Alta"
        ],
        [
         583,
         "Ultra esferas de oro",
         "UsuarioB",
         "(ZnO)",
         "Fotocatálisis",
         "2024-12-07",
         15,
         2.5,
         30,
         "Baja"
        ],
        [
         883,
         "Ultra esferas de carbono",
         "UsuarioA",
         "(Fe)",
         "Conductores",
         "2025-01-05",
         9,
         1.5,
         10,
         "Baja"
        ],
        [
         285,
         "Ultra partículas de titanio",
         "UsuarioB",
         "(C)",
         "Fotocatálisis",
         "2024-05-15",
         20,
         2.5,
         50,
         "Media"
        ],
        [
         482,
         "Nano partículas de titanio",
         "UsuarioA",
         "(Sm2O3)",
         "Antimicrobiano",
         "2024-12-21",
         15,
         1.5,
         10,
         "Baja"
        ],
        [
         134,
         "Ultra tubos de oro",
         "UsuarioA",
         "(Fe)",
         "Sensores",
         "2024-10-02",
         15,
         2.5,
         30,
         "Baja"
        ],
        [
         329,
         "Nano partículas de cobre",
         "UsuarioA",
         "(SiO2)",
         "Conductores",
         "2024-07-05",
         20,
         3.0,
         50,
         "Media"
        ],
        [
         21,
         "Nano láminas de zinc",
         "UsuarioA",
         "(Au)",
         "Sensores",
         "2024-03-28",
         32,
         1.5,
         30,
         "Alta"
        ],
        [
         472,
         "Micro láminas de cobre",
         "UsuarioA",
         "(Cu)",
         "Antimicrobiano",
         "2024-08-15",
         9,
         2.5,
         20,
         "Baja"
        ],
        [
         450,
         "Nano esferas de zinc",
         "UsuarioA",
         "(Fe)",
         "Fotocatálisis",
         "2024-11-30",
         32,
         3.0,
         20,
         "Alta"
        ],
        [
         152,
         "Nano esferas de titanio",
         "UsuarioB",
         "(Ag)",
         "Sensores",
         "2024-03-19",
         9,
         3.0,
         20,
         "Baja"
        ],
        [
         946,
         "Nano tubos de carbono",
         "UsuarioA",
         "(C)",
         "Sensores",
         "2024-08-25",
         9,
         1.5,
         30,
         "Baja"
        ],
        [
         18,
         "Super tubos de zinc",
         "UsuarioA",
         "(Au)",
         "Fotocatálisis",
         "2024-09-22",
         20,
         1.5,
         30,
         "Media"
        ],
        [
         58,
         "Super tubos de hierro",
         "UsuarioA",
         "(Au)",
         "Antimicrobiano",
         "2024-04-04",
         42,
         2.5,
         10,
         "Alta"
        ],
        [
         681,
         "Nano esferas de óxido de samario",
         "UsuarioB",
         "(Ti)",
         "Protectores solares",
         "2024-02-14",
         32,
         3.0,
         10,
         "Alta"
        ],
        [
         367,
         "Super tubos de hierro",
         "UsuarioB",
         "(Cu)",
         "Antimicrobiano",
         "2024-02-08",
         20,
         2.5,
         10,
         "Media"
        ],
        [
         755,
         "Super tubos de cobre",
         "UsuarioB",
         "(ZnO)",
         "Conductores",
         "2024-08-02",
         20,
         2.0,
         30,
         "Media"
        ],
        [
         54,
         "Micro partículas de hierro",
         "UsuarioA",
         "(Au)",
         "Conductores",
         "2024-04-20",
         20,
         2.0,
         10,
         "Media"
        ],
        [
         734,
         "Micro esferas de cobre",
         "UsuarioB",
         "(ZnO)",
         "Sensores",
         "2024-02-12",
         32,
         2.5,
         20,
         "Alta"
        ],
        [
         904,
         "Nano partículas de sílice",
         "UsuarioA",
         "(Ag)",
         "Conductores",
         "2024-02-01",
         32,
         1.0,
         10,
         "Alta"
        ],
        [
         741,
         "Ultra partículas de sílice",
         "UsuarioA",
         "(ZnO)",
         "Fotocatálisis",
         "2024-05-18",
         32,
         2.0,
         30,
         "Alta"
        ],
        [
         790,
         "Micro partículas de cobre",
         "UsuarioA",
         "(Au)",
         "Sensores",
         "2024-07-06",
         15,
         2.5,
         50,
         "Baja"
        ],
        [
         826,
         "Nano esferas de plata",
         "UsuarioB",
         "(Fe)",
         "Protectores solares",
         "2024-03-26",
         42,
         2.0,
         50,
         "Alta"
        ],
        [
         404,
         "Micro láminas de hierro",
         "UsuarioA",
         "(Ag)",
         "Protectores solares",
         "2024-11-26",
         15,
         2.0,
         40,
         "Baja"
        ],
        [
         445,
         "Super partículas de carbono",
         "UsuarioA",
         "(Sm2O3)",
         "Protectores solares",
         "2024-07-04",
         32,
         1.0,
         20,
         "Alta"
        ],
        [
         895,
         "Nano láminas de titanio",
         "UsuarioB",
         "(Au)",
         "Sensores",
         "2024-02-14",
         20,
         3.0,
         40,
         "Media"
        ],
        [
         410,
         "Super esferas de zinc",
         "UsuarioB",
         "(Ti)",
         "Conductores",
         "2024-05-04",
         32,
         1.0,
         40,
         "Alta"
        ],
        [
         931,
         "Nano láminas de óxido de samario",
         "UsuarioA",
         "(Cu)",
         "Antimicrobiano",
         "2024-08-24",
         42,
         1.5,
         10,
         "Alta"
        ],
        [
         709,
         "Super esferas de zinc",
         "UsuarioB",
         "(C)",
         "Antimicrobiano",
         "2024-03-15",
         15,
         3.0,
         20,
         "Baja"
        ],
        [
         607,
         "Super partículas de hierro",
         "UsuarioA",
         "(Sm2O3)",
         "Protectores solares",
         "2024-06-03",
         20,
         1.5,
         40,
         "Media"
        ],
        [
         159,
         "Ultra partículas de titanio",
         "UsuarioB",
         "(Fe)",
         "Antimicrobiano",
         "2024-01-15",
         9,
         2.5,
         30,
         "Baja"
        ],
        [
         634,
         "Ultra tubos de cobre",
         "UsuarioA",
         "(Cu)",
         "Fotocatálisis",
         "2024-06-11",
         15,
         2.5,
         30,
         "Baja"
        ],
        [
         645,
         "Ultra láminas de carbono",
         "UsuarioB",
         "(Ti)",
         "Protectores solares",
         "2024-05-29",
         42,
         2.0,
         50,
         "Alta"
        ],
        [
         337,
         "Super esferas de titanio",
         "UsuarioB",
         "(SiO2)",
         "Protectores solares",
         "2024-06-29",
         32,
         2.0,
         40,
         "Alta"
        ],
        [
         862,
         "Nano partículas de óxido de samario",
         "UsuarioB",
         "(Au)",
         "Sensores",
         "2024-09-01",
         32,
         2.0,
         10,
         "Alta"
        ],
        [
         291,
         "Ultra esferas de hierro",
         "UsuarioB",
         "(Cu)",
         "Sensores",
         "2024-06-08",
         15,
         2.5,
         40,
         "Baja"
        ],
        [
         159,
         "Ultra esferas de óxido de samario",
         "UsuarioA",
         "(Fe)",
         "Antimicrobiano",
         "2024-12-16",
         9,
         3.0,
         10,
         "Baja"
        ],
        [
         963,
         "Ultra esferas de oro",
         "UsuarioA",
         "(SiO2)",
         "Conductores",
         "2024-09-21",
         20,
         2.0,
         40,
         "Media"
        ],
        [
         774,
         "Ultra esferas de hierro",
         "UsuarioB",
         "(Sm2O3)",
         "Protectores solares",
         "2024-04-17",
         15,
         2.0,
         40,
         "Baja"
        ],
        [
         377,
         "Ultra tubos de óxido de samario",
         "UsuarioB",
         "(C)",
         "Protectores solares",
         "2024-12-27",
         9,
         2.5,
         20,
         "Baja"
        ],
        [
         423,
         "Super tubos de óxido de samario",
         "UsuarioA",
         "(Sm2O3)",
         "Protectores solares",
         "2024-06-24",
         15,
         2.0,
         10,
         "Baja"
        ],
        [
         292,
         "Super tubos de hierro",
         "UsuarioA",
         "(Ti)",
         "Sensores",
         "2024-07-04",
         20,
         3.0,
         30,
         "Media"
        ],
        [
         101,
         "Micro esferas de sílice",
         "UsuarioA",
         "(C)",
         "Sensores",
         "2024-04-29",
         9,
         1.5,
         20,
         "Baja"
        ],
        [
         689,
         "Ultra esferas de cobre",
         "UsuarioA",
         "(SiO2)",
         "Fotocatálisis",
         "2024-07-15",
         15,
         1.0,
         20,
         "Baja"
        ],
        [
         580,
         "Super láminas de oro",
         "UsuarioB",
         "(Sm2O3)",
         "Conductores",
         "2024-05-24",
         15,
         2.5,
         40,
         "Baja"
        ],
        [
         818,
         "Nano esferas de oro",
         "UsuarioB",
         "(Ti)",
         "Fotocatálisis",
         "2025-01-04",
         15,
         3.0,
         40,
         "Baja"
        ],
        [
         456,
         "Super láminas de hierro",
         "UsuarioB",
         "(Ag)",
         "Fotocatálisis",
         "2024-09-25",
         32,
         1.0,
         30,
         "Alta"
        ],
        [
         61,
         "Super partículas de oro",
         "UsuarioA",
         "(C)",
         "Sensores",
         "2024-11-21",
         32,
         2.5,
         20,
         "Alta"
        ],
        [
         302,
         "Super esferas de óxido de samario",
         "UsuarioA",
         "(SiO2)",
         "Sensores",
         "2024-09-22",
         15,
         2.5,
         10,
         "Baja"
        ],
        [
         433,
         "Nano tubos de oro",
         "UsuarioA",
         "(Sm2O3)",
         "Conductores",
         "2024-05-06",
         9,
         3.0,
         50,
         "Baja"
        ],
        [
         516,
         "Micro láminas de plata",
         "UsuarioA",
         "(Fe)",
         "Antimicrobiano",
         "2024-01-31",
         9,
         2.5,
         10,
         "Baja"
        ],
        [
         427,
         "Ultra tubos de oro",
         "UsuarioA",
         "(Cu)",
         "Antimicrobiano",
         "2024-05-08",
         32,
         1.0,
         30,
         "Alta"
        ],
        [
         685,
         "Ultra esferas de plata",
         "UsuarioB",
         "(C)",
         "Protectores solares",
         "2024-06-04",
         42,
         2.0,
         20,
         "Alta"
        ],
        [
         655,
         "Nano esferas de plata",
         "UsuarioA",
         "(SiO2)",
         "Sensores",
         "2024-10-29",
         32,
         1.0,
         40,
         "Alta"
        ],
        [
         645,
         "Super esferas de carbono",
         "UsuarioB",
         "(Cu)",
         "Sensores",
         "2024-06-21",
         20,
         1.0,
         40,
         "Media"
        ],
        [
         450,
         "Super tubos de hierro",
         "UsuarioB",
         "(SiO2)",
         "Fotocatálisis",
         "2024-06-25",
         32,
         1.5,
         50,
         "Alta"
        ],
        [
         266,
         "Micro láminas de zinc",
         "UsuarioA",
         "(Cu)",
         "Fotocatálisis",
         "2024-05-21",
         9,
         2.0,
         50,
         "Baja"
        ],
        [
         91,
         "Nano esferas de titanio",
         "UsuarioB",
         "(Fe)",
         "Protectores solares",
         "2024-11-11",
         42,
         1.0,
         50,
         "Alta"
        ],
        [
         514,
         "Nano partículas de carbono",
         "UsuarioB",
         "(ZnO)",
         "Fotocatálisis",
         "2024-03-09",
         20,
         2.0,
         50,
         "Media"
        ],
        [
         356,
         "Micro tubos de zinc",
         "UsuarioA",
         "(C)",
         "Sensores",
         "2024-07-06",
         20,
         1.0,
         30,
         "Media"
        ],
        [
         372,
         "Ultra tubos de carbono",
         "UsuarioA",
         "(Au)",
         "Protectores solares",
         "2024-09-03",
         42,
         3.0,
         50,
         "Alta"
        ],
        [
         885,
         "Ultra partículas de carbono",
         "UsuarioB",
         "(Ag)",
         "Protectores solares",
         "2024-01-18",
         15,
         1.0,
         50,
         "Baja"
        ],
        [
         410,
         "Super tubos de óxido de samario",
         "UsuarioA",
         "(Cu)",
         "Protectores solares",
         "2024-09-05",
         42,
         3.0,
         30,
         "Alta"
        ],
        [
         783,
         "Super esferas de plata",
         "UsuarioB",
         "(Sm2O3)",
         "Antimicrobiano",
         "2024-03-31",
         15,
         1.0,
         20,
         "Baja"
        ],
        [
         810,
         "Nano esferas de zinc",
         "UsuarioB",
         "(C)",
         "Sensores",
         "2024-04-20",
         9,
         1.0,
         30,
         "Baja"
        ],
        [
         575,
         "Micro láminas de zinc",
         "UsuarioB",
         "(C)",
         "Conductores",
         "2024-04-29",
         42,
         2.5,
         10,
         "Alta"
        ],
        [
         456,
         "Micro tubos de plata",
         "UsuarioA",
         "(C)",
         "Fotocatálisis",
         "2024-03-02",
         42,
         1.0,
         40,
         "Alta"
        ],
        [
         390,
         "Nano láminas de plata",
         "UsuarioB",
         "(Au)",
         "Antimicrobiano",
         "2024-06-15",
         32,
         1.5,
         10,
         "Alta"
        ],
        [
         728,
         "Ultra partículas de plata",
         "UsuarioB",
         "(Cu)",
         "Conductores",
         "2025-01-05",
         42,
         1.0,
         40,
         "Alta"
        ],
        [
         842,
         "Super tubos de óxido de samario",
         "UsuarioA",
         "(C)",
         "Conductores",
         "2024-03-29",
         32,
         2.5,
         40,
         "Alta"
        ],
        [
         614,
         "Nano tubos de titanio",
         "UsuarioA",
         "(ZnO)",
         "Fotocatálisis",
         "2024-02-09",
         32,
         1.0,
         30,
         "Alta"
        ],
        [
         981,
         "Super tubos de plata",
         "UsuarioA",
         "(SiO2)",
         "Fotocatálisis",
         "2024-05-14",
         32,
         1.0,
         20,
         "Alta"
        ],
        [
         569,
         "Micro esferas de hierro",
         "UsuarioA",
         "(Ti)",
         "Sensores",
         "2024-03-20",
         20,
         1.0,
         50,
         "Media"
        ],
        [
         821,
         "Super tubos de titanio",
         "UsuarioA",
         "(Fe)",
         "Conductores",
         "2024-09-08",
         9,
         1.5,
         30,
         "Baja"
        ],
        [
         192,
         "Nano tubos de hierro",
         "UsuarioB",
         "(Ag)",
         "Protectores solares",
         "2024-07-28",
         32,
         3.0,
         10,
         "Alta"
        ],
        [
         73,
         "Super láminas de cobre",
         "UsuarioB",
         "(C)",
         "Sensores",
         "2024-07-13",
         20,
         1.0,
         50,
         "Media"
        ],
        [
         104,
         "Super esferas de sílice",
         "UsuarioB",
         "(Fe)",
         "Antimicrobiano",
         "2024-07-25",
         20,
         1.0,
         30,
         "Media"
        ],
        [
         128,
         "Nano tubos de oro",
         "UsuarioB",
         "(ZnO)",
         "Sensores",
         "2024-02-08",
         15,
         2.0,
         20,
         "Baja"
        ],
        [
         119,
         "Micro tubos de cobre",
         "UsuarioA",
         "(Ag)",
         "Fotocatálisis",
         "2024-12-17",
         42,
         2.5,
         30,
         "Alta"
        ]
       ],
       "datasetInfos": [],
       "dbfsResultPath": null,
       "isJsonSchema": true,
       "metadata": {},
       "overflow": false,
       "plotOptions": {
        "customPlotOptions": {},
        "displayType": "table",
        "pivotAggregation": null,
        "pivotColumns": null,
        "xColumns": null,
        "yColumns": null
       },
       "removedWidgets": [],
       "schema": [
        {
         "metadata": "{}",
         "name": "id_material",
         "type": "\"integer\""
        },
        {
         "metadata": "{}",
         "name": "nombre",
         "type": "\"string\""
        },
        {
         "metadata": "{}",
         "name": "usuario",
         "type": "\"string\""
        },
        {
         "metadata": "{}",
         "name": "composicion_quimica",
         "type": "\"string\""
        },
        {
         "metadata": "{}",
         "name": "aplicacion",
         "type": "\"string\""
        },
        {
         "metadata": "{\"__detected_date_formats\":\"yyyy-M-d\"}",
         "name": "fecha_creacion",
         "type": "\"date\""
        },
        {
         "metadata": "{}",
         "name": "temperatura",
         "type": "\"integer\""
        },
        {
         "metadata": "{}",
         "name": "presion",
         "type": "\"double\""
        },
        {
         "metadata": "{}",
         "name": "duracion",
         "type": "\"integer\""
        },
        {
         "metadata": "{}",
         "name": "clasificacion_temperatura",
         "type": "\"string\""
        }
       ],
       "type": "table"
      }
     },
     "output_type": "display_data"
    }
   ],
   "source": [
    "%sql\n",
    "SELECT * FROM materiales_clasificados;"
   ]
  },
  {
   "cell_type": "code",
   "execution_count": 0,
   "metadata": {
    "application/vnd.databricks.v1+cell": {
     "cellMetadata": {
      "byteLimit": 2048000,
      "rowLimit": 10000
     },
     "inputWidgets": {},
     "nuid": "7fb09f8b-53e5-4084-a9da-bad9a41cc4ff",
     "showTitle": false,
     "tableResultSettingsMap": {},
     "title": ""
    }
   },
   "outputs": [
    {
     "output_type": "stream",
     "name": "stdout",
     "output_type": "stream",
     "text": [
      "El DataFrame clasificado se ha guardado correctamente en la carpeta silver.\n"
     ]
    }
   ],
   "source": [
    "# Guardar el DataFrame clasificado en la carpeta silver\n",
    "df_clasificado.write.mode(\"overwrite\").parquet(\"/mnt/silver/materiales_clasificados.parquet\")\n",
    "\n",
    "print(\"El DataFrame clasificado se ha guardado correctamente en la carpeta silver.\")"
   ]
  }
 ],
 "metadata": {
  "application/vnd.databricks.v1+notebook": {
   "computePreferences": null,
   "dashboards": [],
   "environmentMetadata": {
    "base_environment": "",
    "client": "1"
   },
   "language": "python",
   "notebookMetadata": {
    "mostRecentlyExecutedCommandWithImplicitDF": {
     "commandId": 1919441839350547,
     "dataframes": [
      "_sqldf"
     ]
    },
    "pythonIndentUnit": 4
   },
   "notebookName": "Capa Bronce",
   "widgets": {}
  }
 },
 "nbformat": 4,
 "nbformat_minor": 0
}
