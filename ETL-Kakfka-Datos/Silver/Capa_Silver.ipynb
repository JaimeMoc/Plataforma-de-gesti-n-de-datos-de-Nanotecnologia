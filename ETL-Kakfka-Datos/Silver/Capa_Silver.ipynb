{
 "cells": [
  {
   "cell_type": "code",
   "execution_count": 0,
   "metadata": {
    "application/vnd.databricks.v1+cell": {
     "cellMetadata": {
      "byteLimit": 2048000,
      "rowLimit": 10000
     },
     "inputWidgets": {},
     "nuid": "c0e45efb-7959-4367-b0c7-69821c907420",
     "showTitle": false,
     "tableResultSettingsMap": {},
     "title": ""
    }
   },
   "outputs": [
    {
     "output_type": "stream",
     "name": "stdout",
     "output_type": "stream",
     "text": [
      "+-----------+--------------------+--------+-------------------+-------------------+--------------+-----------+-------+--------+-------------------------+\n|id_material|              nombre| usuario|composicion_quimica|         aplicacion|fecha_creacion|temperatura|presion|duracion|clasificacion_temperatura|\n+-----------+--------------------+--------+-------------------+-------------------+--------------+-----------+-------+--------+-------------------------+\n|        152|Micro esferas de ...|UsuarioB|                (C)|        Conductores|    2024-02-24|         42|    2.5|      30|                     Alta|\n|        975|Super tubos de plata|UsuarioA|             (SiO2)|Protectores solares|    2025-01-04|         20|    1.0|      50|                    Media|\n|        898|Ultra esferas de ...|UsuarioB|                (C)|     Antimicrobiano|    2024-11-06|         32|    1.5|      20|                     Alta|\n|        480|Micro partículas ...|UsuarioB|            (Sm2O3)|Protectores solares|    2024-12-23|         15|    3.0|      30|                     Baja|\n|        247|Ultra láminas de ...|UsuarioA|              (ZnO)|Protectores solares|    2024-09-07|         20|    2.0|      20|                    Media|\n|        846|Ultra esferas de oro|UsuarioA|            (Sm2O3)|           Sensores|    2024-12-22|         20|    1.5|      40|                    Media|\n|        738|Nano láminas de p...|UsuarioA|               (Ag)|Protectores solares|    2025-01-08|         42|    3.0|      10|                     Alta|\n|        503|Ultra partículas ...|UsuarioB|               (Ti)|Protectores solares|    2024-03-08|          9|    2.0|      10|                     Baja|\n|        676|Micro láminas de ...|UsuarioA|               (Ag)|     Antimicrobiano|    2024-09-03|         42|    3.0|      50|                     Alta|\n|        754|Super partículas ...|UsuarioB|               (Au)|        Conductores|    2024-11-03|         15|    3.0|      20|                     Baja|\n|        337|Super láminas de ...|UsuarioA|             (SiO2)|      Fotocatálisis|    2024-03-25|         15|    2.5|      30|                     Baja|\n|        155|Super láminas de ...|UsuarioA|            (Sm2O3)|      Fotocatálisis|    2024-05-19|         20|    3.0|      10|                    Media|\n|        190|Nano partículas d...|UsuarioA|            (Sm2O3)|           Sensores|    2024-07-15|         20|    1.0|      10|                    Media|\n|        685|Micro esferas de ...|UsuarioB|                (C)|      Fotocatálisis|    2024-07-07|          9|    2.5|      10|                     Baja|\n|        284|Ultra esferas de ...|UsuarioA|              (ZnO)|     Antimicrobiano|    2024-05-29|         15|    2.5|      30|                     Baja|\n|        977|Micro esferas de ...|UsuarioA|               (Ti)|Protectores solares|    2025-01-04|         15|    3.0|      50|                     Baja|\n|        947| Nano tubos de cobre|UsuarioB|               (Ti)|           Sensores|    2024-02-15|          9|    3.0|      10|                     Baja|\n|        402|Ultra láminas de ...|UsuarioA|               (Au)|     Antimicrobiano|    2024-09-27|          9|    2.5|      50|                     Baja|\n|        672|Ultra esferas de ...|UsuarioB|               (Fe)|           Sensores|    2024-08-17|         42|    1.5|      30|                     Alta|\n|        559|Ultra partículas ...|UsuarioA|             (SiO2)|           Sensores|    2024-04-26|         32|    3.0|      50|                     Alta|\n+-----------+--------------------+--------+-------------------+-------------------+--------------+-----------+-------+--------+-------------------------+\nonly showing top 20 rows\n\n"
     ]
    }
   ],
   "source": [
    "# Cargar el archivo Parquet en un DataFrame\n",
    "df_silver = spark.read.parquet(\"/mnt/silver/materiales_clasificados.parquet\")\n",
    "\n",
    "# Mostrar las primeras filas del DataFrame\n",
    "df_silver.show()"
   ]
  },
  {
   "cell_type": "code",
   "execution_count": 0,
   "metadata": {
    "application/vnd.databricks.v1+cell": {
     "cellMetadata": {
      "byteLimit": 2048000,
      "rowLimit": 10000
     },
     "inputWidgets": {},
     "nuid": "3cd6f5b3-bce6-49b8-9bca-dfff301d6969",
     "showTitle": false,
     "tableResultSettingsMap": {},
     "title": ""
    }
   },
   "outputs": [
    {
     "output_type": "stream",
     "name": "stdout",
     "output_type": "stream",
     "text": [
      "+-------+-----------------+--------------------+--------+-------------------+--------------+------------------+------------------+------------------+-------------------------+\n|summary|      id_material|              nombre| usuario|composicion_quimica|    aplicacion|       temperatura|           presion|          duracion|clasificacion_temperatura|\n+-------+-----------------+--------------------+--------+-------------------+--------------+------------------+------------------+------------------+-------------------------+\n|  count|              100|                 100|     100|                100|           100|               100|               100|               100|                      100|\n|   mean|           509.93|                null|    null|               null|          null|             23.63|             2.045|              29.4|                     null|\n| stddev|276.5284888605786|                null|    null|               null|          null|11.533574178602803|0.7285484392151482|14.271536976680808|                     null|\n|    min|               18|Micro esferas de ...|UsuarioA|               (Ag)|Antimicrobiano|                 9|               1.0|                10|                     Alta|\n|    max|              981|Ultra tubos de óx...|UsuarioB|              (ZnO)|      Sensores|                42|               3.0|                50|                    Media|\n+-------+-----------------+--------------------+--------+-------------------+--------------+------------------+------------------+------------------+-------------------------+\n\n"
     ]
    }
   ],
   "source": [
    "# Mostrar estadísticas descriptivas del DataFrame\n",
    "df_silver.describe().show()"
   ]
  },
  {
   "cell_type": "code",
   "execution_count": 0,
   "metadata": {
    "application/vnd.databricks.v1+cell": {
     "cellMetadata": {
      "byteLimit": 2048000,
      "rowLimit": 10000
     },
     "inputWidgets": {},
     "nuid": "ccee1378-4d23-4cc9-a569-60ed8b6ae67e",
     "showTitle": false,
     "tableResultSettingsMap": {},
     "title": ""
    }
   },
   "outputs": [
    {
     "output_type": "display_data",
     "data": {
      "image/png": "[encoded data removed]"
     },
     "metadata": {
      "application/vnd.databricks.v1+output": {
       "addedWidgets": {},
       "arguments": {},
       "data": "data:image/png;base64,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\n",
       "datasetInfos": [],
       "metadata": {},
       "removedWidgets": [],
       "type": "image"
      }
     },
     "output_type": "display_data"
    }
   ],
   "source": [
    "import matplotlib.pyplot as plt\n",
    "\n",
    "# Convertir el DataFrame de Spark a un DataFrame de Pandas\n",
    "df_silver_pd = df_silver.toPandas()\n",
    "\n",
    "# Graficar la distribución de la temperatura\n",
    "plt.figure(figsize=(10, 6))\n",
    "plt.hist(df_silver_pd['temperatura'].dropna(), bins=20, edgecolor='k', alpha=0.7)\n",
    "plt.title('Distribución de la Temperatura')\n",
    "plt.xlabel('Temperatura')\n",
    "plt.ylabel('Frecuencia')\n",
    "plt.grid(True)\n",
    "plt.show()"
   ]
  },
  {
   "cell_type": "code",
   "execution_count": 0,
   "metadata": {
    "application/vnd.databricks.v1+cell": {
     "cellMetadata": {
      "byteLimit": 2048000,
      "rowLimit": 10000
     },
     "inputWidgets": {},
     "nuid": "8732547b-6a3b-4ee8-94a9-fce63ee53e77",
     "showTitle": false,
     "tableResultSettingsMap": {},
     "title": ""
    }
   },
   "outputs": [
    {
     "output_type": "display_data",
     "data": {
      "image/png": "[encoded data removed]"
     },
     "metadata": {
      "application/vnd.databricks.v1+output": {
       "addedWidgets": {},
       "arguments": {},
       "data": "data:image/png;base64,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\n",
       "datasetInfos": [],
       "metadata": {},
       "removedWidgets": [],
       "type": "image"
      }
     },
     "output_type": "display_data"
    }
   ],
   "source": [
    "# Graficar la relación entre temperatura y presión\n",
    "plt.figure(figsize=(10, 6))\n",
    "plt.scatter(df_silver_pd['temperatura'], df_silver_pd['presion'], alpha=0.7)\n",
    "plt.title('Relación entre Temperatura y Presión')\n",
    "plt.xlabel('Temperatura')\n",
    "plt.ylabel('Presión')\n",
    "plt.grid(True)\n",
    "plt.show()"
   ]
  },
  {
   "cell_type": "code",
   "execution_count": 0,
   "metadata": {
    "application/vnd.databricks.v1+cell": {
     "cellMetadata": {
      "byteLimit": 2048000,
      "rowLimit": 10000
     },
     "inputWidgets": {},
     "nuid": "e1d5d4dc-2f4c-4d5f-9e4f-eb0a76cef710",
     "showTitle": false,
     "tableResultSettingsMap": {},
     "title": ""
    }
   },
   "outputs": [
    {
     "output_type": "display_data",
     "data": {
      "image/png": "[encoded data removed]"
     },
     "metadata": {
      "application/vnd.databricks.v1+output": {
       "addedWidgets": {},
       "arguments": {},
       "data": "data:image/png;base64,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\n",
       "datasetInfos": [],
       "metadata": {},
       "removedWidgets": [],
       "type": "image"
      }
     },
     "output_type": "display_data"
    }
   ],
   "source": [
    "# Graficar la cantidad de materiales por usuario\n",
    "plt.figure(figsize=(10, 6))\n",
    "df_silver_pd['usuario'].value_counts().plot(kind='bar', alpha=0.7)\n",
    "plt.title('Cantidad de Materiales por Usuario')\n",
    "plt.xlabel('Usuario')\n",
    "plt.ylabel('Cantidad de Materiales')\n",
    "plt.grid(True)\n",
    "plt.show()"
   ]
  },
  {
   "cell_type": "code",
   "execution_count": 0,
   "metadata": {
    "application/vnd.databricks.v1+cell": {
     "cellMetadata": {
      "byteLimit": 2048000,
      "rowLimit": 10000
     },
     "inputWidgets": {},
     "nuid": "032d0544-0b44-4a1d-980d-d2e453a4e585",
     "showTitle": false,
     "tableResultSettingsMap": {},
     "title": ""
    }
   },
   "outputs": [
    {
     "output_type": "stream",
     "name": "stdout",
     "output_type": "stream",
     "text": [
      "+-----------+--------------------+--------+-------------------+-------------------+--------------+-----------+-------+--------+-------------------------+----------+--------------------+\n|id_material|              nombre| usuario|composicion_quimica|         aplicacion|fecha_creacion|temperatura|presion|duracion|clasificacion_temperatura|  features|     scaled_features|\n+-----------+--------------------+--------+-------------------+-------------------+--------------+-----------+-------+--------+-------------------------+----------+--------------------+\n|        152|Micro esferas de ...|UsuarioB|                (C)|        Conductores|    2024-02-24|         42|    2.5|      30|                     Alta|[42.0,2.5]|[3.64154245246185...|\n|        975|Super tubos de plata|UsuarioA|             (SiO2)|Protectores solares|    2025-01-04|         20|    1.0|      50|                    Media|[20.0,1.0]|[1.73406783450564...|\n|        898|Ultra esferas de ...|UsuarioB|                (C)|     Antimicrobiano|    2024-11-06|         32|    1.5|      20|                     Alta|[32.0,1.5]|[2.77450853520903...|\n|        480|Micro partículas ...|UsuarioB|            (Sm2O3)|Protectores solares|    2024-12-23|         15|    3.0|      30|                     Baja|[15.0,3.0]|[1.30055087587923...|\n|        247|Ultra láminas de ...|UsuarioA|              (ZnO)|Protectores solares|    2024-09-07|         20|    2.0|      20|                    Media|[20.0,2.0]|[1.73406783450564...|\n|        846|Ultra esferas de oro|UsuarioA|            (Sm2O3)|           Sensores|    2024-12-22|         20|    1.5|      40|                    Media|[20.0,1.5]|[1.73406783450564...|\n|        738|Nano láminas de p...|UsuarioA|               (Ag)|Protectores solares|    2025-01-08|         42|    3.0|      10|                     Alta|[42.0,3.0]|[3.64154245246185...|\n|        503|Ultra partículas ...|UsuarioB|               (Ti)|Protectores solares|    2024-03-08|          9|    2.0|      10|                     Baja| [9.0,2.0]|[0.78033052552754...|\n|        676|Micro láminas de ...|UsuarioA|               (Ag)|     Antimicrobiano|    2024-09-03|         42|    3.0|      50|                     Alta|[42.0,3.0]|[3.64154245246185...|\n|        754|Super partículas ...|UsuarioB|               (Au)|        Conductores|    2024-11-03|         15|    3.0|      20|                     Baja|[15.0,3.0]|[1.30055087587923...|\n|        337|Super láminas de ...|UsuarioA|             (SiO2)|      Fotocatálisis|    2024-03-25|         15|    2.5|      30|                     Baja|[15.0,2.5]|[1.30055087587923...|\n|        155|Super láminas de ...|UsuarioA|            (Sm2O3)|      Fotocatálisis|    2024-05-19|         20|    3.0|      10|                    Media|[20.0,3.0]|[1.73406783450564...|\n|        190|Nano partículas d...|UsuarioA|            (Sm2O3)|           Sensores|    2024-07-15|         20|    1.0|      10|                    Media|[20.0,1.0]|[1.73406783450564...|\n|        685|Micro esferas de ...|UsuarioB|                (C)|      Fotocatálisis|    2024-07-07|          9|    2.5|      10|                     Baja| [9.0,2.5]|[0.78033052552754...|\n|        284|Ultra esferas de ...|UsuarioA|              (ZnO)|     Antimicrobiano|    2024-05-29|         15|    2.5|      30|                     Baja|[15.0,2.5]|[1.30055087587923...|\n|        977|Micro esferas de ...|UsuarioA|               (Ti)|Protectores solares|    2025-01-04|         15|    3.0|      50|                     Baja|[15.0,3.0]|[1.30055087587923...|\n|        947| Nano tubos de cobre|UsuarioB|               (Ti)|           Sensores|    2024-02-15|          9|    3.0|      10|                     Baja| [9.0,3.0]|[0.78033052552754...|\n|        402|Ultra láminas de ...|UsuarioA|               (Au)|     Antimicrobiano|    2024-09-27|          9|    2.5|      50|                     Baja| [9.0,2.5]|[0.78033052552754...|\n|        672|Ultra esferas de ...|UsuarioB|               (Fe)|           Sensores|    2024-08-17|         42|    1.5|      30|                     Alta|[42.0,1.5]|[3.64154245246185...|\n|        559|Ultra partículas ...|UsuarioA|             (SiO2)|           Sensores|    2024-04-26|         32|    3.0|      50|                     Alta|[32.0,3.0]|[2.77450853520903...|\n+-----------+--------------------+--------+-------------------+-------------------+--------------+-----------+-------+--------+-------------------------+----------+--------------------+\nonly showing top 20 rows\n\n"
     ]
    }
   ],
   "source": [
    "from pyspark.ml.feature import VectorAssembler, StandardScaler\n",
    "\n",
    "# Crear el ensamblador de vectores\n",
    "assembler = VectorAssembler(inputCols=[\"temperatura\", \"presion\"], outputCol=\"features\")\n",
    "df_features = assembler.transform(df_silver)\n",
    "\n",
    "# Crear el escalador estándar\n",
    "scaler = StandardScaler(inputCol=\"features\", outputCol=\"scaled_features\")\n",
    "df_scaled = scaler.fit(df_features).transform(df_features)\n",
    "\n",
    "# Mostrar las primeras filas del DataFrame escalado\n",
    "df_scaled.show()"
   ]
  },
  {
   "cell_type": "code",
   "execution_count": 0,
   "metadata": {
    "application/vnd.databricks.v1+cell": {
     "cellMetadata": {
      "byteLimit": 2048000,
      "rowLimit": 10000
     },
     "inputWidgets": {},
     "nuid": "4eae06de-c078-44c4-821f-4a1da1782c47",
     "showTitle": false,
     "tableResultSettingsMap": {},
     "title": ""
    }
   },
   "outputs": [],
   "source": [
    "from pyspark.sql.functions import col\n",
    "\n",
    "df_con_nuevas_caracteristicas = df_silver.withColumn(\"eficiencia\", col(\"temperatura\") / col(\"duracion\"))"
   ]
  },
  {
   "cell_type": "code",
   "execution_count": 0,
   "metadata": {
    "application/vnd.databricks.v1+cell": {
     "cellMetadata": {
      "byteLimit": 2048000,
      "rowLimit": 10000
     },
     "inputWidgets": {},
     "nuid": "83aeaebb-ec20-4d87-a34e-424434aae495",
     "showTitle": false,
     "tableResultSettingsMap": {},
     "title": ""
    }
   },
   "outputs": [],
   "source": [
    "from pyspark.sql.functions import col\n",
    "\n",
    "# Crear el DataFrame con la nueva característica\n",
    "df_con_nuevas_caracteristicas = df_silver.withColumn(\"eficiencia\", col(\"temperatura\") / col(\"duracion\"))\n",
    "\n",
    "# Crear una vista temporal llamada 'materiales_con_eficiencia'\n",
    "df_con_nuevas_caracteristicas.createOrReplaceTempView(\"materiales_con_eficiencia\")"
   ]
  },
  {
   "cell_type": "code",
   "execution_count": 0,
   "metadata": {
    "application/vnd.databricks.v1+cell": {
     "cellMetadata": {
      "byteLimit": 2048000,
      "implicitDf": true,
      "rowLimit": 10000
     },
     "inputWidgets": {},
     "nuid": "c36e0093-9646-4d38-89fc-99cedb055108",
     "showTitle": false,
     "tableResultSettingsMap": {},
     "title": ""
    }
   },
   "outputs": [
    {
     "output_type": "display_data",
     "data": {
      "text/html": [
       "<style scoped>\n",
       "  .table-result-container {\n",
       "    max-height: 300px;\n",
       "    overflow: auto;\n",
       "  }\n",
       "  table, th, td {\n",
       "    border: 1px solid black;\n",
       "    border-collapse: collapse;\n",
       "  }\n",
       "  th, td {\n",
       "    padding: 5px;\n",
       "  }\n",
       "  th {\n",
       "    text-align: left;\n",
       "  }\n",
       "</style><div class='table-result-container'><table class='table-result'><thead style='background-color: white'><tr><th>id_material</th><th>nombre</th><th>usuario</th><th>composicion_quimica</th><th>aplicacion</th><th>fecha_creacion</th><th>temperatura</th><th>presion</th><th>duracion</th><th>clasificacion_temperatura</th><th>eficiencia</th></tr></thead><tbody><tr><td>152</td><td>Micro esferas de titanio</td><td>UsuarioB</td><td>(C)</td><td>Conductores</td><td>2024-02-24</td><td>42</td><td>2.5</td><td>30</td><td>Alta</td><td>1.4</td></tr><tr><td>975</td><td>Super tubos de plata</td><td>UsuarioA</td><td>(SiO2)</td><td>Protectores solares</td><td>2025-01-04</td><td>20</td><td>1.0</td><td>50</td><td>Media</td><td>0.4</td></tr><tr><td>898</td><td>Ultra esferas de cobre</td><td>UsuarioB</td><td>(C)</td><td>Antimicrobiano</td><td>2024-11-06</td><td>32</td><td>1.5</td><td>20</td><td>Alta</td><td>1.6</td></tr><tr><td>480</td><td>Micro partículas de cobre</td><td>UsuarioB</td><td>(Sm2O3)</td><td>Protectores solares</td><td>2024-12-23</td><td>15</td><td>3.0</td><td>30</td><td>Baja</td><td>0.5</td></tr><tr><td>247</td><td>Ultra láminas de zinc</td><td>UsuarioA</td><td>(ZnO)</td><td>Protectores solares</td><td>2024-09-07</td><td>20</td><td>2.0</td><td>20</td><td>Media</td><td>1.0</td></tr><tr><td>846</td><td>Ultra esferas de oro</td><td>UsuarioA</td><td>(Sm2O3)</td><td>Sensores</td><td>2024-12-22</td><td>20</td><td>1.5</td><td>40</td><td>Media</td><td>0.5</td></tr><tr><td>738</td><td>Nano láminas de plata</td><td>UsuarioA</td><td>(Ag)</td><td>Protectores solares</td><td>2025-01-08</td><td>42</td><td>3.0</td><td>10</td><td>Alta</td><td>4.2</td></tr><tr><td>503</td><td>Ultra partículas de óxido de samario</td><td>UsuarioB</td><td>(Ti)</td><td>Protectores solares</td><td>2024-03-08</td><td>9</td><td>2.0</td><td>10</td><td>Baja</td><td>0.9</td></tr><tr><td>676</td><td>Micro láminas de zinc</td><td>UsuarioA</td><td>(Ag)</td><td>Antimicrobiano</td><td>2024-09-03</td><td>42</td><td>3.0</td><td>50</td><td>Alta</td><td>0.84</td></tr><tr><td>754</td><td>Super partículas de plata</td><td>UsuarioB</td><td>(Au)</td><td>Conductores</td><td>2024-11-03</td><td>15</td><td>3.0</td><td>20</td><td>Baja</td><td>0.75</td></tr><tr><td>337</td><td>Super láminas de zinc</td><td>UsuarioA</td><td>(SiO2)</td><td>Fotocatálisis</td><td>2024-03-25</td><td>15</td><td>2.5</td><td>30</td><td>Baja</td><td>0.5</td></tr><tr><td>155</td><td>Super láminas de carbono</td><td>UsuarioA</td><td>(Sm2O3)</td><td>Fotocatálisis</td><td>2024-05-19</td><td>20</td><td>3.0</td><td>10</td><td>Media</td><td>2.0</td></tr><tr><td>190</td><td>Nano partículas de hierro</td><td>UsuarioA</td><td>(Sm2O3)</td><td>Sensores</td><td>2024-07-15</td><td>20</td><td>1.0</td><td>10</td><td>Media</td><td>2.0</td></tr><tr><td>685</td><td>Micro esferas de zinc</td><td>UsuarioB</td><td>(C)</td><td>Fotocatálisis</td><td>2024-07-07</td><td>9</td><td>2.5</td><td>10</td><td>Baja</td><td>0.9</td></tr><tr><td>284</td><td>Ultra esferas de plata</td><td>UsuarioA</td><td>(ZnO)</td><td>Antimicrobiano</td><td>2024-05-29</td><td>15</td><td>2.5</td><td>30</td><td>Baja</td><td>0.5</td></tr><tr><td>977</td><td>Micro esferas de carbono</td><td>UsuarioA</td><td>(Ti)</td><td>Protectores solares</td><td>2025-01-04</td><td>15</td><td>3.0</td><td>50</td><td>Baja</td><td>0.3</td></tr><tr><td>947</td><td>Nano tubos de cobre</td><td>UsuarioB</td><td>(Ti)</td><td>Sensores</td><td>2024-02-15</td><td>9</td><td>3.0</td><td>10</td><td>Baja</td><td>0.9</td></tr><tr><td>402</td><td>Ultra láminas de sílice</td><td>UsuarioA</td><td>(Au)</td><td>Antimicrobiano</td><td>2024-09-27</td><td>9</td><td>2.5</td><td>50</td><td>Baja</td><td>0.18</td></tr><tr><td>672</td><td>Ultra esferas de óxido de samario</td><td>UsuarioB</td><td>(Fe)</td><td>Sensores</td><td>2024-08-17</td><td>42</td><td>1.5</td><td>30</td><td>Alta</td><td>1.4</td></tr><tr><td>559</td><td>Ultra partículas de óxido de samario</td><td>UsuarioA</td><td>(SiO2)</td><td>Sensores</td><td>2024-04-26</td><td>32</td><td>3.0</td><td>50</td><td>Alta</td><td>0.64</td></tr><tr><td>448</td><td>Ultra partículas de óxido de samario</td><td>UsuarioA</td><td>(C)</td><td>Fotocatálisis</td><td>2024-04-17</td><td>42</td><td>2.5</td><td>20</td><td>Alta</td><td>2.1</td></tr><tr><td>189</td><td>Super partículas de sílice</td><td>UsuarioA</td><td>(Sm2O3)</td><td>Conductores</td><td>2024-04-18</td><td>42</td><td>2.0</td><td>50</td><td>Alta</td><td>0.84</td></tr><tr><td>583</td><td>Ultra esferas de oro</td><td>UsuarioB</td><td>(ZnO)</td><td>Fotocatálisis</td><td>2024-12-07</td><td>15</td><td>2.5</td><td>30</td><td>Baja</td><td>0.5</td></tr><tr><td>883</td><td>Ultra esferas de carbono</td><td>UsuarioA</td><td>(Fe)</td><td>Conductores</td><td>2025-01-05</td><td>9</td><td>1.5</td><td>10</td><td>Baja</td><td>0.9</td></tr><tr><td>285</td><td>Ultra partículas de titanio</td><td>UsuarioB</td><td>(C)</td><td>Fotocatálisis</td><td>2024-05-15</td><td>20</td><td>2.5</td><td>50</td><td>Media</td><td>0.4</td></tr><tr><td>482</td><td>Nano partículas de titanio</td><td>UsuarioA</td><td>(Sm2O3)</td><td>Antimicrobiano</td><td>2024-12-21</td><td>15</td><td>1.5</td><td>10</td><td>Baja</td><td>1.5</td></tr><tr><td>134</td><td>Ultra tubos de oro</td><td>UsuarioA</td><td>(Fe)</td><td>Sensores</td><td>2024-10-02</td><td>15</td><td>2.5</td><td>30</td><td>Baja</td><td>0.5</td></tr><tr><td>329</td><td>Nano partículas de cobre</td><td>UsuarioA</td><td>(SiO2)</td><td>Conductores</td><td>2024-07-05</td><td>20</td><td>3.0</td><td>50</td><td>Media</td><td>0.4</td></tr><tr><td>21</td><td>Nano láminas de zinc</td><td>UsuarioA</td><td>(Au)</td><td>Sensores</td><td>2024-03-28</td><td>32</td><td>1.5</td><td>30</td><td>Alta</td><td>1.0666666666666667</td></tr><tr><td>472</td><td>Micro láminas de cobre</td><td>UsuarioA</td><td>(Cu)</td><td>Antimicrobiano</td><td>2024-08-15</td><td>9</td><td>2.5</td><td>20</td><td>Baja</td><td>0.45</td></tr><tr><td>450</td><td>Nano esferas de zinc</td><td>UsuarioA</td><td>(Fe)</td><td>Fotocatálisis</td><td>2024-11-30</td><td>32</td><td>3.0</td><td>20</td><td>Alta</td><td>1.6</td></tr><tr><td>152</td><td>Nano esferas de titanio</td><td>UsuarioB</td><td>(Ag)</td><td>Sensores</td><td>2024-03-19</td><td>9</td><td>3.0</td><td>20</td><td>Baja</td><td>0.45</td></tr><tr><td>946</td><td>Nano tubos de carbono</td><td>UsuarioA</td><td>(C)</td><td>Sensores</td><td>2024-08-25</td><td>9</td><td>1.5</td><td>30</td><td>Baja</td><td>0.3</td></tr><tr><td>18</td><td>Super tubos de zinc</td><td>UsuarioA</td><td>(Au)</td><td>Fotocatálisis</td><td>2024-09-22</td><td>20</td><td>1.5</td><td>30</td><td>Media</td><td>0.6666666666666666</td></tr><tr><td>58</td><td>Super tubos de hierro</td><td>UsuarioA</td><td>(Au)</td><td>Antimicrobiano</td><td>2024-04-04</td><td>42</td><td>2.5</td><td>10</td><td>Alta</td><td>4.2</td></tr><tr><td>681</td><td>Nano esferas de óxido de samario</td><td>UsuarioB</td><td>(Ti)</td><td>Protectores solares</td><td>2024-02-14</td><td>32</td><td>3.0</td><td>10</td><td>Alta</td><td>3.2</td></tr><tr><td>367</td><td>Super tubos de hierro</td><td>UsuarioB</td><td>(Cu)</td><td>Antimicrobiano</td><td>2024-02-08</td><td>20</td><td>2.5</td><td>10</td><td>Media</td><td>2.0</td></tr><tr><td>755</td><td>Super tubos de cobre</td><td>UsuarioB</td><td>(ZnO)</td><td>Conductores</td><td>2024-08-02</td><td>20</td><td>2.0</td><td>30</td><td>Media</td><td>0.6666666666666666</td></tr><tr><td>54</td><td>Micro partículas de hierro</td><td>UsuarioA</td><td>(Au)</td><td>Conductores</td><td>2024-04-20</td><td>20</td><td>2.0</td><td>10</td><td>Media</td><td>2.0</td></tr><tr><td>734</td><td>Micro esferas de cobre</td><td>UsuarioB</td><td>(ZnO)</td><td>Sensores</td><td>2024-02-12</td><td>32</td><td>2.5</td><td>20</td><td>Alta</td><td>1.6</td></tr><tr><td>904</td><td>Nano partículas de sílice</td><td>UsuarioA</td><td>(Ag)</td><td>Conductores</td><td>2024-02-01</td><td>32</td><td>1.0</td><td>10</td><td>Alta</td><td>3.2</td></tr><tr><td>741</td><td>Ultra partículas de sílice</td><td>UsuarioA</td><td>(ZnO)</td><td>Fotocatálisis</td><td>2024-05-18</td><td>32</td><td>2.0</td><td>30</td><td>Alta</td><td>1.0666666666666667</td></tr><tr><td>790</td><td>Micro partículas de cobre</td><td>UsuarioA</td><td>(Au)</td><td>Sensores</td><td>2024-07-06</td><td>15</td><td>2.5</td><td>50</td><td>Baja</td><td>0.3</td></tr><tr><td>826</td><td>Nano esferas de plata</td><td>UsuarioB</td><td>(Fe)</td><td>Protectores solares</td><td>2024-03-26</td><td>42</td><td>2.0</td><td>50</td><td>Alta</td><td>0.84</td></tr><tr><td>404</td><td>Micro láminas de hierro</td><td>UsuarioA</td><td>(Ag)</td><td>Protectores solares</td><td>2024-11-26</td><td>15</td><td>2.0</td><td>40</td><td>Baja</td><td>0.375</td></tr><tr><td>445</td><td>Super partículas de carbono</td><td>UsuarioA</td><td>(Sm2O3)</td><td>Protectores solares</td><td>2024-07-04</td><td>32</td><td>1.0</td><td>20</td><td>Alta</td><td>1.6</td></tr><tr><td>895</td><td>Nano láminas de titanio</td><td>UsuarioB</td><td>(Au)</td><td>Sensores</td><td>2024-02-14</td><td>20</td><td>3.0</td><td>40</td><td>Media</td><td>0.5</td></tr><tr><td>410</td><td>Super esferas de zinc</td><td>UsuarioB</td><td>(Ti)</td><td>Conductores</td><td>2024-05-04</td><td>32</td><td>1.0</td><td>40</td><td>Alta</td><td>0.8</td></tr><tr><td>931</td><td>Nano láminas de óxido de samario</td><td>UsuarioA</td><td>(Cu)</td><td>Antimicrobiano</td><td>2024-08-24</td><td>42</td><td>1.5</td><td>10</td><td>Alta</td><td>4.2</td></tr><tr><td>709</td><td>Super esferas de zinc</td><td>UsuarioB</td><td>(C)</td><td>Antimicrobiano</td><td>2024-03-15</td><td>15</td><td>3.0</td><td>20</td><td>Baja</td><td>0.75</td></tr><tr><td>607</td><td>Super partículas de hierro</td><td>UsuarioA</td><td>(Sm2O3)</td><td>Protectores solares</td><td>2024-06-03</td><td>20</td><td>1.5</td><td>40</td><td>Media</td><td>0.5</td></tr><tr><td>159</td><td>Ultra partículas de titanio</td><td>UsuarioB</td><td>(Fe)</td><td>Antimicrobiano</td><td>2024-01-15</td><td>9</td><td>2.5</td><td>30</td><td>Baja</td><td>0.3</td></tr><tr><td>634</td><td>Ultra tubos de cobre</td><td>UsuarioA</td><td>(Cu)</td><td>Fotocatálisis</td><td>2024-06-11</td><td>15</td><td>2.5</td><td>30</td><td>Baja</td><td>0.5</td></tr><tr><td>645</td><td>Ultra láminas de carbono</td><td>UsuarioB</td><td>(Ti)</td><td>Protectores solares</td><td>2024-05-29</td><td>42</td><td>2.0</td><td>50</td><td>Alta</td><td>0.84</td></tr><tr><td>337</td><td>Super esferas de titanio</td><td>UsuarioB</td><td>(SiO2)</td><td>Protectores solares</td><td>2024-06-29</td><td>32</td><td>2.0</td><td>40</td><td>Alta</td><td>0.8</td></tr><tr><td>862</td><td>Nano partículas de óxido de samario</td><td>UsuarioB</td><td>(Au)</td><td>Sensores</td><td>2024-09-01</td><td>32</td><td>2.0</td><td>10</td><td>Alta</td><td>3.2</td></tr><tr><td>291</td><td>Ultra esferas de hierro</td><td>UsuarioB</td><td>(Cu)</td><td>Sensores</td><td>2024-06-08</td><td>15</td><td>2.5</td><td>40</td><td>Baja</td><td>0.375</td></tr><tr><td>159</td><td>Ultra esferas de óxido de samario</td><td>UsuarioA</td><td>(Fe)</td><td>Antimicrobiano</td><td>2024-12-16</td><td>9</td><td>3.0</td><td>10</td><td>Baja</td><td>0.9</td></tr><tr><td>963</td><td>Ultra esferas de oro</td><td>UsuarioA</td><td>(SiO2)</td><td>Conductores</td><td>2024-09-21</td><td>20</td><td>2.0</td><td>40</td><td>Media</td><td>0.5</td></tr><tr><td>774</td><td>Ultra esferas de hierro</td><td>UsuarioB</td><td>(Sm2O3)</td><td>Protectores solares</td><td>2024-04-17</td><td>15</td><td>2.0</td><td>40</td><td>Baja</td><td>0.375</td></tr><tr><td>377</td><td>Ultra tubos de óxido de samario</td><td>UsuarioB</td><td>(C)</td><td>Protectores solares</td><td>2024-12-27</td><td>9</td><td>2.5</td><td>20</td><td>Baja</td><td>0.45</td></tr><tr><td>423</td><td>Super tubos de óxido de samario</td><td>UsuarioA</td><td>(Sm2O3)</td><td>Protectores solares</td><td>2024-06-24</td><td>15</td><td>2.0</td><td>10</td><td>Baja</td><td>1.5</td></tr><tr><td>292</td><td>Super tubos de hierro</td><td>UsuarioA</td><td>(Ti)</td><td>Sensores</td><td>2024-07-04</td><td>20</td><td>3.0</td><td>30</td><td>Media</td><td>0.6666666666666666</td></tr><tr><td>101</td><td>Micro esferas de sílice</td><td>UsuarioA</td><td>(C)</td><td>Sensores</td><td>2024-04-29</td><td>9</td><td>1.5</td><td>20</td><td>Baja</td><td>0.45</td></tr><tr><td>689</td><td>Ultra esferas de cobre</td><td>UsuarioA</td><td>(SiO2)</td><td>Fotocatálisis</td><td>2024-07-15</td><td>15</td><td>1.0</td><td>20</td><td>Baja</td><td>0.75</td></tr><tr><td>580</td><td>Super láminas de oro</td><td>UsuarioB</td><td>(Sm2O3)</td><td>Conductores</td><td>2024-05-24</td><td>15</td><td>2.5</td><td>40</td><td>Baja</td><td>0.375</td></tr><tr><td>818</td><td>Nano esferas de oro</td><td>UsuarioB</td><td>(Ti)</td><td>Fotocatálisis</td><td>2025-01-04</td><td>15</td><td>3.0</td><td>40</td><td>Baja</td><td>0.375</td></tr><tr><td>456</td><td>Super láminas de hierro</td><td>UsuarioB</td><td>(Ag)</td><td>Fotocatálisis</td><td>2024-09-25</td><td>32</td><td>1.0</td><td>30</td><td>Alta</td><td>1.0666666666666667</td></tr><tr><td>61</td><td>Super partículas de oro</td><td>UsuarioA</td><td>(C)</td><td>Sensores</td><td>2024-11-21</td><td>32</td><td>2.5</td><td>20</td><td>Alta</td><td>1.6</td></tr><tr><td>302</td><td>Super esferas de óxido de samario</td><td>UsuarioA</td><td>(SiO2)</td><td>Sensores</td><td>2024-09-22</td><td>15</td><td>2.5</td><td>10</td><td>Baja</td><td>1.5</td></tr><tr><td>433</td><td>Nano tubos de oro</td><td>UsuarioA</td><td>(Sm2O3)</td><td>Conductores</td><td>2024-05-06</td><td>9</td><td>3.0</td><td>50</td><td>Baja</td><td>0.18</td></tr><tr><td>516</td><td>Micro láminas de plata</td><td>UsuarioA</td><td>(Fe)</td><td>Antimicrobiano</td><td>2024-01-31</td><td>9</td><td>2.5</td><td>10</td><td>Baja</td><td>0.9</td></tr><tr><td>427</td><td>Ultra tubos de oro</td><td>UsuarioA</td><td>(Cu)</td><td>Antimicrobiano</td><td>2024-05-08</td><td>32</td><td>1.0</td><td>30</td><td>Alta</td><td>1.0666666666666667</td></tr><tr><td>685</td><td>Ultra esferas de plata</td><td>UsuarioB</td><td>(C)</td><td>Protectores solares</td><td>2024-06-04</td><td>42</td><td>2.0</td><td>20</td><td>Alta</td><td>2.1</td></tr><tr><td>655</td><td>Nano esferas de plata</td><td>UsuarioA</td><td>(SiO2)</td><td>Sensores</td><td>2024-10-29</td><td>32</td><td>1.0</td><td>40</td><td>Alta</td><td>0.8</td></tr><tr><td>645</td><td>Super esferas de carbono</td><td>UsuarioB</td><td>(Cu)</td><td>Sensores</td><td>2024-06-21</td><td>20</td><td>1.0</td><td>40</td><td>Media</td><td>0.5</td></tr><tr><td>450</td><td>Super tubos de hierro</td><td>UsuarioB</td><td>(SiO2)</td><td>Fotocatálisis</td><td>2024-06-25</td><td>32</td><td>1.5</td><td>50</td><td>Alta</td><td>0.64</td></tr><tr><td>266</td><td>Micro láminas de zinc</td><td>UsuarioA</td><td>(Cu)</td><td>Fotocatálisis</td><td>2024-05-21</td><td>9</td><td>2.0</td><td>50</td><td>Baja</td><td>0.18</td></tr><tr><td>91</td><td>Nano esferas de titanio</td><td>UsuarioB</td><td>(Fe)</td><td>Protectores solares</td><td>2024-11-11</td><td>42</td><td>1.0</td><td>50</td><td>Alta</td><td>0.84</td></tr><tr><td>514</td><td>Nano partículas de carbono</td><td>UsuarioB</td><td>(ZnO)</td><td>Fotocatálisis</td><td>2024-03-09</td><td>20</td><td>2.0</td><td>50</td><td>Media</td><td>0.4</td></tr><tr><td>356</td><td>Micro tubos de zinc</td><td>UsuarioA</td><td>(C)</td><td>Sensores</td><td>2024-07-06</td><td>20</td><td>1.0</td><td>30</td><td>Media</td><td>0.6666666666666666</td></tr><tr><td>372</td><td>Ultra tubos de carbono</td><td>UsuarioA</td><td>(Au)</td><td>Protectores solares</td><td>2024-09-03</td><td>42</td><td>3.0</td><td>50</td><td>Alta</td><td>0.84</td></tr><tr><td>885</td><td>Ultra partículas de carbono</td><td>UsuarioB</td><td>(Ag)</td><td>Protectores solares</td><td>2024-01-18</td><td>15</td><td>1.0</td><td>50</td><td>Baja</td><td>0.3</td></tr><tr><td>410</td><td>Super tubos de óxido de samario</td><td>UsuarioA</td><td>(Cu)</td><td>Protectores solares</td><td>2024-09-05</td><td>42</td><td>3.0</td><td>30</td><td>Alta</td><td>1.4</td></tr><tr><td>783</td><td>Super esferas de plata</td><td>UsuarioB</td><td>(Sm2O3)</td><td>Antimicrobiano</td><td>2024-03-31</td><td>15</td><td>1.0</td><td>20</td><td>Baja</td><td>0.75</td></tr><tr><td>810</td><td>Nano esferas de zinc</td><td>UsuarioB</td><td>(C)</td><td>Sensores</td><td>2024-04-20</td><td>9</td><td>1.0</td><td>30</td><td>Baja</td><td>0.3</td></tr><tr><td>575</td><td>Micro láminas de zinc</td><td>UsuarioB</td><td>(C)</td><td>Conductores</td><td>2024-04-29</td><td>42</td><td>2.5</td><td>10</td><td>Alta</td><td>4.2</td></tr><tr><td>456</td><td>Micro tubos de plata</td><td>UsuarioA</td><td>(C)</td><td>Fotocatálisis</td><td>2024-03-02</td><td>42</td><td>1.0</td><td>40</td><td>Alta</td><td>1.05</td></tr><tr><td>390</td><td>Nano láminas de plata</td><td>UsuarioB</td><td>(Au)</td><td>Antimicrobiano</td><td>2024-06-15</td><td>32</td><td>1.5</td><td>10</td><td>Alta</td><td>3.2</td></tr><tr><td>728</td><td>Ultra partículas de plata</td><td>UsuarioB</td><td>(Cu)</td><td>Conductores</td><td>2025-01-05</td><td>42</td><td>1.0</td><td>40</td><td>Alta</td><td>1.05</td></tr><tr><td>842</td><td>Super tubos de óxido de samario</td><td>UsuarioA</td><td>(C)</td><td>Conductores</td><td>2024-03-29</td><td>32</td><td>2.5</td><td>40</td><td>Alta</td><td>0.8</td></tr><tr><td>614</td><td>Nano tubos de titanio</td><td>UsuarioA</td><td>(ZnO)</td><td>Fotocatálisis</td><td>2024-02-09</td><td>32</td><td>1.0</td><td>30</td><td>Alta</td><td>1.0666666666666667</td></tr><tr><td>981</td><td>Super tubos de plata</td><td>UsuarioA</td><td>(SiO2)</td><td>Fotocatálisis</td><td>2024-05-14</td><td>32</td><td>1.0</td><td>20</td><td>Alta</td><td>1.6</td></tr><tr><td>569</td><td>Micro esferas de hierro</td><td>UsuarioA</td><td>(Ti)</td><td>Sensores</td><td>2024-03-20</td><td>20</td><td>1.0</td><td>50</td><td>Media</td><td>0.4</td></tr><tr><td>821</td><td>Super tubos de titanio</td><td>UsuarioA</td><td>(Fe)</td><td>Conductores</td><td>2024-09-08</td><td>9</td><td>1.5</td><td>30</td><td>Baja</td><td>0.3</td></tr><tr><td>192</td><td>Nano tubos de hierro</td><td>UsuarioB</td><td>(Ag)</td><td>Protectores solares</td><td>2024-07-28</td><td>32</td><td>3.0</td><td>10</td><td>Alta</td><td>3.2</td></tr><tr><td>73</td><td>Super láminas de cobre</td><td>UsuarioB</td><td>(C)</td><td>Sensores</td><td>2024-07-13</td><td>20</td><td>1.0</td><td>50</td><td>Media</td><td>0.4</td></tr><tr><td>104</td><td>Super esferas de sílice</td><td>UsuarioB</td><td>(Fe)</td><td>Antimicrobiano</td><td>2024-07-25</td><td>20</td><td>1.0</td><td>30</td><td>Media</td><td>0.6666666666666666</td></tr><tr><td>128</td><td>Nano tubos de oro</td><td>UsuarioB</td><td>(ZnO)</td><td>Sensores</td><td>2024-02-08</td><td>15</td><td>2.0</td><td>20</td><td>Baja</td><td>0.75</td></tr><tr><td>119</td><td>Micro tubos de cobre</td><td>UsuarioA</td><td>(Ag)</td><td>Fotocatálisis</td><td>2024-12-17</td><td>42</td><td>2.5</td><td>30</td><td>Alta</td><td>1.4</td></tr></tbody></table></div>"
      ]
     },
     "metadata": {
      "application/vnd.databricks.v1+output": {
       "addedWidgets": {},
       "aggData": [],
       "aggError": "",
       "aggOverflow": false,
       "aggSchema": [],
       "aggSeriesLimitReached": false,
       "aggType": "",
       "arguments": {},
       "columnCustomDisplayInfos": {},
       "data": [
        [
         152,
         "Micro esferas de titanio",
         "UsuarioB",
         "(C)",
         "Conductores",
         "2024-02-24",
         42,
         2.5,
         30,
         "Alta",
         1.4
        ],
        [
         975,
         "Super tubos de plata",
         "UsuarioA",
         "(SiO2)",
         "Protectores solares",
         "2025-01-04",
         20,
         1.0,
         50,
         "Media",
         0.4
        ],
        [
         898,
         "Ultra esferas de cobre",
         "UsuarioB",
         "(C)",
         "Antimicrobiano",
         "2024-11-06",
         32,
         1.5,
         20,
         "Alta",
         1.6
        ],
        [
         480,
         "Micro partículas de cobre",
         "UsuarioB",
         "(Sm2O3)",
         "Protectores solares",
         "2024-12-23",
         15,
         3.0,
         30,
         "Baja",
         0.5
        ],
        [
         247,
         "Ultra láminas de zinc",
         "UsuarioA",
         "(ZnO)",
         "Protectores solares",
         "2024-09-07",
         20,
         2.0,
         20,
         "Media",
         1.0
        ],
        [
         846,
         "Ultra esferas de oro",
         "UsuarioA",
         "(Sm2O3)",
         "Sensores",
         "2024-12-22",
         20,
         1.5,
         40,
         "Media",
         0.5
        ],
        [
         738,
         "Nano láminas de plata",
         "UsuarioA",
         "(Ag)",
         "Protectores solares",
         "2025-01-08",
         42,
         3.0,
         10,
         "Alta",
         4.2
        ],
        [
         503,
         "Ultra partículas de óxido de samario",
         "UsuarioB",
         "(Ti)",
         "Protectores solares",
         "2024-03-08",
         9,
         2.0,
         10,
         "Baja",
         0.9
        ],
        [
         676,
         "Micro láminas de zinc",
         "UsuarioA",
         "(Ag)",
         "Antimicrobiano",
         "2024-09-03",
         42,
         3.0,
         50,
         "Alta",
         0.84
        ],
        [
         754,
         "Super partículas de plata",
         "UsuarioB",
         "(Au)",
         "Conductores",
         "2024-11-03",
         15,
         3.0,
         20,
         "Baja",
         0.75
        ],
        [
         337,
         "Super láminas de zinc",
         "UsuarioA",
         "(SiO2)",
         "Fotocatálisis",
         "2024-03-25",
         15,
         2.5,
         30,
         "Baja",
         0.5
        ],
        [
         155,
         "Super láminas de carbono",
         "UsuarioA",
         "(Sm2O3)",
         "Fotocatálisis",
         "2024-05-19",
         20,
         3.0,
         10,
         "Media",
         2.0
        ],
        [
         190,
         "Nano partículas de hierro",
         "UsuarioA",
         "(Sm2O3)",
         "Sensores",
         "2024-07-15",
         20,
         1.0,
         10,
         "Media",
         2.0
        ],
        [
         685,
         "Micro esferas de zinc",
         "UsuarioB",
         "(C)",
         "Fotocatálisis",
         "2024-07-07",
         9,
         2.5,
         10,
         "Baja",
         0.9
        ],
        [
         284,
         "Ultra esferas de plata",
         "UsuarioA",
         "(ZnO)",
         "Antimicrobiano",
         "2024-05-29",
         15,
         2.5,
         30,
         "Baja",
         0.5
        ],
        [
         977,
         "Micro esferas de carbono",
         "UsuarioA",
         "(Ti)",
         "Protectores solares",
         "2025-01-04",
         15,
         3.0,
         50,
         "Baja",
         0.3
        ],
        [
         947,
         "Nano tubos de cobre",
         "UsuarioB",
         "(Ti)",
         "Sensores",
         "2024-02-15",
         9,
         3.0,
         10,
         "Baja",
         0.9
        ],
        [
         402,
         "Ultra láminas de sílice",
         "UsuarioA",
         "(Au)",
         "Antimicrobiano",
         "2024-09-27",
         9,
         2.5,
         50,
         "Baja",
         0.18
        ],
        [
         672,
         "Ultra esferas de óxido de samario",
         "UsuarioB",
         "(Fe)",
         "Sensores",
         "2024-08-17",
         42,
         1.5,
         30,
         "Alta",
         1.4
        ],
        [
         559,
         "Ultra partículas de óxido de samario",
         "UsuarioA",
         "(SiO2)",
         "Sensores",
         "2024-04-26",
         32,
         3.0,
         50,
         "Alta",
         0.64
        ],
        [
         448,
         "Ultra partículas de óxido de samario",
         "UsuarioA",
         "(C)",
         "Fotocatálisis",
         "2024-04-17",
         42,
         2.5,
         20,
         "Alta",
         2.1
        ],
        [
         189,
         "Super partículas de sílice",
         "UsuarioA",
         "(Sm2O3)",
         "Conductores",
         "2024-04-18",
         42,
         2.0,
         50,
         "Alta",
         0.84
        ],
        [
         583,
         "Ultra esferas de oro",
         "UsuarioB",
         "(ZnO)",
         "Fotocatálisis",
         "2024-12-07",
         15,
         2.5,
         30,
         "Baja",
         0.5
        ],
        [
         883,
         "Ultra esferas de carbono",
         "UsuarioA",
         "(Fe)",
         "Conductores",
         "2025-01-05",
         9,
         1.5,
         10,
         "Baja",
         0.9
        ],
        [
         285,
         "Ultra partículas de titanio",
         "UsuarioB",
         "(C)",
         "Fotocatálisis",
         "2024-05-15",
         20,
         2.5,
         50,
         "Media",
         0.4
        ],
        [
         482,
         "Nano partículas de titanio",
         "UsuarioA",
         "(Sm2O3)",
         "Antimicrobiano",
         "2024-12-21",
         15,
         1.5,
         10,
         "Baja",
         1.5
        ],
        [
         134,
         "Ultra tubos de oro",
         "UsuarioA",
         "(Fe)",
         "Sensores",
         "2024-10-02",
         15,
         2.5,
         30,
         "Baja",
         0.5
        ],
        [
         329,
         "Nano partículas de cobre",
         "UsuarioA",
         "(SiO2)",
         "Conductores",
         "2024-07-05",
         20,
         3.0,
         50,
         "Media",
         0.4
        ],
        [
         21,
         "Nano láminas de zinc",
         "UsuarioA",
         "(Au)",
         "Sensores",
         "2024-03-28",
         32,
         1.5,
         30,
         "Alta",
         1.0666666666666667
        ],
        [
         472,
         "Micro láminas de cobre",
         "UsuarioA",
         "(Cu)",
         "Antimicrobiano",
         "2024-08-15",
         9,
         2.5,
         20,
         "Baja",
         0.45
        ],
        [
         450,
         "Nano esferas de zinc",
         "UsuarioA",
         "(Fe)",
         "Fotocatálisis",
         "2024-11-30",
         32,
         3.0,
         20,
         "Alta",
         1.6
        ],
        [
         152,
         "Nano esferas de titanio",
         "UsuarioB",
         "(Ag)",
         "Sensores",
         "2024-03-19",
         9,
         3.0,
         20,
         "Baja",
         0.45
        ],
        [
         946,
         "Nano tubos de carbono",
         "UsuarioA",
         "(C)",
         "Sensores",
         "2024-08-25",
         9,
         1.5,
         30,
         "Baja",
         0.3
        ],
        [
         18,
         "Super tubos de zinc",
         "UsuarioA",
         "(Au)",
         "Fotocatálisis",
         "2024-09-22",
         20,
         1.5,
         30,
         "Media",
         0.6666666666666666
        ],
        [
         58,
         "Super tubos de hierro",
         "UsuarioA",
         "(Au)",
         "Antimicrobiano",
         "2024-04-04",
         42,
         2.5,
         10,
         "Alta",
         4.2
        ],
        [
         681,
         "Nano esferas de óxido de samario",
         "UsuarioB",
         "(Ti)",
         "Protectores solares",
         "2024-02-14",
         32,
         3.0,
         10,
         "Alta",
         3.2
        ],
        [
         367,
         "Super tubos de hierro",
         "UsuarioB",
         "(Cu)",
         "Antimicrobiano",
         "2024-02-08",
         20,
         2.5,
         10,
         "Media",
         2.0
        ],
        [
         755,
         "Super tubos de cobre",
         "UsuarioB",
         "(ZnO)",
         "Conductores",
         "2024-08-02",
         20,
         2.0,
         30,
         "Media",
         0.6666666666666666
        ],
        [
         54,
         "Micro partículas de hierro",
         "UsuarioA",
         "(Au)",
         "Conductores",
         "2024-04-20",
         20,
         2.0,
         10,
         "Media",
         2.0
        ],
        [
         734,
         "Micro esferas de cobre",
         "UsuarioB",
         "(ZnO)",
         "Sensores",
         "2024-02-12",
         32,
         2.5,
         20,
         "Alta",
         1.6
        ],
        [
         904,
         "Nano partículas de sílice",
         "UsuarioA",
         "(Ag)",
         "Conductores",
         "2024-02-01",
         32,
         1.0,
         10,
         "Alta",
         3.2
        ],
        [
         741,
         "Ultra partículas de sílice",
         "UsuarioA",
         "(ZnO)",
         "Fotocatálisis",
         "2024-05-18",
         32,
         2.0,
         30,
         "Alta",
         1.0666666666666667
        ],
        [
         790,
         "Micro partículas de cobre",
         "UsuarioA",
         "(Au)",
         "Sensores",
         "2024-07-06",
         15,
         2.5,
         50,
         "Baja",
         0.3
        ],
        [
         826,
         "Nano esferas de plata",
         "UsuarioB",
         "(Fe)",
         "Protectores solares",
         "2024-03-26",
         42,
         2.0,
         50,
         "Alta",
         0.84
        ],
        [
         404,
         "Micro láminas de hierro",
         "UsuarioA",
         "(Ag)",
         "Protectores solares",
         "2024-11-26",
         15,
         2.0,
         40,
         "Baja",
         0.375
        ],
        [
         445,
         "Super partículas de carbono",
         "UsuarioA",
         "(Sm2O3)",
         "Protectores solares",
         "2024-07-04",
         32,
         1.0,
         20,
         "Alta",
         1.6
        ],
        [
         895,
         "Nano láminas de titanio",
         "UsuarioB",
         "(Au)",
         "Sensores",
         "2024-02-14",
         20,
         3.0,
         40,
         "Media",
         0.5
        ],
        [
         410,
         "Super esferas de zinc",
         "UsuarioB",
         "(Ti)",
         "Conductores",
         "2024-05-04",
         32,
         1.0,
         40,
         "Alta",
         0.8
        ],
        [
         931,
         "Nano láminas de óxido de samario",
         "UsuarioA",
         "(Cu)",
         "Antimicrobiano",
         "2024-08-24",
         42,
         1.5,
         10,
         "Alta",
         4.2
        ],
        [
         709,
         "Super esferas de zinc",
         "UsuarioB",
         "(C)",
         "Antimicrobiano",
         "2024-03-15",
         15,
         3.0,
         20,
         "Baja",
         0.75
        ],
        [
         607,
         "Super partículas de hierro",
         "UsuarioA",
         "(Sm2O3)",
         "Protectores solares",
         "2024-06-03",
         20,
         1.5,
         40,
         "Media",
         0.5
        ],
        [
         159,
         "Ultra partículas de titanio",
         "UsuarioB",
         "(Fe)",
         "Antimicrobiano",
         "2024-01-15",
         9,
         2.5,
         30,
         "Baja",
         0.3
        ],
        [
         634,
         "Ultra tubos de cobre",
         "UsuarioA",
         "(Cu)",
         "Fotocatálisis",
         "2024-06-11",
         15,
         2.5,
         30,
         "Baja",
         0.5
        ],
        [
         645,
         "Ultra láminas de carbono",
         "UsuarioB",
         "(Ti)",
         "Protectores solares",
         "2024-05-29",
         42,
         2.0,
         50,
         "Alta",
         0.84
        ],
        [
         337,
         "Super esferas de titanio",
         "UsuarioB",
         "(SiO2)",
         "Protectores solares",
         "2024-06-29",
         32,
         2.0,
         40,
         "Alta",
         0.8
        ],
        [
         862,
         "Nano partículas de óxido de samario",
         "UsuarioB",
         "(Au)",
         "Sensores",
         "2024-09-01",
         32,
         2.0,
         10,
         "Alta",
         3.2
        ],
        [
         291,
         "Ultra esferas de hierro",
         "UsuarioB",
         "(Cu)",
         "Sensores",
         "2024-06-08",
         15,
         2.5,
         40,
         "Baja",
         0.375
        ],
        [
         159,
         "Ultra esferas de óxido de samario",
         "UsuarioA",
         "(Fe)",
         "Antimicrobiano",
         "2024-12-16",
         9,
         3.0,
         10,
         "Baja",
         0.9
        ],
        [
         963,
         "Ultra esferas de oro",
         "UsuarioA",
         "(SiO2)",
         "Conductores",
         "2024-09-21",
         20,
         2.0,
         40,
         "Media",
         0.5
        ],
        [
         774,
         "Ultra esferas de hierro",
         "UsuarioB",
         "(Sm2O3)",
         "Protectores solares",
         "2024-04-17",
         15,
         2.0,
         40,
         "Baja",
         0.375
        ],
        [
         377,
         "Ultra tubos de óxido de samario",
         "UsuarioB",
         "(C)",
         "Protectores solares",
         "2024-12-27",
         9,
         2.5,
         20,
         "Baja",
         0.45
        ],
        [
         423,
         "Super tubos de óxido de samario",
         "UsuarioA",
         "(Sm2O3)",
         "Protectores solares",
         "2024-06-24",
         15,
         2.0,
         10,
         "Baja",
         1.5
        ],
        [
         292,
         "Super tubos de hierro",
         "UsuarioA",
         "(Ti)",
         "Sensores",
         "2024-07-04",
         20,
         3.0,
         30,
         "Media",
         0.6666666666666666
        ],
        [
         101,
         "Micro esferas de sílice",
         "UsuarioA",
         "(C)",
         "Sensores",
         "2024-04-29",
         9,
         1.5,
         20,
         "Baja",
         0.45
        ],
        [
         689,
         "Ultra esferas de cobre",
         "UsuarioA",
         "(SiO2)",
         "Fotocatálisis",
         "2024-07-15",
         15,
         1.0,
         20,
         "Baja",
         0.75
        ],
        [
         580,
         "Super láminas de oro",
         "UsuarioB",
         "(Sm2O3)",
         "Conductores",
         "2024-05-24",
         15,
         2.5,
         40,
         "Baja",
         0.375
        ],
        [
         818,
         "Nano esferas de oro",
         "UsuarioB",
         "(Ti)",
         "Fotocatálisis",
         "2025-01-04",
         15,
         3.0,
         40,
         "Baja",
         0.375
        ],
        [
         456,
         "Super láminas de hierro",
         "UsuarioB",
         "(Ag)",
         "Fotocatálisis",
         "2024-09-25",
         32,
         1.0,
         30,
         "Alta",
         1.0666666666666667
        ],
        [
         61,
         "Super partículas de oro",
         "UsuarioA",
         "(C)",
         "Sensores",
         "2024-11-21",
         32,
         2.5,
         20,
         "Alta",
         1.6
        ],
        [
         302,
         "Super esferas de óxido de samario",
         "UsuarioA",
         "(SiO2)",
         "Sensores",
         "2024-09-22",
         15,
         2.5,
         10,
         "Baja",
         1.5
        ],
        [
         433,
         "Nano tubos de oro",
         "UsuarioA",
         "(Sm2O3)",
         "Conductores",
         "2024-05-06",
         9,
         3.0,
         50,
         "Baja",
         0.18
        ],
        [
         516,
         "Micro láminas de plata",
         "UsuarioA",
         "(Fe)",
         "Antimicrobiano",
         "2024-01-31",
         9,
         2.5,
         10,
         "Baja",
         0.9
        ],
        [
         427,
         "Ultra tubos de oro",
         "UsuarioA",
         "(Cu)",
         "Antimicrobiano",
         "2024-05-08",
         32,
         1.0,
         30,
         "Alta",
         1.0666666666666667
        ],
        [
         685,
         "Ultra esferas de plata",
         "UsuarioB",
         "(C)",
         "Protectores solares",
         "2024-06-04",
         42,
         2.0,
         20,
         "Alta",
         2.1
        ],
        [
         655,
         "Nano esferas de plata",
         "UsuarioA",
         "(SiO2)",
         "Sensores",
         "2024-10-29",
         32,
         1.0,
         40,
         "Alta",
         0.8
        ],
        [
         645,
         "Super esferas de carbono",
         "UsuarioB",
         "(Cu)",
         "Sensores",
         "2024-06-21",
         20,
         1.0,
         40,
         "Media",
         0.5
        ],
        [
         450,
         "Super tubos de hierro",
         "UsuarioB",
         "(SiO2)",
         "Fotocatálisis",
         "2024-06-25",
         32,
         1.5,
         50,
         "Alta",
         0.64
        ],
        [
         266,
         "Micro láminas de zinc",
         "UsuarioA",
         "(Cu)",
         "Fotocatálisis",
         "2024-05-21",
         9,
         2.0,
         50,
         "Baja",
         0.18
        ],
        [
         91,
         "Nano esferas de titanio",
         "UsuarioB",
         "(Fe)",
         "Protectores solares",
         "2024-11-11",
         42,
         1.0,
         50,
         "Alta",
         0.84
        ],
        [
         514,
         "Nano partículas de carbono",
         "UsuarioB",
         "(ZnO)",
         "Fotocatálisis",
         "2024-03-09",
         20,
         2.0,
         50,
         "Media",
         0.4
        ],
        [
         356,
         "Micro tubos de zinc",
         "UsuarioA",
         "(C)",
         "Sensores",
         "2024-07-06",
         20,
         1.0,
         30,
         "Media",
         0.6666666666666666
        ],
        [
         372,
         "Ultra tubos de carbono",
         "UsuarioA",
         "(Au)",
         "Protectores solares",
         "2024-09-03",
         42,
         3.0,
         50,
         "Alta",
         0.84
        ],
        [
         885,
         "Ultra partículas de carbono",
         "UsuarioB",
         "(Ag)",
         "Protectores solares",
         "2024-01-18",
         15,
         1.0,
         50,
         "Baja",
         0.3
        ],
        [
         410,
         "Super tubos de óxido de samario",
         "UsuarioA",
         "(Cu)",
         "Protectores solares",
         "2024-09-05",
         42,
         3.0,
         30,
         "Alta",
         1.4
        ],
        [
         783,
         "Super esferas de plata",
         "UsuarioB",
         "(Sm2O3)",
         "Antimicrobiano",
         "2024-03-31",
         15,
         1.0,
         20,
         "Baja",
         0.75
        ],
        [
         810,
         "Nano esferas de zinc",
         "UsuarioB",
         "(C)",
         "Sensores",
         "2024-04-20",
         9,
         1.0,
         30,
         "Baja",
         0.3
        ],
        [
         575,
         "Micro láminas de zinc",
         "UsuarioB",
         "(C)",
         "Conductores",
         "2024-04-29",
         42,
         2.5,
         10,
         "Alta",
         4.2
        ],
        [
         456,
         "Micro tubos de plata",
         "UsuarioA",
         "(C)",
         "Fotocatálisis",
         "2024-03-02",
         42,
         1.0,
         40,
         "Alta",
         1.05
        ],
        [
         390,
         "Nano láminas de plata",
         "UsuarioB",
         "(Au)",
         "Antimicrobiano",
         "2024-06-15",
         32,
         1.5,
         10,
         "Alta",
         3.2
        ],
        [
         728,
         "Ultra partículas de plata",
         "UsuarioB",
         "(Cu)",
         "Conductores",
         "2025-01-05",
         42,
         1.0,
         40,
         "Alta",
         1.05
        ],
        [
         842,
         "Super tubos de óxido de samario",
         "UsuarioA",
         "(C)",
         "Conductores",
         "2024-03-29",
         32,
         2.5,
         40,
         "Alta",
         0.8
        ],
        [
         614,
         "Nano tubos de titanio",
         "UsuarioA",
         "(ZnO)",
         "Fotocatálisis",
         "2024-02-09",
         32,
         1.0,
         30,
         "Alta",
         1.0666666666666667
        ],
        [
         981,
         "Super tubos de plata",
         "UsuarioA",
         "(SiO2)",
         "Fotocatálisis",
         "2024-05-14",
         32,
         1.0,
         20,
         "Alta",
         1.6
        ],
        [
         569,
         "Micro esferas de hierro",
         "UsuarioA",
         "(Ti)",
         "Sensores",
         "2024-03-20",
         20,
         1.0,
         50,
         "Media",
         0.4
        ],
        [
         821,
         "Super tubos de titanio",
         "UsuarioA",
         "(Fe)",
         "Conductores",
         "2024-09-08",
         9,
         1.5,
         30,
         "Baja",
         0.3
        ],
        [
         192,
         "Nano tubos de hierro",
         "UsuarioB",
         "(Ag)",
         "Protectores solares",
         "2024-07-28",
         32,
         3.0,
         10,
         "Alta",
         3.2
        ],
        [
         73,
         "Super láminas de cobre",
         "UsuarioB",
         "(C)",
         "Sensores",
         "2024-07-13",
         20,
         1.0,
         50,
         "Media",
         0.4
        ],
        [
         104,
         "Super esferas de sílice",
         "UsuarioB",
         "(Fe)",
         "Antimicrobiano",
         "2024-07-25",
         20,
         1.0,
         30,
         "Media",
         0.6666666666666666
        ],
        [
         128,
         "Nano tubos de oro",
         "UsuarioB",
         "(ZnO)",
         "Sensores",
         "2024-02-08",
         15,
         2.0,
         20,
         "Baja",
         0.75
        ],
        [
         119,
         "Micro tubos de cobre",
         "UsuarioA",
         "(Ag)",
         "Fotocatálisis",
         "2024-12-17",
         42,
         2.5,
         30,
         "Alta",
         1.4
        ]
       ],
       "datasetInfos": [],
       "dbfsResultPath": null,
       "isJsonSchema": true,
       "metadata": {},
       "overflow": false,
       "plotOptions": {
        "customPlotOptions": {},
        "displayType": "table",
        "pivotAggregation": null,
        "pivotColumns": null,
        "xColumns": null,
        "yColumns": null
       },
       "removedWidgets": [],
       "schema": [
        {
         "metadata": "{}",
         "name": "id_material",
         "type": "\"integer\""
        },
        {
         "metadata": "{}",
         "name": "nombre",
         "type": "\"string\""
        },
        {
         "metadata": "{}",
         "name": "usuario",
         "type": "\"string\""
        },
        {
         "metadata": "{}",
         "name": "composicion_quimica",
         "type": "\"string\""
        },
        {
         "metadata": "{}",
         "name": "aplicacion",
         "type": "\"string\""
        },
        {
         "metadata": "{\"__detected_date_formats\":\"yyyy-M-d\"}",
         "name": "fecha_creacion",
         "type": "\"date\""
        },
        {
         "metadata": "{}",
         "name": "temperatura",
         "type": "\"integer\""
        },
        {
         "metadata": "{}",
         "name": "presion",
         "type": "\"double\""
        },
        {
         "metadata": "{}",
         "name": "duracion",
         "type": "\"integer\""
        },
        {
         "metadata": "{}",
         "name": "clasificacion_temperatura",
         "type": "\"string\""
        },
        {
         "metadata": "{}",
         "name": "eficiencia",
         "type": "\"double\""
        }
       ],
       "type": "table"
      }
     },
     "output_type": "display_data"
    }
   ],
   "source": [
    "%sql\n",
    "Select * from materiales_con_eficiencia;"
   ]
  },
  {
   "cell_type": "code",
   "execution_count": 0,
   "metadata": {
    "application/vnd.databricks.v1+cell": {
     "cellMetadata": {
      "byteLimit": 2048000,
      "rowLimit": 10000
     },
     "inputWidgets": {},
     "nuid": "200a86ab-8041-43b5-bd33-37f820a13695",
     "showTitle": false,
     "tableResultSettingsMap": {},
     "title": ""
    }
   },
   "outputs": [
    {
     "output_type": "stream",
     "name": "stdout",
     "output_type": "stream",
     "text": [
      "El DataFrame se ha guardado correctamente en la carpeta gold.\n"
     ]
    }
   ],
   "source": [
    "# Guardar el DataFrame en la carpeta gold\n",
    "df_con_nuevas_caracteristicas.write.mode(\"overwrite\").parquet(\"/mnt/gold/materiales_con_eficiencia.parquet\")\n",
    "\n",
    "print(\"El DataFrame se ha guardado correctamente en la carpeta gold.\")"
   ]
  }
 ],
 "metadata": {
  "application/vnd.databricks.v1+notebook": {
   "computePreferences": null,
   "dashboards": [],
   "environmentMetadata": {
    "base_environment": "",
    "client": "1"
   },
   "language": "python",
   "notebookMetadata": {
    "mostRecentlyExecutedCommandWithImplicitDF": {
     "commandId": 1919441839350559,
     "dataframes": [
      "_sqldf"
     ]
    },
    "pythonIndentUnit": 4
   },
   "notebookName": "Capa Silver",
   "widgets": {}
  }
 },
 "nbformat": 4,
 "nbformat_minor": 0
}
