{
 "cells": [
  {
   "cell_type": "markdown",
   "metadata": {
    "application/vnd.databricks.v1+cell": {
     "cellMetadata": {
      "byteLimit": 2048000,
      "rowLimit": 10000
     },
     "inputWidgets": {},
     "nuid": "eee1280e-90b6-460b-943b-dd891628073b",
     "showTitle": false,
     "tableResultSettingsMap": {},
     "title": ""
    }
   },
   "source": [
    "# Proyecto Nanotecnología.  "
   ]
  },
  {
   "cell_type": "markdown",
   "metadata": {
    "application/vnd.databricks.v1+cell": {
     "cellMetadata": {
      "byteLimit": 2048000,
      "rowLimit": 10000
     },
     "inputWidgets": {},
     "nuid": "291ebb91-ece6-42c1-bf40-c1e637340a89",
     "showTitle": false,
     "tableResultSettingsMap": {},
     "title": ""
    }
   },
   "source": [
    "En el campo de la nanotecnología, los científicos realizan experimentos sobre materiales que operan a nano escala, estos generan datos relacionados con las propiedades físicas y químicas de los materiales estudiados.\n",
    "\n",
    "Estos datos son importantes para comprender y predecir cómo los materiales se comportan al aplicar ciertas fuerzas o condiciones, como cambios de temperatura o presión. Para poder usarlos y poder realizar predicciones precisas, es necesario el construir una estructura de datos que permita el acceso de esa información de forma optimizada."
   ]
  },
  {
   "cell_type": "markdown",
   "metadata": {
    "application/vnd.databricks.v1+cell": {
     "cellMetadata": {
      "byteLimit": 2048000,
      "rowLimit": 10000
     },
     "inputWidgets": {},
     "nuid": "c29c00c1-e86a-47c0-8fb6-95b3e9aea28e",
     "showTitle": false,
     "tableResultSettingsMap": {},
     "title": ""
    },
    "collapsed": true
   },
   "source": [
    "##Importamos los datos."
   ]
  },
  {
   "cell_type": "code",
   "execution_count": 0,
   "metadata": {
    "application/vnd.databricks.v1+cell": {
     "cellMetadata": {
      "byteLimit": 2048000,
      "rowLimit": 10000
     },
     "inputWidgets": {},
     "nuid": "d3f53227-5485-4beb-b10c-b1647c3960db",
     "showTitle": false,
     "tableResultSettingsMap": {},
     "title": ""
    }
   },
   "outputs": [
    {
     "output_type": "stream",
     "name": "stdout",
     "output_type": "stream",
     "text": [
      "Out[79]: True"
     ]
    }
   ],
   "source": [
    "# creación de las carpetas \"bronce\", \"silver\", \"gold\". \n",
    "\n",
    "path = '/FileStore/tables'\n",
    "dbutils.fs.mkdirs(path + \"/bronce\")\n",
    "dbutils.fs.mkdirs(path + \"/silver\")\n",
    "dbutils.fs.mkdirs(path + \"/gold\")"
   ]
  },
  {
   "cell_type": "code",
   "execution_count": 0,
   "metadata": {
    "application/vnd.databricks.v1+cell": {
     "cellMetadata": {
      "byteLimit": 2048000,
      "rowLimit": 10000
     },
     "inputWidgets": {},
     "nuid": "ed40b3ab-e6d2-463b-9029-f961cfaaeabb",
     "showTitle": false,
     "tableResultSettingsMap": {},
     "title": ""
    }
   },
   "outputs": [],
   "source": [
    "#Declaración de las variables src y dest\n",
    "src1 = \"dbfs:/FileStore/Materiales.csv\"\n",
    "dest1 = \"dbfs:/FileStore/tables/bronce/Materiales.csv\"\n",
    "\n",
    "src2 = \"dbfs:/FileStore/Condiciones.csv\"\n",
    "dest2 = \"dbfs:/FileStore/tables/bronce/Condiciones.csv\"\n",
    "\n",
    "src3 = \"dbfs:/FileStore/Propiedades.csv\"\n",
    "dest3 = \"dbfs:/FileStore/tables/bronce/Propiedades.csv\"\n"
   ]
  },
  {
   "cell_type": "code",
   "execution_count": 0,
   "metadata": {
    "application/vnd.databricks.v1+cell": {
     "cellMetadata": {
      "byteLimit": 2048000,
      "rowLimit": 10000
     },
     "inputWidgets": {},
     "nuid": "b85e7058-c5bd-4bdd-adad-6f426533a87a",
     "showTitle": false,
     "tableResultSettingsMap": {},
     "title": ""
    }
   },
   "outputs": [],
   "source": [
    "# Importación de las bibliotecas necesarias.\n",
    "from pyspark.sql import SparkSession\n",
    "from pyspark.sql.functions import expr\n",
    "\n",
    "# Creación de una instancia de SparkSession.\n",
    "spark = SparkSession.builder.appName(\"CargaCSV\").getOrCreate()\n",
    "\n",
    "# Carga de los archivos CSV dentro de DataFrames.\n",
    "df1 = spark.read.csv(src1, header=True, inferSchema=True)\n",
    "df2 = spark.read.csv(src2, header=True, inferSchema=True)\n",
    "df3 = spark.read.csv(src3, header=True, inferSchema=True)\n"
   ]
  },
  {
   "cell_type": "code",
   "execution_count": 0,
   "metadata": {
    "application/vnd.databricks.v1+cell": {
     "cellMetadata": {
      "byteLimit": 2048000,
      "rowLimit": 10000
     },
     "inputWidgets": {},
     "nuid": "3914391c-a905-4d08-add8-239bb3572ce1",
     "showTitle": false,
     "tableResultSettingsMap": {},
     "title": ""
    }
   },
   "outputs": [
    {
     "output_type": "stream",
     "name": "stdout",
     "output_type": "stream",
     "text": [
      "+-----------+--------------------+--------------------+--------------------+--------------+\n|id_material|                name|   compuesto_quimico|          aplicacion|fecha_creacion|\n+-----------+--------------------+--------------------+--------------------+--------------+\n|          1|Nanopartículas de...|Nanopartículas de...|Revestimientos ce...|    2024-04-26|\n|          2|Nanopartículas de...|Nanopartículas de...|              Imanes|    2024-02-02|\n|          3|Nanopartículas de...|       MXenes (null)|Materiales de con...|    2024-07-05|\n|          4|          Fullerenos|Nanopartículas de...|              Imanes|    2024-06-22|\n|          5|Nanomateriales cr...|Nanopartículas de...|Pantallas de alta...|    2023-11-22|\n+-----------+--------------------+--------------------+--------------------+--------------+\nonly showing top 5 rows\n\n+--------------+-----------+------------------+----------------+--------------------+-----------------+\n|id_experimento|id_material|temperatura_prueba|presion_aplicada|duracion_experimento|fecha_experimento|\n+--------------+-----------+------------------+----------------+--------------------+-----------------+\n|             1|          1|                34|             1.3|                 160|       2024-05-08|\n|             2|          2|                28|             1.1|                 150|       2024-01-26|\n|             3|          3|                31|             1.4|                 140|       2024-08-17|\n|             4|          4|                32|             1.6|                 120|       2024-01-12|\n|             5|          5|                32|             1.2|                 200|       2024-09-29|\n+--------------+-----------+------------------+----------------+--------------------+-----------------+\nonly showing top 5 rows\n\n+------------+-----------+-----------+-----------+---------------------+--------+-----------------------+------------+-----------------------+\n|id_propiedad|id_material|resistencia|elasticidad|conductividad_termica|densidad|diametro_nanoparticulas|espesor_capa|capacidad_absorcion_luz|\n+------------+-----------+-----------+-----------+---------------------+--------+-----------------------+------------+-----------------------+\n|           1|          1|        370|         80|                 29.0|     4.7|                     36|          28|                     90|\n|           2|          2|        330|        115|                 28.4|     3.6|                     33|          27|                     66|\n|           3|          3|        410|        160|                 32.1|     2.5|                     19|          27|                     81|\n|           4|          4|        280|        200|                 14.3|     6.3|                     19|          12|                     63|\n|           5|          5|        320|        110|                 22.1|     2.4|                     34|          18|                     94|\n+------------+-----------+-----------+-----------+---------------------+--------+-----------------------+------------+-----------------------+\nonly showing top 5 rows\n\n"
     ]
    }
   ],
   "source": [
    "#Observación de los datos.\n",
    "\n",
    "df1.show(5) \n",
    "df2.show(5)  \n",
    "df3.show(5) "
   ]
  },
  {
   "cell_type": "markdown",
   "metadata": {
    "application/vnd.databricks.v1+cell": {
     "cellMetadata": {
      "byteLimit": 2048000,
      "rowLimit": 10000
     },
     "inputWidgets": {},
     "nuid": "e8d12694-3f7f-453e-91ea-827f7eef6edc",
     "showTitle": false,
     "tableResultSettingsMap": {},
     "title": ""
    }
   },
   "source": [
    "##Limpieza de los datos"
   ]
  },
  {
   "cell_type": "code",
   "execution_count": 0,
   "metadata": {
    "application/vnd.databricks.v1+cell": {
     "cellMetadata": {
      "byteLimit": 2048000,
      "rowLimit": 10000
     },
     "inputWidgets": {},
     "nuid": "21829097-59ba-4985-892d-eadec0599525",
     "showTitle": false,
     "tableResultSettingsMap": {},
     "title": ""
    }
   },
   "outputs": [],
   "source": [
    "#unión de los tres DataFrames.   \n",
    "\n",
    "df_union = df1.join(df2, \"id_material\").join(df3, \"id_material\")"
   ]
  },
  {
   "cell_type": "code",
   "execution_count": 0,
   "metadata": {
    "application/vnd.databricks.v1+cell": {
     "cellMetadata": {
      "byteLimit": 2048000,
      "rowLimit": 10000
     },
     "inputWidgets": {},
     "nuid": "7523067b-acd0-4510-9f84-b8ec0629be7a",
     "showTitle": false,
     "tableResultSettingsMap": {},
     "title": ""
    }
   },
   "outputs": [
    {
     "output_type": "stream",
     "name": "stdout",
     "output_type": "stream",
     "text": [
      "+-----------+--------------+------------+-----+\n|id_material|id_experimento|id_propiedad|count|\n+-----------+--------------+------------+-----+\n+-----------+--------------+------------+-----+\n\n"
     ]
    }
   ],
   "source": [
    "#Datos repetidos por identificadores unicos. \n",
    "\n",
    "df_duplicates = df_union.groupBy(\"id_material\", \"id_experimento\", \"id_propiedad\").count().filter(\"count > 1\")\n",
    "df_duplicates.show()\n"
   ]
  },
  {
   "cell_type": "code",
   "execution_count": 0,
   "metadata": {
    "application/vnd.databricks.v1+cell": {
     "cellMetadata": {
      "byteLimit": 2048000,
      "rowLimit": 10000
     },
     "inputWidgets": {},
     "nuid": "9631f642-74fd-4cea-8ac3-f5d789789155",
     "showTitle": false,
     "tableResultSettingsMap": {},
     "title": ""
    }
   },
   "outputs": [
    {
     "output_type": "stream",
     "name": "stdout",
     "output_type": "stream",
     "text": [
      "+-----------+------------------+----------------+--------------------+-----------------+-----+\n|id_material|temperatura_prueba|presion_aplicada|duracion_experimento|fecha_experimento|count|\n+-----------+------------------+----------------+--------------------+-----------------+-----+\n+-----------+------------------+----------------+--------------------+-----------------+-----+\n\n"
     ]
    }
   ],
   "source": [
    "#Datos duplicados por condiciones del Experimento.\n",
    "\n",
    "df_duplicates = df_union.groupBy(\"id_material\", \"temperatura_prueba\", \"presion_aplicada\", \"duracion_experimento\", \"fecha_experimento\").count().filter(\"count > 1\")\n",
    "\n",
    "df_duplicates.show() #Mostramos si existen datos duplicados."
   ]
  },
  {
   "cell_type": "code",
   "execution_count": 0,
   "metadata": {
    "application/vnd.databricks.v1+cell": {
     "cellMetadata": {
      "byteLimit": 2048000,
      "rowLimit": 10000
     },
     "inputWidgets": {},
     "nuid": "7ace68ad-36ee-4192-93c4-d887e14ee38c",
     "showTitle": false,
     "tableResultSettingsMap": {},
     "title": ""
    }
   },
   "outputs": [
    {
     "output_type": "stream",
     "name": "stdout",
     "output_type": "stream",
     "text": [
      "+-----------+-----------+-----------+---------------------+--------+-----------------------+------------+-----------------------+-----+\n|id_material|resistencia|elasticidad|conductividad_termica|densidad|diametro_nanoparticulas|espesor_capa|capacidad_absorcion_luz|count|\n+-----------+-----------+-----------+---------------------+--------+-----------------------+------------+-----------------------+-----+\n+-----------+-----------+-----------+---------------------+--------+-----------------------+------------+-----------------------+-----+\n\n"
     ]
    }
   ],
   "source": [
    "#Datos duplicados por las propiedades del Material\n",
    "\n",
    "df_duplicates = df_union.groupBy(\"id_material\", \"resistencia\", \"elasticidad\", \"conductividad_termica\", \"densidad\", \"diametro_nanoparticulas\", \"espesor_capa\", \"capacidad_absorcion_luz\").count().filter(\"count > 1\")\n",
    "\n",
    "df_duplicates.show() #Mostramos si existen datos duplicados."
   ]
  },
  {
   "cell_type": "code",
   "execution_count": 0,
   "metadata": {
    "application/vnd.databricks.v1+cell": {
     "cellMetadata": {
      "byteLimit": 2048000,
      "rowLimit": 10000
     },
     "inputWidgets": {},
     "nuid": "96cceb3e-1a2b-4ea8-9607-5847f6976556",
     "showTitle": false,
     "tableResultSettingsMap": {},
     "title": ""
    }
   },
   "outputs": [
    {
     "output_type": "stream",
     "name": "stdout",
     "output_type": "stream",
     "text": [
      "+-----------+----+-----------------+----------+--------------+--------------+------------------+----------------+--------------------+-----------------+------------+-----------+-----------+---------------------+--------+-----------------------+------------+-----------------------+\n|id_material|name|compuesto_quimico|aplicacion|fecha_creacion|id_experimento|temperatura_prueba|presion_aplicada|duracion_experimento|fecha_experimento|id_propiedad|resistencia|elasticidad|conductividad_termica|densidad|diametro_nanoparticulas|espesor_capa|capacidad_absorcion_luz|\n+-----------+----+-----------------+----------+--------------+--------------+------------------+----------------+--------------------+-----------------+------------+-----------+-----------+---------------------+--------+-----------------------+------------+-----------------------+\n|          0|   0|                0|         0|             0|             0|                 0|               0|                   0|                0|           0|          0|          0|                    0|       0|                      0|           0|                      0|\n+-----------+----+-----------------+----------+--------------+--------------+------------------+----------------+--------------------+-----------------+------------+-----------+-----------+---------------------+--------+-----------------------+------------+-----------------------+\n\n"
     ]
    }
   ],
   "source": [
    "# Contamos aquellos valores nulos en cada columna de df_union.\n",
    "from pyspark.sql.functions import col, sum\n",
    "\n",
    "df_union.select([sum(col(c).isNull().cast(\"int\")).alias(c) for c in df_union.columns]).show()"
   ]
  },
  {
   "cell_type": "code",
   "execution_count": 0,
   "metadata": {
    "application/vnd.databricks.v1+cell": {
     "cellMetadata": {
      "byteLimit": 2048000,
      "rowLimit": 10000
     },
     "inputWidgets": {},
     "nuid": "a5e575c0-2f9c-4c68-941c-ba7a6b2e2394",
     "showTitle": false,
     "tableResultSettingsMap": {},
     "title": ""
    }
   },
   "outputs": [
    {
     "output_type": "stream",
     "name": "stdout",
     "output_type": "stream",
     "text": [
      "Out[88]: DataFrame[summary: string, id_material: string, nombre: string, compuesto_quimico: string, aplicacion: string, id_experimento: string, temperatura_prueba: string, presion_aplicada: string, duracion_experimento: string, id_propiedad: string, resistencia: string, elasticidad: string, conductividad_termica: string, densidad: string, diametro_nanoparticulas: string, espesor_capa: string, capacidad_absorcion_luz: string]"
     ]
    }
   ],
   "source": [
    "#Cambiamos el nombre de la columna name a nombre. \n",
    "\n",
    "df_renamed = df_union.withColumnRenamed(\"name\", \"nombre\")\n",
    "df_renamed.describe() #Mostramos las columnas del dataframe. "
   ]
  },
  {
   "cell_type": "code",
   "execution_count": 0,
   "metadata": {
    "application/vnd.databricks.v1+cell": {
     "cellMetadata": {
      "byteLimit": 2048000,
      "rowLimit": 10000
     },
     "inputWidgets": {},
     "nuid": "4a2f9d7a-7897-4df2-aa73-baa1ca459650",
     "showTitle": false,
     "tableResultSettingsMap": {},
     "title": ""
    }
   },
   "outputs": [
    {
     "output_type": "stream",
     "name": "stdout",
     "output_type": "stream",
     "text": [
      "root\n |-- id_material: integer (nullable = true)\n |-- nombre: string (nullable = true)\n |-- compuesto_quimico: string (nullable = true)\n |-- aplicacion: string (nullable = true)\n |-- fecha_creacion: date (nullable = true)\n |-- id_experimento: integer (nullable = true)\n |-- temperatura_prueba: integer (nullable = true)\n |-- presion_aplicada: double (nullable = true)\n |-- duracion_experimento: integer (nullable = true)\n |-- fecha_experimento: date (nullable = true)\n |-- id_propiedad: integer (nullable = true)\n |-- resistencia: integer (nullable = true)\n |-- elasticidad: integer (nullable = true)\n |-- conductividad_termica: double (nullable = true)\n |-- densidad: double (nullable = true)\n |-- diametro_nanoparticulas: integer (nullable = true)\n |-- espesor_capa: integer (nullable = true)\n |-- capacidad_absorcion_luz: integer (nullable = true)\n\n"
     ]
    }
   ],
   "source": [
    "#Nos aseguramos de que nuestros datos tengan el tipo de dato correcto. \n",
    "\n",
    "from pyspark.sql.functions import col\n",
    "\n",
    "df_corrected = (df_renamed\n",
    "                .withColumn(\"id_material\", col(\"id_material\").cast(\"integer\"))\n",
    "                .withColumn(\"temperatura_prueba\", col(\"temperatura_prueba\").cast(\"integer\"))\n",
    "                .withColumn(\"presion_aplicada\", col(\"presion_aplicada\").cast(\"double\"))\n",
    "                .withColumn(\"duracion_experimento\", col(\"duracion_experimento\").cast(\"integer\"))\n",
    "                .withColumn(\"resistencia\", col(\"resistencia\").cast(\"integer\"))\n",
    "                .withColumn(\"elasticidad\", col(\"elasticidad\").cast(\"integer\"))\n",
    "                .withColumn(\"conductividad_termica\", col(\"conductividad_termica\").cast(\"double\"))\n",
    "                .withColumn(\"densidad\", col(\"densidad\").cast(\"double\"))\n",
    "                .withColumn(\"diametro_nanoparticulas\", col(\"diametro_nanoparticulas\").cast(\"integer\"))\n",
    "                .withColumn(\"espesor_capa\", col(\"espesor_capa\").cast(\"integer\"))\n",
    "                .withColumn(\"capacidad_absorcion_luz\", col(\"capacidad_absorcion_luz\").cast(\"integer\"))\n",
    "               )\n",
    "\n",
    "df_corrected.printSchema() #Nos aseguramos que el tipo de datos sea el adecuado. \n"
   ]
  },
  {
   "cell_type": "code",
   "execution_count": 0,
   "metadata": {
    "application/vnd.databricks.v1+cell": {
     "cellMetadata": {
      "byteLimit": 2048000,
      "rowLimit": 10000
     },
     "inputWidgets": {},
     "nuid": "22dcdffe-473c-4b98-b223-abbab734797b",
     "showTitle": false,
     "tableResultSettingsMap": {},
     "title": ""
    }
   },
   "outputs": [],
   "source": []
  },
  {
   "cell_type": "code",
   "execution_count": 0,
   "metadata": {
    "application/vnd.databricks.v1+cell": {
     "cellMetadata": {
      "byteLimit": 2048000,
      "rowLimit": 10000
     },
     "inputWidgets": {},
     "nuid": "0220656c-5669-4b4e-9028-ef234e66b6e9",
     "showTitle": false,
     "tableResultSettingsMap": {},
     "title": ""
    }
   },
   "outputs": [
    {
     "output_type": "stream",
     "name": "stdout",
     "output_type": "stream",
     "text": [
      "+-----------+--------------------+--------------------+--------------------+--------------+--------------+------------+------------------+-----------------+--------------------+------------------+------------------+---------------------+------------------+-----------------------+------------------+-----------------------+\n|id_material|              nombre|   compuesto_quimico|          aplicacion|fecha_creacion|id_experimento|id_propiedad|temperatura_prueba| presion_aplicada|duracion_experimento|       resistencia|       elasticidad|conductividad_termica|          densidad|diametro_nanoparticulas|      espesor_capa|capacidad_absorcion_luz|\n+-----------+--------------------+--------------------+--------------------+--------------+--------------+------------+------------------+-----------------+--------------------+------------------+------------------+---------------------+------------------+-----------------------+------------------+-----------------------+\n|          1|Nanopartículas de...|Nanopartículas de...|Revestimientos ce...|    2024-04-26|             1|           1|11.518931599429449|5.641146757237324|   3.752820797450482| 5.121737075643065|2.4145480829903834|   1.8074487225380391| 2.598593880128943|     2.5799905949886974| 2.011817808509382|      7.679647279022113|\n|          2|Nanopartículas de...|Nanopartículas de...|              Imanes|    2024-02-02|             2|           2| 9.486178964236016|4.773278025354659|  3.5182694976098268| 4.568035770168138|3.4709128692986764|   1.7700532317269073|1.9904123337157862|      2.364991378739639|1.9399671724911896|       5.63174133794955|\n|          3|Nanopartículas de...|       MXenes (null)|Materiales de con...|    2024-07-05|             3|           3|10.502555281832732|6.075081123178657|  3.2837181977691716|  5.67543838111799| 4.829096165980767|    2.000658758395554|1.3822307873026294|     1.3616617029107014|1.9399671724911896|      6.911682551119902|\n|          4|          Fullerenos|Nanopartículas de...|              Imanes|    2024-06-22|             4|           4|10.841347387698304|6.942949855061322|  2.8146155980878613|3.8759091383244813| 6.036370207475959|    0.891259197665309|3.4832215840026257|     1.3616617029107014|0.8622076322183065|     5.3757530953154795|\n|          5|Nanomateriales cr...|Nanopartículas de...|Pantallas de alta...|    2023-11-22|             5|           5|10.841347387698304|5.207212391295991|   4.691025996813102| 4.429610443799407|3.3200036141117772|    1.377400578210023|1.3269415558105242|      2.436657784155992|1.2933114483274597|      8.020964935867541|\n+-----------+--------------------+--------------------+--------------------+--------------+--------------+------------+------------------+-----------------+--------------------+------------------+------------------+---------------------+------------------+-----------------------+------------------+-----------------------+\nonly showing top 5 rows\n\n"
     ]
    }
   ],
   "source": [
    "from pyspark.ml.feature import VectorAssembler, StandardScaler\n",
    "from pyspark.ml.linalg import Vectors\n",
    "from pyspark.sql.functions import abs, udf, col\n",
    "from pyspark.sql.types import ArrayType, DoubleType\n",
    "\n",
    "# Convertimos los valores de 'duracion_experimento' a positivos\n",
    "df_corrected = df_corrected.withColumn(\"duracion_experimento\", abs(df_corrected[\"duracion_experimento\"]))\n",
    "\n",
    "# Seleccionamos las columnas numéricas para la normalización\n",
    "numeric_cols = [\"temperatura_prueba\", \"presion_aplicada\", \"duracion_experimento\", \"resistencia\", \"elasticidad\", \n",
    "                \"conductividad_termica\", \"densidad\", \"diametro_nanoparticulas\", \"espesor_capa\", \"capacidad_absorcion_luz\"]\n",
    "\n",
    "# Creamos un VectorAssembler para combinar las columnas numéricas en una sola columna de características\n",
    "assembler = VectorAssembler(inputCols=numeric_cols, outputCol=\"features\")\n",
    "\n",
    "# Transformación del DataFrame\n",
    "df_features = assembler.transform(df_corrected)\n",
    "\n",
    "# Creamos un StandardScaler para normalizar las características sin restar la media\n",
    "scaler = StandardScaler(inputCol=\"features\", outputCol=\"scaled_features\", withMean=False, withStd=True)\n",
    "\n",
    "# Ajustamos y transformamos los datos\n",
    "scaler_model = scaler.fit(df_features)\n",
    "df_scaled = scaler_model.transform(df_features)\n",
    "\n",
    "# UDF para convertir el vector en una lista\n",
    "vector_to_array = udf(lambda v: v.toArray().tolist(), ArrayType(DoubleType()))\n",
    "\n",
    "# Convertimos la columna 'scaled_features' en una lista\n",
    "df_array = df_scaled.withColumn(\"scaled_features_array\", vector_to_array(col(\"scaled_features\")))\n",
    "\n",
    "# Seleccionar las columnas originales y las características normalizadas\n",
    "df_final = df_array.select(\n",
    "    [\"id_material\", \"nombre\", \"compuesto_quimico\", \"aplicacion\", \"fecha_creacion\", \"id_experimento\", \"id_propiedad\"] + \n",
    "    [col(\"scaled_features_array\")[i].alias(numeric_cols[i]) for i in range(len(numeric_cols))]\n",
    ")\n",
    "\n",
    "# Mostrar las primeras filas para verificar\n",
    "df_final.show(5)\n"
   ]
  },
  {
   "cell_type": "code",
   "execution_count": 0,
   "metadata": {
    "application/vnd.databricks.v1+cell": {
     "cellMetadata": {
      "byteLimit": 2048000,
      "rowLimit": 10000
     },
     "inputWidgets": {},
     "nuid": "b1018651-69f8-4aa2-9691-a1117459969a",
     "showTitle": false,
     "tableResultSettingsMap": {},
     "title": ""
    }
   },
   "outputs": [],
   "source": [
    "# Creación de una vista temporal. \n",
    "df_final.createOrReplaceTempView(\"mi_vista_final\")"
   ]
  },
  {
   "cell_type": "code",
   "execution_count": 0,
   "metadata": {
    "application/vnd.databricks.v1+cell": {
     "cellMetadata": {
      "byteLimit": 2048000,
      "implicitDf": true,
      "rowLimit": 10000
     },
     "inputWidgets": {},
     "nuid": "566b0bd7-865f-4c1d-966d-2c0628c3e607",
     "showTitle": false,
     "tableResultSettingsMap": {},
     "title": ""
    }
   },
   "outputs": [
    {
     "output_type": "display_data",
     "data": {
      "text/html": [
       "<style scoped>\n",
       "  .table-result-container {\n",
       "    max-height: 300px;\n",
       "    overflow: auto;\n",
       "  }\n",
       "  table, th, td {\n",
       "    border: 1px solid black;\n",
       "    border-collapse: collapse;\n",
       "  }\n",
       "  th, td {\n",
       "    padding: 5px;\n",
       "  }\n",
       "  th {\n",
       "    text-align: left;\n",
       "  }\n",
       "</style><div class='table-result-container'><table class='table-result'><thead style='background-color: white'><tr><th>id_material</th><th>nombre</th><th>compuesto_quimico</th><th>aplicacion</th><th>fecha_creacion</th><th>id_experimento</th><th>id_propiedad</th><th>temperatura_prueba</th><th>presion_aplicada</th><th>duracion_experimento</th><th>resistencia</th><th>elasticidad</th><th>conductividad_termica</th><th>densidad</th><th>diametro_nanoparticulas</th><th>espesor_capa</th><th>capacidad_absorcion_luz</th></tr></thead><tbody><tr><td>1</td><td>Nanopartículas de óxido de samario</td><td>Nanopartículas de dióxido de titanio (TiO₂)</td><td>Revestimientos cerámicos</td><td>2024-04-26</td><td>1</td><td>1</td><td>11.518931599429449</td><td>5.641146757237324</td><td>3.752820797450482</td><td>5.121737075643065</td><td>2.4145480829903834</td><td>1.8074487225380391</td><td>2.598593880128943</td><td>2.5799905949886974</td><td>2.011817808509382</td><td>7.679647279022113</td></tr><tr><td>2</td><td>Nanopartículas de óxido de disprosio</td><td>Nanopartículas de plata (Ag)</td><td>Imanes</td><td>2024-02-02</td><td>2</td><td>2</td><td>9.486178964236016</td><td>4.773278025354659</td><td>3.5182694976098268</td><td>4.568035770168138</td><td>3.4709128692986764</td><td>1.7700532317269073</td><td>1.9904123337157862</td><td>2.364991378739639</td><td>1.9399671724911896</td><td>5.63174133794955</td></tr><tr><td>3</td><td>Nanopartículas de óxido de prometio</td><td>MXenes (null)</td><td>Materiales de construcción</td><td>2024-07-05</td><td>3</td><td>3</td><td>10.502555281832732</td><td>6.075081123178657</td><td>3.2837181977691716</td><td>5.67543838111799</td><td>4.829096165980767</td><td>2.000658758395554</td><td>1.3822307873026294</td><td>1.3616617029107014</td><td>1.9399671724911896</td><td>6.911682551119902</td></tr><tr><td>4</td><td>Fullerenos</td><td>Nanopartículas de óxido de tungsteno (WO₃)</td><td>Imanes</td><td>2024-06-22</td><td>4</td><td>4</td><td>10.841347387698304</td><td>6.942949855061322</td><td>2.8146155980878613</td><td>3.8759091383244813</td><td>6.036370207475959</td><td>0.891259197665309</td><td>3.4832215840026257</td><td>1.3616617029107014</td><td>0.8622076322183065</td><td>5.3757530953154795</td></tr><tr><td>5</td><td>Nanomateriales cristalinos</td><td>Nanopartículas de óxido de disprosio (Dy₂O₃)</td><td>Pantallas de alta resolución</td><td>2023-11-22</td><td>5</td><td>5</td><td>10.841347387698304</td><td>5.207212391295991</td><td>4.691025996813102</td><td>4.429610443799407</td><td>3.3200036141117772</td><td>1.377400578210023</td><td>1.3269415558105242</td><td>2.436657784155992</td><td>1.2933114483274597</td><td>8.020964935867541</td></tr><tr><td>6</td><td>Nanopartículas de sílice</td><td>Nanopartículas de óxido de estaño (SnO₂)</td><td>Conductores eléctricos</td><td>2024-09-17</td><td>6</td><td>6</td><td>11.85772370529502</td><td>7.376884221002654</td><td>2.110961698565896</td><td>2.906931853743361</td><td>5.432733186728362</td><td>1.763820649925052</td><td>3.151486195049995</td><td>2.0066593516578757</td><td>1.5807139924002285</td><td>6.2290472374290475</td></tr><tr><td>7</td><td>Nanopartículas de óxido de prometio</td><td>Nanodiamantes ©</td><td>Imanes</td><td>2024-08-06</td><td>7</td><td>7</td><td>10.16376317596716</td><td>6.942949855061322</td><td>2.8146155980878613</td><td>2.4916558746371664</td><td>5.432733186728362</td><td>3.7395490811131844</td><td>2.488015417144733</td><td>3.153321838319519</td><td>2.371070988600343</td><td>6.997011965331259</td></tr><tr><td>8</td><td>Nanopartículas de óxido de neodimio</td><td>Hidróxidos dobles laminares (null)</td><td>Protección solar</td><td>2024-09-17</td><td>8</td><td>8</td><td>11.518931599429449</td><td>6.075081123178657</td><td>4.925577296653757</td><td>4.1527597910619445</td><td>4.5272776556069685</td><td>1.3898657418137337</td><td>2.875040037589469</td><td>1.0749960812452906</td><td>2.2992203525821506</td><td>7.850306107444827</td></tr><tr><td>9</td><td>Nanopartículas de óxido de tulio</td><td>Nanopartículas de platino (Pt)</td><td>Imanes</td><td>2023-12-16</td><td>9</td><td>9</td><td>9.824971070101588</td><td>6.075081123178657</td><td>3.5182694976098268</td><td>4.1527597910619445</td><td>4.829096165980767</td><td>2.6862427565996376</td><td>2.6538831116210484</td><td>1.0749960812452906</td><td>1.5807139924002285</td><td>6.485035480063118</td></tr><tr><td>10</td><td>Nanopartículas de óxido de disprosio</td><td>Nanopartículas de óxido de samario (Sm₂O₃)</td><td>Diagnóstico médico</td><td>2023-10-20</td><td>10</td><td>10</td><td>11.85772370529502</td><td>6.942949855061322</td><td>4.456474696972447</td><td>4.70646109653687</td><td>2.716366593364181</td><td>0.9535850156838621</td><td>2.488015417144733</td><td>3.2249882437358717</td><td>3.5925318009096103</td><td>7.082341379542616</td></tr></tbody></table></div>"
      ]
     },
     "metadata": {
      "application/vnd.databricks.v1+output": {
       "addedWidgets": {},
       "aggData": [],
       "aggError": "",
       "aggOverflow": false,
       "aggSchema": [],
       "aggSeriesLimitReached": false,
       "aggType": "",
       "arguments": {},
       "columnCustomDisplayInfos": {},
       "data": [
        [
         1,
         "Nanopartículas de óxido de samario",
         "Nanopartículas de dióxido de titanio (TiO₂)",
         "Revestimientos cerámicos",
         "2024-04-26",
         1,
         1,
         11.518931599429449,
         5.641146757237324,
         3.752820797450482,
         5.121737075643065,
         2.4145480829903834,
         1.8074487225380391,
         2.598593880128943,
         2.5799905949886974,
         2.011817808509382,
         7.679647279022113
        ],
        [
         2,
         "Nanopartículas de óxido de disprosio",
         "Nanopartículas de plata (Ag)",
         "Imanes",
         "2024-02-02",
         2,
         2,
         9.486178964236016,
         4.773278025354659,
         3.5182694976098268,
         4.568035770168138,
         3.4709128692986764,
         1.7700532317269073,
         1.9904123337157862,
         2.364991378739639,
         1.9399671724911896,
         5.63174133794955
        ],
        [
         3,
         "Nanopartículas de óxido de prometio",
         "MXenes (null)",
         "Materiales de construcción",
         "2024-07-05",
         3,
         3,
         10.502555281832732,
         6.075081123178657,
         3.2837181977691716,
         5.67543838111799,
         4.829096165980767,
         2.000658758395554,
         1.3822307873026294,
         1.3616617029107014,
         1.9399671724911896,
         6.911682551119902
        ],
        [
         4,
         "Fullerenos",
         "Nanopartículas de óxido de tungsteno (WO₃)",
         "Imanes",
         "2024-06-22",
         4,
         4,
         10.841347387698304,
         6.942949855061322,
         2.8146155980878613,
         3.8759091383244813,
         6.036370207475959,
         0.891259197665309,
         3.4832215840026257,
         1.3616617029107014,
         0.8622076322183065,
         5.3757530953154795
        ],
        [
         5,
         "Nanomateriales cristalinos",
         "Nanopartículas de óxido de disprosio (Dy₂O₃)",
         "Pantallas de alta resolución",
         "2023-11-22",
         5,
         5,
         10.841347387698304,
         5.207212391295991,
         4.691025996813102,
         4.429610443799407,
         3.3200036141117772,
         1.377400578210023,
         1.3269415558105242,
         2.436657784155992,
         1.2933114483274597,
         8.020964935867541
        ],
        [
         6,
         "Nanopartículas de sílice",
         "Nanopartículas de óxido de estaño (SnO₂)",
         "Conductores eléctricos",
         "2024-09-17",
         6,
         6,
         11.85772370529502,
         7.376884221002654,
         2.110961698565896,
         2.906931853743361,
         5.432733186728362,
         1.763820649925052,
         3.151486195049995,
         2.0066593516578757,
         1.5807139924002285,
         6.2290472374290475
        ],
        [
         7,
         "Nanopartículas de óxido de prometio",
         "Nanodiamantes ©",
         "Imanes",
         "2024-08-06",
         7,
         7,
         10.16376317596716,
         6.942949855061322,
         2.8146155980878613,
         2.4916558746371664,
         5.432733186728362,
         3.7395490811131844,
         2.488015417144733,
         3.153321838319519,
         2.371070988600343,
         6.997011965331259
        ],
        [
         8,
         "Nanopartículas de óxido de neodimio",
         "Hidróxidos dobles laminares (null)",
         "Protección solar",
         "2024-09-17",
         8,
         8,
         11.518931599429449,
         6.075081123178657,
         4.925577296653757,
         4.1527597910619445,
         4.5272776556069685,
         1.3898657418137337,
         2.875040037589469,
         1.0749960812452906,
         2.2992203525821506,
         7.850306107444827
        ],
        [
         9,
         "Nanopartículas de óxido de tulio",
         "Nanopartículas de platino (Pt)",
         "Imanes",
         "2023-12-16",
         9,
         9,
         9.824971070101588,
         6.075081123178657,
         3.5182694976098268,
         4.1527597910619445,
         4.829096165980767,
         2.6862427565996376,
         2.6538831116210484,
         1.0749960812452906,
         1.5807139924002285,
         6.485035480063118
        ],
        [
         10,
         "Nanopartículas de óxido de disprosio",
         "Nanopartículas de óxido de samario (Sm₂O₃)",
         "Diagnóstico médico",
         "2023-10-20",
         10,
         10,
         11.85772370529502,
         6.942949855061322,
         4.456474696972447,
         4.70646109653687,
         2.716366593364181,
         0.9535850156838621,
         2.488015417144733,
         3.2249882437358717,
         3.5925318009096103,
         7.082341379542616
        ]
       ],
       "datasetInfos": [],
       "dbfsResultPath": null,
       "isJsonSchema": true,
       "metadata": {},
       "overflow": false,
       "plotOptions": {
        "customPlotOptions": {},
        "displayType": "table",
        "pivotAggregation": null,
        "pivotColumns": null,
        "xColumns": null,
        "yColumns": null
       },
       "removedWidgets": [],
       "schema": [
        {
         "metadata": "{}",
         "name": "id_material",
         "type": "\"integer\""
        },
        {
         "metadata": "{}",
         "name": "nombre",
         "type": "\"string\""
        },
        {
         "metadata": "{}",
         "name": "compuesto_quimico",
         "type": "\"string\""
        },
        {
         "metadata": "{}",
         "name": "aplicacion",
         "type": "\"string\""
        },
        {
         "metadata": "{\"__detected_date_formats\":\"M/d/yyyy\"}",
         "name": "fecha_creacion",
         "type": "\"date\""
        },
        {
         "metadata": "{}",
         "name": "id_experimento",
         "type": "\"integer\""
        },
        {
         "metadata": "{}",
         "name": "id_propiedad",
         "type": "\"integer\""
        },
        {
         "metadata": "{}",
         "name": "temperatura_prueba",
         "type": "\"double\""
        },
        {
         "metadata": "{}",
         "name": "presion_aplicada",
         "type": "\"double\""
        },
        {
         "metadata": "{}",
         "name": "duracion_experimento",
         "type": "\"double\""
        },
        {
         "metadata": "{}",
         "name": "resistencia",
         "type": "\"double\""
        },
        {
         "metadata": "{}",
         "name": "elasticidad",
         "type": "\"double\""
        },
        {
         "metadata": "{}",
         "name": "conductividad_termica",
         "type": "\"double\""
        },
        {
         "metadata": "{}",
         "name": "densidad",
         "type": "\"double\""
        },
        {
         "metadata": "{}",
         "name": "diametro_nanoparticulas",
         "type": "\"double\""
        },
        {
         "metadata": "{}",
         "name": "espesor_capa",
         "type": "\"double\""
        },
        {
         "metadata": "{}",
         "name": "capacidad_absorcion_luz",
         "type": "\"double\""
        }
       ],
       "type": "table"
      }
     },
     "output_type": "display_data"
    }
   ],
   "source": [
    "%sql\n",
    "SELECT * FROM mi_vista_final LIMIT 10;\n"
   ]
  },
  {
   "cell_type": "code",
   "execution_count": 0,
   "metadata": {
    "application/vnd.databricks.v1+cell": {
     "cellMetadata": {
      "byteLimit": 2048000,
      "rowLimit": 10000
     },
     "inputWidgets": {},
     "nuid": "c53f91ff-f5c5-4545-ae94-7bc02e03c1c8",
     "showTitle": false,
     "tableResultSettingsMap": {},
     "title": ""
    }
   },
   "outputs": [
    {
     "output_type": "stream",
     "name": "stdout",
     "output_type": "stream",
     "text": [
      "Out[100]: DataFrame[]"
     ]
    }
   ],
   "source": [
    "# Define la ruta para la capa Silver\n",
    "silver_path = \"/mnt/delta/silver\"\n",
    "\n",
    "# Guarda el DataFrame como un archivo Delta\n",
    "df_final.write.format(\"delta\").mode(\"overwrite\").save(silver_path)\n",
    "\n",
    "# Registra la tabla en el catálogo de Databricks\n",
    "spark.sql(f\"\"\"\n",
    "    CREATE TABLE IF NOT EXISTS silver_table\n",
    "    USING DELTA\n",
    "    LOCATION '{silver_path}'\n",
    "\"\"\")"
   ]
  },
  {
   "cell_type": "code",
   "execution_count": 0,
   "metadata": {
    "application/vnd.databricks.v1+cell": {
     "cellMetadata": {
      "byteLimit": 2048000,
      "rowLimit": 10000
     },
     "inputWidgets": {},
     "nuid": "44d68171-716c-4406-8a80-047e22936ed1",
     "showTitle": false,
     "tableResultSettingsMap": {},
     "title": ""
    }
   },
   "outputs": [
    {
     "output_type": "stream",
     "name": "stdout",
     "output_type": "stream",
     "text": [
      "+-----------+--------------------+--------------------+--------------------+--------------+--------------+------------+------------------+-----------------+--------------------+------------------+------------------+---------------------+------------------+-----------------------+------------------+-----------------------+\n|id_material|              nombre|   compuesto_quimico|          aplicacion|fecha_creacion|id_experimento|id_propiedad|temperatura_prueba| presion_aplicada|duracion_experimento|       resistencia|       elasticidad|conductividad_termica|          densidad|diametro_nanoparticulas|      espesor_capa|capacidad_absorcion_luz|\n+-----------+--------------------+--------------------+--------------------+--------------+--------------+------------+------------------+-----------------+--------------------+------------------+------------------+---------------------+------------------+-----------------------+------------------+-----------------------+\n|          1|Nanopartículas de...|Nanopartículas de...|Revestimientos ce...|    2024-04-26|             1|           1|11.518931599429449|5.641146757237324|   3.752820797450482| 5.121737075643065|2.4145480829903834|   1.8074487225380391| 2.598593880128943|     2.5799905949886974| 2.011817808509382|      7.679647279022113|\n|          2|Nanopartículas de...|Nanopartículas de...|              Imanes|    2024-02-02|             2|           2| 9.486178964236016|4.773278025354659|  3.5182694976098268| 4.568035770168138|3.4709128692986764|   1.7700532317269073|1.9904123337157862|      2.364991378739639|1.9399671724911896|       5.63174133794955|\n|          3|Nanopartículas de...|       MXenes (null)|Materiales de con...|    2024-07-05|             3|           3|10.502555281832732|6.075081123178657|  3.2837181977691716|  5.67543838111799| 4.829096165980767|    2.000658758395554|1.3822307873026294|     1.3616617029107014|1.9399671724911896|      6.911682551119902|\n|          4|          Fullerenos|Nanopartículas de...|              Imanes|    2024-06-22|             4|           4|10.841347387698304|6.942949855061322|  2.8146155980878613|3.8759091383244813| 6.036370207475959|    0.891259197665309|3.4832215840026257|     1.3616617029107014|0.8622076322183065|     5.3757530953154795|\n|          5|Nanomateriales cr...|Nanopartículas de...|Pantallas de alta...|    2023-11-22|             5|           5|10.841347387698304|5.207212391295991|   4.691025996813102| 4.429610443799407|3.3200036141117772|    1.377400578210023|1.3269415558105242|      2.436657784155992|1.2933114483274597|      8.020964935867541|\n|          6|Nanopartículas de...|Nanopartículas de...|Conductores eléct...|    2024-09-17|             6|           6| 11.85772370529502|7.376884221002654|   2.110961698565896| 2.906931853743361| 5.432733186728362|    1.763820649925052| 3.151486195049995|     2.0066593516578757|1.5807139924002285|     6.2290472374290475|\n|          7|Nanopartículas de...|     Nanodiamantes ©|              Imanes|    2024-08-06|             7|           7| 10.16376317596716|6.942949855061322|  2.8146155980878613|2.4916558746371664| 5.432733186728362|   3.7395490811131844| 2.488015417144733|      3.153321838319519| 2.371070988600343|      6.997011965331259|\n|          8|Nanopartículas de...|Hidróxidos dobles...|    Protección solar|    2024-09-17|             8|           8|11.518931599429449|6.075081123178657|   4.925577296653757|4.1527597910619445|4.5272776556069685|   1.3898657418137337| 2.875040037589469|     1.0749960812452906|2.2992203525821506|      7.850306107444827|\n|          9|Nanopartículas de...|Nanopartículas de...|              Imanes|    2023-12-16|             9|           9| 9.824971070101588|6.075081123178657|  3.5182694976098268|4.1527597910619445| 4.829096165980767|   2.6862427565996376|2.6538831116210484|     1.0749960812452906|1.5807139924002285|      6.485035480063118|\n|         10|Nanopartículas de...|Nanopartículas de...|  Diagnóstico médico|    2023-10-20|            10|          10| 11.85772370529502|6.942949855061322|   4.456474696972447|  4.70646109653687| 2.716366593364181|   0.9535850156838621| 2.488015417144733|     3.2249882437358717|3.5925318009096103|      7.082341379542616|\n|         11|Nanopartículas de...|Puntos cuánticos ...|              Imanes|    2024-07-25|            11|          11|10.502555281832732|7.810818586943987|   4.221923397131792|3.5990584855870185| 5.281823931541464|   1.5643780322656822|2.5433046486368376|     3.2249882437358717| 2.874025440727688|      7.679647279022113|\n|         12|Nanopartículas de...|Nanosheets de nit...|              Imanes|    2024-06-19|            12|          12| 11.85772370529502|5.207212391295991|  3.5182694976098268|2.7685065273746297| 4.829096165980767|    1.377400578210023| 2.211569259684207|      3.153321838319519|1.9399671724911896|      5.290423681104122|\n|         13|Nanopartículas de...|Nanopartículas de...|    Protección solar|    2024-10-11|            13|          13| 8.808594752504872|7.810818586943987|   4.925577296653757| 4.291185117430675| 5.432733186728362|    1.072004069919113|0.6634707779052621|     3.7266530816503405|1.5807139924002285|      6.058388409006334|\n|         14|Nanopartículas de...|Nanopartículas de...|Dispositivos elec...|    2024-02-21|            14|          14| 9.486178964236016|6.075081123178657|  5.3946798963350675|3.0453571801120924| 3.772731379672474|   3.6148974450760782| 3.151486195049995|     3.7266530816503405| 2.730324168691304|     6.2290472374290475|\n|         15|Nanosheets de MOF 2D|Materiales nanopo...|              Imanes|    2023-10-29|            15|          15|10.841347387698304|6.509015489119989|   3.752820797450482|3.3222078328495552| 4.678186910793868|    2.287357521280898|2.8197508060973635|     2.8666562166541083|2.6584735326731117|      5.802400166372263|\n|         16|Nanopartículas de...|Nanopartículas de...|              Imanes|    2024-02-27|            16|          16| 9.486178964236016|6.075081123178657|  3.5182694976098268|3.4606331592182866|3.3200036141117772|   1.9570306857825663| 2.488015417144733|      3.869985892483046| 3.448830528873226|      7.679647279022113|\n|         17|Nanomateriales cr...|Nanopartículas de...|            Fósforos|    2024-04-04|            17|          17|12.196515811160593|7.810818586943987|  2.8146155980878613| 6.921266318436573| 5.583642441915262|   1.8510767951510263|3.0961969635578894|     2.7949898112377554|0.9340582682364987|       5.63174133794955|\n|         18|Nanopartículas de...|Nanopartículas de...|Entrega de medica...|    2024-07-09|            18|          18|11.518931599429449|6.075081123178657|   3.987372097291137|  5.67543838111799| 7.545462759344948|   0.8850266158634537|1.8245446392394706|      2.221658567906934| 3.161427984800457|      6.485035480063118|\n|         19|Nanopartículas de...|Nanopartículas de...|Conductores eléct...|    2024-06-05|            19|          19| 9.824971070101588|5.641146757237324|  3.5182694976098268| 4.291185117430675| 3.923640634859373|   3.1162909009276536| 2.211569259684207|     1.6483273245761123| 1.724415264436613|      4.266470710567841|\n|         20|Nanopartículas de...|    Fullerenos (C₆₀)|              Imanes|    2024-03-31|            20|          20|10.841347387698304|6.942949855061322|   3.752820797450482|2.7685065273746297| 3.923640634859373|   1.8510767951510263|1.7139661762552605|     2.8666562166541083| 1.724415264436613|      6.997011965331259|\n+-----------+--------------------+--------------------+--------------------+--------------+--------------+------------+------------------+-----------------+--------------------+------------------+------------------+---------------------+------------------+-----------------------+------------------+-----------------------+\nonly showing top 20 rows\n\n"
     ]
    }
   ],
   "source": [
    "spark.sql(\"SELECT * FROM silver_table\").show()"
   ]
  }
 ],
 "metadata": {
  "application/vnd.databricks.v1+notebook": {
   "dashboards": [],
   "environmentMetadata": null,
   "language": "python",
   "notebookMetadata": {
    "mostRecentlyExecutedCommandWithImplicitDF": {
     "commandId": 3097775062316250,
     "dataframes": [
      "_sqldf"
     ]
    },
    "pythonIndentUnit": 4
   },
   "notebookName": "Capa_bronce_Nanomateriales",
   "widgets": {}
  },
  "kernelspec": {
   "display_name": "Python 3 (ipykernel)",
   "language": "python",
   "name": "python3"
  },
  "language_info": {
   "codemirror_mode": {
    "name": "ipython",
    "version": 3
   },
   "file_extension": ".py",
   "mimetype": "text/x-python",
   "name": "python",
   "nbconvert_exporter": "python",
   "pygments_lexer": "ipython3",
   "version": "3.12.6"
  }
 },
 "nbformat": 4,
 "nbformat_minor": 0
}
