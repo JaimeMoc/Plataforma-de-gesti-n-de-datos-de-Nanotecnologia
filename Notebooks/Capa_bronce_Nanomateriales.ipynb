{
 "cells": [
  {
   "cell_type": "markdown",
   "metadata": {
    "application/vnd.databricks.v1+cell": {
     "cellMetadata": {},
     "inputWidgets": {},
     "nuid": "eee1280e-90b6-460b-943b-dd891628073b",
     "showTitle": false,
     "title": ""
    }
   },
   "source": [
    "# Proyecto Nanotecnología.  "
   ]
  },
  {
   "cell_type": "markdown",
   "metadata": {
    "application/vnd.databricks.v1+cell": {
     "cellMetadata": {},
     "inputWidgets": {},
     "nuid": "291ebb91-ece6-42c1-bf40-c1e637340a89",
     "showTitle": false,
     "title": ""
    }
   },
   "source": [
    "En el campo de la nanotecnología, los científicos realizan experimentos sobre materiales que operan a nano escala, estos generan datos relacionados con las propiedades físicas y químicas de los materiales estudiados.\n",
    "\n",
    "Estos datos son importantes para comprender y predecir cómo los materiales se comportan al aplicar ciertas fuerzas o condiciones, como cambios de temperatura o presión. Para poder usarlos y poder realizar predicciones precisas, es necesario el construir una estructura de datos que permita el acceso de esa información de forma optimizada."
   ]
  },
  {
   "cell_type": "markdown",
   "metadata": {
    "application/vnd.databricks.v1+cell": {
     "cellMetadata": {},
     "inputWidgets": {},
     "nuid": "c29c00c1-e86a-47c0-8fb6-95b3e9aea28e",
     "showTitle": false,
     "title": ""
    },
    "jupyter": {
     "outputs_hidden": true
    }
   },
   "source": [
    "##Importamos los datos."
   ]
  },
  {
   "cell_type": "code",
   "execution_count": 0,
   "metadata": {
    "application/vnd.databricks.v1+cell": {
     "cellMetadata": {
      "byteLimit": 2048000,
      "rowLimit": 10000
     },
     "inputWidgets": {},
     "nuid": "d3f53227-5485-4beb-b10c-b1647c3960db",
     "showTitle": false,
     "title": ""
    }
   },
   "outputs": [
    {
     "output_type": "stream",
     "name": "stdout",
     "output_type": "stream",
     "text": [
      "Out[59]: True"
     ]
    }
   ],
   "source": [
    "# creación de las carpetas \"bronce\", \"silver\", \"gold\". \n",
    "\n",
    "path = '/FileStore/tables'\n",
    "dbutils.fs.mkdirs(path + \"/bronce\")\n",
    "dbutils.fs.mkdirs(path + \"/silver\")\n",
    "dbutils.fs.mkdirs(path + \"/gold\")"
   ]
  },
  {
   "cell_type": "code",
   "execution_count": 0,
   "metadata": {
    "application/vnd.databricks.v1+cell": {
     "cellMetadata": {
      "byteLimit": 2048000,
      "rowLimit": 10000
     },
     "inputWidgets": {},
     "nuid": "ed40b3ab-e6d2-463b-9029-f961cfaaeabb",
     "showTitle": false,
     "title": ""
    }
   },
   "outputs": [],
   "source": [
    "#Declaración de las variables src y dest\n",
    "src1 = \"dbfs:/FileStore/Materiales.csv\"\n",
    "dest1 = \"dbfs:/FileStore/tables/bronce/Materiales.csv\"\n",
    "\n",
    "src2 = \"dbfs:/FileStore/Condiciones.csv\"\n",
    "dest2 = \"dbfs:/FileStore/tables/bronce/Condiciones.csv\"\n",
    "\n",
    "src3 = \"dbfs:/FileStore/Propiedades.csv\"\n",
    "dest3 = \"dbfs:/FileStore/tables/bronce/Propiedades.csv\"\n"
   ]
  },
  {
   "cell_type": "code",
   "execution_count": 0,
   "metadata": {
    "application/vnd.databricks.v1+cell": {
     "cellMetadata": {
      "byteLimit": 2048000,
      "rowLimit": 10000
     },
     "inputWidgets": {},
     "nuid": "b85e7058-c5bd-4bdd-adad-6f426533a87a",
     "showTitle": false,
     "title": ""
    }
   },
   "outputs": [],
   "source": [
    "# Importación de las bibliotecas necesarias.\n",
    "from pyspark.sql import SparkSession\n",
    "from pyspark.sql.functions import expr\n",
    "\n",
    "# Creación de una instancia de SparkSession.\n",
    "spark = SparkSession.builder.appName(\"CargaCSV\").getOrCreate()\n",
    "\n",
    "# Carga de los archivos CSV dentro de DataFrames.\n",
    "df1 = spark.read.csv(src1, header=True, inferSchema=True)\n",
    "df2 = spark.read.csv(src2, header=True, inferSchema=True)\n",
    "df3 = spark.read.csv(src3, header=True, inferSchema=True)\n"
   ]
  },
  {
   "cell_type": "code",
   "execution_count": 0,
   "metadata": {
    "application/vnd.databricks.v1+cell": {
     "cellMetadata": {
      "byteLimit": 2048000,
      "rowLimit": 10000
     },
     "inputWidgets": {},
     "nuid": "3914391c-a905-4d08-add8-239bb3572ce1",
     "showTitle": false,
     "title": ""
    }
   },
   "outputs": [
    {
     "output_type": "stream",
     "name": "stdout",
     "output_type": "stream",
     "text": [
      "+-----------+--------------------+--------------------+--------------------+--------------+\n|id_material|                name|   compuesto_quimico|          aplicacion|fecha_creacion|\n+-----------+--------------------+--------------------+--------------------+--------------+\n|          1|Nanopartículas de...|Nanopartículas de...|Revestimientos ce...|    2024-04-26|\n|          2|Nanopartículas de...|Nanopartículas de...|              Imanes|    2024-02-02|\n|          3|Nanopartículas de...|       MXenes (null)|Materiales de con...|    2024-07-05|\n|          4|          Fullerenos|Nanopartículas de...|              Imanes|    2024-06-22|\n|          5|Nanomateriales cr...|Nanopartículas de...|Pantallas de alta...|    2023-11-22|\n+-----------+--------------------+--------------------+--------------------+--------------+\nonly showing top 5 rows\n\n+--------------+-----------+------------------+----------------+--------------------+-----------------+\n|id_experimento|id_material|temperatura_prueba|presion_aplicada|duracion_experimento|fecha_experimento|\n+--------------+-----------+------------------+----------------+--------------------+-----------------+\n|             1|          1|                34|             1.3|                 160|       2024-05-08|\n|             2|          2|                28|             1.1|                 150|       2024-01-26|\n|             3|          3|                31|             1.4|                 140|       2024-08-17|\n|             4|          4|                32|             1.6|                 120|       2024-01-12|\n|             5|          5|                32|             1.2|                 200|       2024-09-29|\n+--------------+-----------+------------------+----------------+--------------------+-----------------+\nonly showing top 5 rows\n\n+------------+-----------+-----------+-----------+---------------------+--------+-----------------------+------------+-----------------------+\n|id_propiedad|id_material|resistencia|elasticidad|conductividad_termica|densidad|diametro_nanoparticulas|espesor_capa|capacidad_absorcion_luz|\n+------------+-----------+-----------+-----------+---------------------+--------+-----------------------+------------+-----------------------+\n|           1|          1|        370|         80|                 29.0|     4.7|                     36|          28|                     90|\n|           2|          2|        330|        115|                 28.4|     3.6|                     33|          27|                     66|\n|           3|          3|        410|        160|                 32.1|     2.5|                     19|          27|                     81|\n|           4|          4|        280|        200|                 14.3|     6.3|                     19|          12|                     63|\n|           5|          5|        320|        110|                 22.1|     2.4|                     34|          18|                     94|\n+------------+-----------+-----------+-----------+---------------------+--------+-----------------------+------------+-----------------------+\nonly showing top 5 rows\n\n"
     ]
    }
   ],
   "source": [
    "#Observación de los datos.\n",
    "\n",
    "df1.show(5) \n",
    "df2.show(5)  \n",
    "df3.show(5) "
   ]
  },
  {
   "cell_type": "markdown",
   "metadata": {
    "application/vnd.databricks.v1+cell": {
     "cellMetadata": {},
     "inputWidgets": {},
     "nuid": "e8d12694-3f7f-453e-91ea-827f7eef6edc",
     "showTitle": false,
     "title": ""
    }
   },
   "source": [
    "##Limpieza de los datos"
   ]
  },
  {
   "cell_type": "code",
   "execution_count": 0,
   "metadata": {
    "application/vnd.databricks.v1+cell": {
     "cellMetadata": {
      "byteLimit": 2048000,
      "rowLimit": 10000
     },
     "inputWidgets": {},
     "nuid": "21829097-59ba-4985-892d-eadec0599525",
     "showTitle": false,
     "title": ""
    }
   },
   "outputs": [],
   "source": [
    "#unión de los tres DataFrames.   \n",
    "\n",
    "df_union = df1.join(df2, \"id_material\").join(df3, \"id_material\")"
   ]
  },
  {
   "cell_type": "code",
   "execution_count": 0,
   "metadata": {
    "application/vnd.databricks.v1+cell": {
     "cellMetadata": {
      "byteLimit": 2048000,
      "rowLimit": 10000
     },
     "inputWidgets": {},
     "nuid": "7523067b-acd0-4510-9f84-b8ec0629be7a",
     "showTitle": false,
     "title": ""
    }
   },
   "outputs": [
    {
     "output_type": "stream",
     "name": "stdout",
     "output_type": "stream",
     "text": [
      "+-----------+--------------+------------+-----+\n|id_material|id_experimento|id_propiedad|count|\n+-----------+--------------+------------+-----+\n+-----------+--------------+------------+-----+\n\n"
     ]
    }
   ],
   "source": [
    "#Datos repetidos por identificadores unicos. \n",
    "\n",
    "df_duplicates = df_union.groupBy(\"id_material\", \"id_experimento\", \"id_propiedad\").count().filter(\"count > 1\")\n",
    "df_duplicates.show()\n"
   ]
  },
  {
   "cell_type": "code",
   "execution_count": 0,
   "metadata": {
    "application/vnd.databricks.v1+cell": {
     "cellMetadata": {
      "byteLimit": 2048000,
      "rowLimit": 10000
     },
     "inputWidgets": {},
     "nuid": "9631f642-74fd-4cea-8ac3-f5d789789155",
     "showTitle": false,
     "title": ""
    }
   },
   "outputs": [
    {
     "output_type": "stream",
     "name": "stdout",
     "output_type": "stream",
     "text": [
      "+-----------+------------------+----------------+--------------------+-----------------+-----+\n|id_material|temperatura_prueba|presion_aplicada|duracion_experimento|fecha_experimento|count|\n+-----------+------------------+----------------+--------------------+-----------------+-----+\n+-----------+------------------+----------------+--------------------+-----------------+-----+\n\n"
     ]
    }
   ],
   "source": [
    "#Datos duplicados por condiciones del Experimento.\n",
    "\n",
    "df_duplicates = df_union.groupBy(\"id_material\", \"temperatura_prueba\", \"presion_aplicada\", \"duracion_experimento\", \"fecha_experimento\").count().filter(\"count > 1\")\n",
    "\n",
    "df_duplicates.show() #Mostramos si existen datos duplicados."
   ]
  },
  {
   "cell_type": "code",
   "execution_count": 0,
   "metadata": {
    "application/vnd.databricks.v1+cell": {
     "cellMetadata": {
      "byteLimit": 2048000,
      "rowLimit": 10000
     },
     "inputWidgets": {},
     "nuid": "7ace68ad-36ee-4192-93c4-d887e14ee38c",
     "showTitle": false,
     "title": ""
    }
   },
   "outputs": [
    {
     "output_type": "stream",
     "name": "stdout",
     "output_type": "stream",
     "text": [
      "+-----------+-----------+-----------+---------------------+--------+-----------------------+------------+-----------------------+-----+\n|id_material|resistencia|elasticidad|conductividad_termica|densidad|diametro_nanoparticulas|espesor_capa|capacidad_absorcion_luz|count|\n+-----------+-----------+-----------+---------------------+--------+-----------------------+------------+-----------------------+-----+\n+-----------+-----------+-----------+---------------------+--------+-----------------------+------------+-----------------------+-----+\n\n"
     ]
    }
   ],
   "source": [
    "#Datos duplicados por las propiedades del Material\n",
    "\n",
    "df_duplicates = df_union.groupBy(\"id_material\", \"resistencia\", \"elasticidad\", \"conductividad_termica\", \"densidad\", \"diametro_nanoparticulas\", \"espesor_capa\", \"capacidad_absorcion_luz\").count().filter(\"count > 1\")\n",
    "\n",
    "df_duplicates.show() #Mostramos si existen datos duplicados."
   ]
  },
  {
   "cell_type": "code",
   "execution_count": 0,
   "metadata": {
    "application/vnd.databricks.v1+cell": {
     "cellMetadata": {
      "byteLimit": 2048000,
      "rowLimit": 10000
     },
     "inputWidgets": {},
     "nuid": "96cceb3e-1a2b-4ea8-9607-5847f6976556",
     "showTitle": false,
     "title": ""
    }
   },
   "outputs": [
    {
     "output_type": "stream",
     "name": "stdout",
     "output_type": "stream",
     "text": [
      "+-----------+----+-----------------+----------+--------------+--------------+------------------+----------------+--------------------+-----------------+------------+-----------+-----------+---------------------+--------+-----------------------+------------+-----------------------+\n|id_material|name|compuesto_quimico|aplicacion|fecha_creacion|id_experimento|temperatura_prueba|presion_aplicada|duracion_experimento|fecha_experimento|id_propiedad|resistencia|elasticidad|conductividad_termica|densidad|diametro_nanoparticulas|espesor_capa|capacidad_absorcion_luz|\n+-----------+----+-----------------+----------+--------------+--------------+------------------+----------------+--------------------+-----------------+------------+-----------+-----------+---------------------+--------+-----------------------+------------+-----------------------+\n|          0|   0|                0|         0|             0|             0|                 0|               0|                   0|                0|           0|          0|          0|                    0|       0|                      0|           0|                      0|\n+-----------+----+-----------------+----------+--------------+--------------+------------------+----------------+--------------------+-----------------+------------+-----------+-----------+---------------------+--------+-----------------------+------------+-----------------------+\n\n"
     ]
    }
   ],
   "source": [
    "# Contamos aquellos valores nulos en cada columna de df_union.\n",
    "from pyspark.sql.functions import col, sum\n",
    "\n",
    "df_union.select([sum(col(c).isNull().cast(\"int\")).alias(c) for c in df_union.columns]).show()"
   ]
  },
  {
   "cell_type": "code",
   "execution_count": 0,
   "metadata": {
    "application/vnd.databricks.v1+cell": {
     "cellMetadata": {
      "byteLimit": 2048000,
      "rowLimit": 10000
     },
     "inputWidgets": {},
     "nuid": "a5e575c0-2f9c-4c68-941c-ba7a6b2e2394",
     "showTitle": false,
     "title": ""
    }
   },
   "outputs": [
    {
     "output_type": "stream",
     "name": "stdout",
     "output_type": "stream",
     "text": [
      "Out[69]: DataFrame[summary: string, id_material: string, nombre: string, compuesto_quimico: string, aplicacion: string, id_experimento: string, temperatura_prueba: string, presion_aplicada: string, duracion_experimento: string, id_propiedad: string, resistencia: string, elasticidad: string, conductividad_termica: string, densidad: string, diametro_nanoparticulas: string, espesor_capa: string, capacidad_absorcion_luz: string]"
     ]
    }
   ],
   "source": [
    "#Cambiamos el nombre de la columna name a nombre. \n",
    "\n",
    "df_renamed = df_union.withColumnRenamed(\"name\", \"nombre\")\n",
    "df_renamed.describe() #Mostramos las columnas del dataframe. "
   ]
  },
  {
   "cell_type": "code",
   "execution_count": 0,
   "metadata": {
    "application/vnd.databricks.v1+cell": {
     "cellMetadata": {
      "byteLimit": 2048000,
      "rowLimit": 10000
     },
     "inputWidgets": {},
     "nuid": "4a2f9d7a-7897-4df2-aa73-baa1ca459650",
     "showTitle": false,
     "title": ""
    }
   },
   "outputs": [
    {
     "output_type": "stream",
     "name": "stdout",
     "output_type": "stream",
     "text": [
      "root\n |-- id_material: integer (nullable = true)\n |-- nombre: string (nullable = true)\n |-- compuesto_quimico: string (nullable = true)\n |-- aplicacion: string (nullable = true)\n |-- fecha_creacion: date (nullable = true)\n |-- id_experimento: integer (nullable = true)\n |-- temperatura_prueba: integer (nullable = true)\n |-- presion_aplicada: double (nullable = true)\n |-- duracion_experimento: integer (nullable = true)\n |-- fecha_experimento: date (nullable = true)\n |-- id_propiedad: integer (nullable = true)\n |-- resistencia: integer (nullable = true)\n |-- elasticidad: integer (nullable = true)\n |-- conductividad_termica: double (nullable = true)\n |-- densidad: double (nullable = true)\n |-- diametro_nanoparticulas: integer (nullable = true)\n |-- espesor_capa: integer (nullable = true)\n |-- capacidad_absorcion_luz: integer (nullable = true)\n\n"
     ]
    }
   ],
   "source": [
    "#Nos aseguramos de que nuestros datos tengan el tipo de dato correcto. \n",
    "\n",
    "from pyspark.sql.functions import col\n",
    "\n",
    "df_corrected = (df_renamed\n",
    "                .withColumn(\"id_material\", col(\"id_material\").cast(\"integer\"))\n",
    "                .withColumn(\"temperatura_prueba\", col(\"temperatura_prueba\").cast(\"integer\"))\n",
    "                .withColumn(\"presion_aplicada\", col(\"presion_aplicada\").cast(\"double\"))\n",
    "                .withColumn(\"duracion_experimento\", col(\"duracion_experimento\").cast(\"integer\"))\n",
    "                .withColumn(\"resistencia\", col(\"resistencia\").cast(\"integer\"))\n",
    "                .withColumn(\"elasticidad\", col(\"elasticidad\").cast(\"integer\"))\n",
    "                .withColumn(\"conductividad_termica\", col(\"conductividad_termica\").cast(\"double\"))\n",
    "                .withColumn(\"densidad\", col(\"densidad\").cast(\"double\"))\n",
    "                .withColumn(\"diametro_nanoparticulas\", col(\"diametro_nanoparticulas\").cast(\"integer\"))\n",
    "                .withColumn(\"espesor_capa\", col(\"espesor_capa\").cast(\"integer\"))\n",
    "                .withColumn(\"capacidad_absorcion_luz\", col(\"capacidad_absorcion_luz\").cast(\"integer\"))\n",
    "               )\n",
    "\n",
    "df_corrected.printSchema() #Nos aseguramos que el tipo de datos sea el adecuado. \n"
   ]
  },
  {
   "cell_type": "code",
   "execution_count": 0,
   "metadata": {
    "application/vnd.databricks.v1+cell": {
     "cellMetadata": {
      "byteLimit": 2048000,
      "rowLimit": 10000
     },
     "inputWidgets": {},
     "nuid": "668fa98b-6431-4e9d-8534-c27257ace1cf",
     "showTitle": false,
     "title": ""
    }
   },
   "outputs": [
    {
     "output_type": "stream",
     "name": "stdout",
     "output_type": "stream",
     "text": [
      "+--------------------+\n|     scaled_features|\n+--------------------+\n|[1.28063416017186...|\n|[-0.7521184750215...|\n|[0.26425784257514...|\n|[0.60304994844071...|\n|[0.60304994844071...|\n+--------------------+\nonly showing top 5 rows\n\n"
     ]
    }
   ],
   "source": [
    "# Normalización de las columnas numéricas.\n",
    "\n",
    "from pyspark.ml.feature import VectorAssembler, StandardScaler\n",
    "\n",
    "# Seleccionamos las columnas numéricas para la normalización.\n",
    "numeric_cols = [\"temperatura_prueba\", \"presion_aplicada\", \"duracion_experimento\", \"resistencia\", \"elasticidad\", \"conductividad_termica\", \"densidad\", \"diametro_nanoparticulas\", \"espesor_capa\", \"capacidad_absorcion_luz\"]\n",
    "\n",
    "# Creamos un \"VectorAssembler\" para combinar las columnas numéricas en una sola columna de características\n",
    "assembler = VectorAssembler(inputCols=numeric_cols, outputCol=\"features\")\n",
    "# Transformación del DataFrame\n",
    "df_features = assembler.transform(df_corrected)\n",
    "\n",
    "# Creamos un StandardScaler para normalizar las características\n",
    "scaler = StandardScaler(inputCol=\"features\", outputCol=\"scaled_features\", withMean=True, withStd=True)\n",
    "\n",
    "# Ajustamos y se transforman los datos\n",
    "scaler_model = scaler.fit(df_features)\n",
    "df_scaled = scaler_model.transform(df_features)\n",
    "\n",
    "# Se muestran las primeras filas para verificar la normalización\n",
    "df_scaled.select(\"scaled_features\").show(5)"
   ]
  },
  {
   "cell_type": "code",
   "execution_count": 0,
   "metadata": {
    "application/vnd.databricks.v1+cell": {
     "cellMetadata": {
      "byteLimit": 2048000,
      "rowLimit": 10000
     },
     "inputWidgets": {},
     "nuid": "22dcdffe-473c-4b98-b223-abbab734797b",
     "showTitle": false,
     "title": ""
    }
   },
   "outputs": [
    {
     "output_type": "stream",
     "name": "stdout",
     "output_type": "stream",
     "text": [
      "+-----------+--------------------+--------------------+--------------------+--------------+--------------+------------+-------------------+-------------------+--------------------+--------------------+-------------------+---------------------+--------------------+-----------------------+--------------------+-----------------------+\n|id_material|              nombre|   compuesto_quimico|          aplicacion|fecha_creacion|id_experimento|id_propiedad| temperatura_prueba|   presion_aplicada|duracion_experimento|         resistencia|        elasticidad|conductividad_termica|            densidad|diametro_nanoparticulas|        espesor_capa|capacidad_absorcion_luz|\n+-----------+--------------------+--------------------+--------------------+--------------+--------------+------------+-------------------+-------------------+--------------------+--------------------+-------------------+---------------------+--------------------+-----------------------+--------------------+-----------------------+\n|          1|Nanopartículas de...|Nanopartículas de...|Revestimientos ce...|    2024-04-26|             1|           1| 1.2806341601718625| -1.040140675161379| 0.06637801785490435|  0.9662087780537529|  -2.09280955093192| -0.03189212108009213|  0.2854030129622481|     0.3252221477794106|0.001796265900455...|     1.2436762121305343|\n|          2|Nanopartículas de...|Nanopartículas de...|              Imanes|    2024-02-02|             2|           2|-0.7521184750215695|-1.9080094070440443|-0.16817328198575077| 0.41250747257882703|-1.0364447646236274| -0.06928761189122407|-0.32277853345090884|    0.11022293153035252|-0.07005437011773699|    -0.8042297289420293|\n|          3|Nanopartículas de...|       MXenes (null)|Materiales de con...|    2024-07-05|             3|           3|0.26425784257514656|-0.6062063092200471|-0.40272458182640586|  1.5199100835286787|0.32173853205846337|   0.1613179147774225| -0.9309600798640658|    -0.8931067442985854|-0.07005437011773699|      0.475711484228323|\n|          4|          Fullerenos|Nanopartículas de...|              Imanes|    2024-06-22|             4|           4| 0.6030499484407186|0.26166242266261885| -0.8718271815077161|-0.27961915926483033|  1.529012573553655|  -0.9480816459528223|  1.1700307168359307|    -0.8931067442985854| -1.1478139103906202|    -1.0602179715760998|\n|          5|Nanomateriales cr...|Nanopartículas de...|Pantallas de alta...|    2023-11-22|             5|           5| 0.6030499484407186|-1.4740750411027121|  1.0045832172175249|  0.2740821462100956|-1.1873540198105264| -0.46194026540810823|  -0.986249311356171|    0.18188933694670523| -0.7167100942814668|     1.5849938689759615|\n+-----------+--------------------+--------------------+--------------------+--------------+--------------+------------+-------------------+-------------------+--------------------+--------------------+-------------------+---------------------+--------------------+-----------------------+--------------------+-----------------------+\nonly showing top 5 rows\n\n"
     ]
    }
   ],
   "source": [
    "#Descomponemos el Vector de Características Normalizadas.\n",
    "from pyspark.ml.linalg import Vectors\n",
    "from pyspark.sql.functions import udf\n",
    "from pyspark.sql.types import ArrayType, DoubleType\n",
    "\n",
    "# UDF para convertir el vector en una lista.\n",
    "vector_to_array = udf(lambda v: v.toArray().tolist(), ArrayType(DoubleType()))\n",
    "\n",
    "# Convertimos la columna 'scaled_features' en una lista.\n",
    "df_array = df_scaled.withColumn(\"scaled_features_array\", vector_to_array(col(\"scaled_features\")))\n",
    "\n",
    "# Seleccionar las columnas originales y las características normalizadas.\n",
    "df_final = df_array.select([\"id_material\", \"nombre\", \"compuesto_quimico\", \"aplicacion\", \"fecha_creacion\", \"id_experimento\", \"id_propiedad\"] + [col(\"scaled_features_array\")[i].alias(numeric_cols[i]) for i in range(len(numeric_cols))])\n",
    "\n",
    "# Mostrar las primeras filas para verificar.\n",
    "df_final.show(5)"
   ]
  },
  {
   "cell_type": "code",
   "execution_count": 0,
   "metadata": {
    "application/vnd.databricks.v1+cell": {
     "cellMetadata": {
      "byteLimit": 2048000,
      "rowLimit": 10000
     },
     "inputWidgets": {},
     "nuid": "d0b120b9-3a0d-466f-a411-46d0be5d7558",
     "showTitle": false,
     "title": ""
    }
   },
   "outputs": [
    {
     "output_type": "stream",
     "name": "stdout",
     "output_type": "stream",
     "text": [
      "+-------+--------------------+--------------------+--------------------+--------------------+--------------------+---------------------+--------------------+-----------------------+--------------------+-----------------------+\n|summary|  temperatura_prueba|    presion_aplicada|duracion_experimento|         resistencia|         elasticidad|conductividad_termica|            densidad|diametro_nanoparticulas|        espesor_capa|capacidad_absorcion_luz|\n+-------+--------------------+--------------------+--------------------+--------------------+--------------------+---------------------+--------------------+-----------------------+--------------------+-----------------------+\n|  count|                1000|                1000|                1000|                1000|                1000|                 1000|                1000|                   1000|                1000|                   1000|\n|   mean|9.321432514752815...|-5.19545517718711...|-1.10156328503308...|7.23110460398857E-15|-5.27178301013009...| 1.469269150788932...|1.109223823902993...|   2.051470104902364...|3.975708651182685...|   8.672618179161873...|\n| stddev|  0.9999999999999999|  1.0000000000000004|  0.9999999999999998|  0.9999999999999993|  1.0000000000000002|   1.0000000000000002|  0.9999999999999998|     0.9999999999999999|  0.9999999999999996|     1.0000000000000007|\n|    min| -2.7848711102150014|  -2.341943772985377|  -2.279134980551647| -2.0791484020583395|   -2.09280955093192|    -1.20361749982889| -1.7602985522456434|    -1.5381043930457596| -1.6507683625179657|    -2.2548297705350953|\n|    max|  1.9582183719030066|   1.563465520486616|  1.9427884165801452|   2.765738020847262|  3.0381051254226445|    4.393240958237176|   2.939286124583296|     2.0452158777718754|  2.4447178905189904|     1.6703232831873183|\n+-------+--------------------+--------------------+--------------------+--------------------+--------------------+---------------------+--------------------+-----------------------+--------------------+-----------------------+\n\n"
     ]
    }
   ],
   "source": [
    "# Verificamos las estadísticas descriptivas.\n",
    "df_final.select(numeric_cols).describe().show()\n"
   ]
  }
 ],
 "metadata": {
  "application/vnd.databricks.v1+notebook": {
   "dashboards": [],
   "environmentMetadata": null,
   "language": "python",
   "notebookMetadata": {
    "mostRecentlyExecutedCommandWithImplicitDF": {
     "commandId": 1181898690438918,
     "dataframes": [
      "_sqldf"
     ]
    },
    "pythonIndentUnit": 4
   },
   "notebookName": "Capa_bronce_Nanomateriales",
   "widgets": {}
  }
 },
 "nbformat": 4,
 "nbformat_minor": 0
}
